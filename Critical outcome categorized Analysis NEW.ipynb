{
 "cells": [
  {
   "cell_type": "markdown",
   "id": "8a165a46-1ac6-4de4-aedd-47b1fd622f80",
   "metadata": {},
   "source": [
    "# Critical outcome categorized Analysis NEW"
   ]
  },
  {
   "cell_type": "markdown",
   "id": "fc623599-4a82-4f4d-b731-1af693c7170f",
   "metadata": {},
   "source": [
    "## Loading Libraries"
   ]
  },
  {
   "cell_type": "code",
   "execution_count": 1,
   "id": "42726a0c-4e36-41dd-8a43-c465d3ae8bd3",
   "metadata": {
    "tags": []
   },
   "outputs": [
    {
     "name": "stderr",
     "output_type": "stream",
     "text": [
      "2025-04-11 14:34:15.257693: I tensorflow/core/util/port.cc:153] oneDNN custom operations are on. You may see slightly different numerical results due to floating-point round-off errors from different computation orders. To turn them off, set the environment variable `TF_ENABLE_ONEDNN_OPTS=0`.\n",
      "2025-04-11 14:34:15.266208: E external/local_xla/xla/stream_executor/cuda/cuda_fft.cc:485] Unable to register cuFFT factory: Attempting to register factory for plugin cuFFT when one has already been registered\n",
      "2025-04-11 14:34:15.275747: E external/local_xla/xla/stream_executor/cuda/cuda_dnn.cc:8454] Unable to register cuDNN factory: Attempting to register factory for plugin cuDNN when one has already been registered\n",
      "2025-04-11 14:34:15.278874: E external/local_xla/xla/stream_executor/cuda/cuda_blas.cc:1452] Unable to register cuBLAS factory: Attempting to register factory for plugin cuBLAS when one has already been registered\n",
      "2025-04-11 14:34:15.286160: I tensorflow/core/platform/cpu_feature_guard.cc:210] This TensorFlow binary is optimized to use available CPU instructions in performance-critical operations.\n",
      "To enable the following instructions: AVX2 AVX_VNNI FMA, in other operations, rebuild TensorFlow with the appropriate compiler flags.\n",
      "2025-04-11 14:34:15.686592: W tensorflow/compiler/tf2tensorrt/utils/py_utils.cc:38] TF-TRT Warning: Could not find TensorRT\n"
     ]
    }
   ],
   "source": [
    "import pandas as pd\n",
    "import os\n",
    "import time\n",
    "import random\n",
    "import tensorflow as tf\n",
    "import numpy as np\n",
    "import pandas as pd\n",
    "from matplotlib import pyplot as plt\n",
    "from sklearn.preprocessing import LabelEncoder\n",
    "from tensorflow.keras import optimizers, metrics\n",
    "from tensorflow.keras.layers import Dense\n",
    "from tensorflow.keras.models import load_model\n",
    "from tabulate import tabulate\n",
    "\n",
    "pd.set_option('display.max_columns', 200)\n",
    "pd.set_option('display.max_rows', 100)\n",
    "\n",
    "confidence_interval = 95\n",
    "random_seed=0\n",
    "\n",
    "\n"
   ]
  },
  {
   "cell_type": "markdown",
   "id": "3fdc742c-99fa-40ab-a2db-bdc898d156eb",
   "metadata": {},
   "source": [
    "## All Variables Classification"
   ]
  },
  {
   "cell_type": "code",
   "execution_count": 28,
   "id": "280f1afc-a37e-4c1a-99c3-5c621a121ea4",
   "metadata": {
    "tags": []
   },
   "outputs": [],
   "source": [
    "df_master = pd.read_csv('df_master_ready_critical.csv')"
   ]
  },
  {
   "cell_type": "code",
   "execution_count": 29,
   "id": "14b7e823-0e48-44c1-a953-df72810cb04f",
   "metadata": {
    "tags": []
   },
   "outputs": [],
   "source": [
    "from sklearn.preprocessing import LabelEncoder\n",
    "\n",
    "# Fit and transform to get encoded values\n",
    "encoder = LabelEncoder()\n",
    "df_master['arrival_transport_encoded'] = encoder.fit_transform(df_master['arrival_transport'])"
   ]
  },
  {
   "cell_type": "code",
   "execution_count": 52,
   "id": "d873d906-9c6f-45cd-a8d6-6bf8c541808f",
   "metadata": {
    "tags": []
   },
   "outputs": [
    {
     "data": {
      "text/plain": [
       "28170"
      ]
     },
     "execution_count": 52,
     "metadata": {},
     "output_type": "execute_result"
    }
   ],
   "source": [
    "sum(df_master['outcome_critical']==1)"
   ]
  },
  {
   "cell_type": "code",
   "execution_count": null,
   "id": "dae726a0-15a6-4192-a580-a4445156bb1a",
   "metadata": {},
   "outputs": [],
   "source": []
  },
  {
   "cell_type": "code",
   "execution_count": 31,
   "id": "c5877b81-c767-49fe-a268-a24fb7ed7059",
   "metadata": {
    "tags": []
   },
   "outputs": [
    {
     "name": "stderr",
     "output_type": "stream",
     "text": [
      "/home/cstylianides/anaconda3/lib/python3.11/site-packages/scikeras/wrappers.py:925: UserWarning: ``build_fn`` will be renamed to ``model`` in a future release, at which point use of ``build_fn`` will raise an Error instead.\n",
      "  X, y = self._initialize(X, y)\n",
      "/home/cstylianides/anaconda3/lib/python3.11/site-packages/keras/src/layers/core/dense.py:87: UserWarning: Do not pass an `input_shape`/`input_dim` argument to a layer. When using Sequential models, prefer using an `Input(shape)` object as the first layer in the model instead.\n",
      "  super().__init__(activity_regularizer=activity_regularizer, **kwargs)\n",
      "2025-03-16 16:01:00.779000: E external/local_xla/xla/stream_executor/cuda/cuda_driver.cc:266] failed call to cuInit: CUDA_ERROR_NO_DEVICE: no CUDA-capable device is detected\n",
      "/home/cstylianides/anaconda3/lib/python3.11/site-packages/scikeras/wrappers.py:925: UserWarning: ``build_fn`` will be renamed to ``model`` in a future release, at which point use of ``build_fn`` will raise an Error instead.\n",
      "  X, y = self._initialize(X, y)\n",
      "/home/cstylianides/anaconda3/lib/python3.11/site-packages/keras/src/layers/core/dense.py:87: UserWarning: Do not pass an `input_shape`/`input_dim` argument to a layer. When using Sequential models, prefer using an `Input(shape)` object as the first layer in the model instead.\n",
      "  super().__init__(activity_regularizer=activity_regularizer, **kwargs)\n",
      "/home/cstylianides/anaconda3/lib/python3.11/site-packages/scikeras/wrappers.py:925: UserWarning: ``build_fn`` will be renamed to ``model`` in a future release, at which point use of ``build_fn`` will raise an Error instead.\n",
      "  X, y = self._initialize(X, y)\n",
      "/home/cstylianides/anaconda3/lib/python3.11/site-packages/keras/src/layers/core/dense.py:87: UserWarning: Do not pass an `input_shape`/`input_dim` argument to a layer. When using Sequential models, prefer using an `Input(shape)` object as the first layer in the model instead.\n",
      "  super().__init__(activity_regularizer=activity_regularizer, **kwargs)\n",
      "/home/cstylianides/anaconda3/lib/python3.11/site-packages/scikeras/wrappers.py:925: UserWarning: ``build_fn`` will be renamed to ``model`` in a future release, at which point use of ``build_fn`` will raise an Error instead.\n",
      "  X, y = self._initialize(X, y)\n",
      "/home/cstylianides/anaconda3/lib/python3.11/site-packages/keras/src/layers/core/dense.py:87: UserWarning: Do not pass an `input_shape`/`input_dim` argument to a layer. When using Sequential models, prefer using an `Input(shape)` object as the first layer in the model instead.\n",
      "  super().__init__(activity_regularizer=activity_regularizer, **kwargs)\n",
      "/home/cstylianides/anaconda3/lib/python3.11/site-packages/scikeras/wrappers.py:925: UserWarning: ``build_fn`` will be renamed to ``model`` in a future release, at which point use of ``build_fn`` will raise an Error instead.\n",
      "  X, y = self._initialize(X, y)\n",
      "/home/cstylianides/anaconda3/lib/python3.11/site-packages/keras/src/layers/core/dense.py:87: UserWarning: Do not pass an `input_shape`/`input_dim` argument to a layer. When using Sequential models, prefer using an `Input(shape)` object as the first layer in the model instead.\n",
      "  super().__init__(activity_regularizer=activity_regularizer, **kwargs)\n"
     ]
    },
    {
     "name": "stdout",
     "output_type": "stream",
     "text": [
      "\n",
      "🔹 Gradient Boosting Performance (Train Set) 🔹\n",
      "✅ Accuracy: 0.8057 ± 0.0063\n",
      "✅ AUC-ROC: 0.8972 ± 0.0006\n",
      "✅ AUC-PR: 0.4786 ± 0.0021\n",
      "\n",
      "🔹 Gradient Boosting Performance (Validation Set) 🔹\n",
      "✅ Accuracy: 0.8078 ± 0.0218\n",
      "✅ AUC-ROC: 0.8953 ± 0.0034\n",
      "✅ AUC-PR: 0.4695 ± 0.0117\n",
      "✅ Sensitivity: 0.8249 ± 0.0157\n",
      "✅ Specificity: 0.8066 ± 0.0244\n",
      "\n",
      "🔹 Random Forest Performance (Train Set) 🔹\n",
      "✅ Accuracy: 0.9973 ± 0.0004\n",
      "✅ AUC-ROC: 0.9998 ± 0.0000\n",
      "✅ AUC-PR: 0.9950 ± 0.0004\n",
      "\n",
      "🔹 Random Forest Performance (Validation Set) 🔹\n",
      "✅ Accuracy: 0.8136 ± 0.0297\n",
      "✅ AUC-ROC: 0.8902 ± 0.0024\n",
      "✅ AUC-PR: 0.4556 ± 0.0058\n",
      "✅ Sensitivity: 0.8081 ± 0.0349\n",
      "✅ Specificity: 0.8139 ± 0.0342\n",
      "\n",
      "🔹 Logistic Regression Performance (Train Set) 🔹\n",
      "✅ Accuracy: 0.7717 ± 0.0103\n",
      "✅ AUC-ROC: 0.8736 ± 0.0009\n",
      "✅ AUC-PR: 0.3913 ± 0.0027\n",
      "\n",
      "🔹 Logistic Regression Performance (Validation Set) 🔹\n",
      "✅ Accuracy: 0.7669 ± 0.0176\n",
      "✅ AUC-ROC: 0.8729 ± 0.0035\n",
      "✅ AUC-PR: 0.3898 ± 0.0109\n",
      "✅ Sensitivity: 0.8259 ± 0.0273\n",
      "✅ Specificity: 0.7627 ± 0.0208\n",
      "\n",
      "🔹 Neural Network Performance (Train Set) 🔹\n",
      "✅ Accuracy: 0.7991 ± 0.0188\n",
      "✅ AUC-ROC: 0.8981 ± 0.0023\n",
      "✅ AUC-PR: 0.4594 ± 0.0088\n",
      "\n",
      "🔹 Neural Network Performance (Validation Set) 🔹\n",
      "✅ Accuracy: 0.7971 ± 0.0200\n",
      "✅ AUC-ROC: 0.8949 ± 0.0053\n",
      "✅ AUC-PR: 0.4489 ± 0.0181\n",
      "✅ Sensitivity: 0.8385 ± 0.0340\n",
      "✅ Specificity: 0.7942 ± 0.0238\n"
     ]
    },
    {
     "data": {
      "image/png": "[encoded data removed]",
      "text/plain": [
       "<Figure size 1000x600 with 1 Axes>"
      ]
     },
     "metadata": {},
     "output_type": "display_data"
    },
    {
     "name": "stdout",
     "output_type": "stream",
     "text": [
      "\n",
      "🔹 Feature Importances (Gradient Boosting):\n",
      "                         Feature  Gradient Boosting Importance\n",
      "19            triage_acuity_iter                      0.378825\n",
      "20     arrival_transport_encoded                      0.205000\n",
      "69                    score_NEWS                      0.122326\n",
      "16               triage_sbp_iter                      0.059727\n",
      "2                      med_event                      0.031654\n",
      "67                    score_CART                      0.029340\n",
      "66                     score_CCI                      0.024624\n",
      "11                    n_icu_365d                      0.021436\n",
      "13         triage_heartrate_iter                      0.018074\n",
      "14          triage_resprate_iter                      0.017102\n",
      "0                            age                      0.013752\n",
      "17               triage_dbp_iter                      0.012262\n",
      "18              triage_pain_iter                      0.010820\n",
      "70                   score_NEWS2                      0.010057\n",
      "5                      n_ed_365d                      0.009219\n",
      "21           chiefcom_chest_pain                      0.009010\n",
      "15             triage_o2sat_iter                      0.007500\n",
      "10                     n_icu_90d                      0.004027\n",
      "29              chiefcom_syncope                      0.002328\n",
      "1                         gender                      0.002001\n",
      "71                    score_MEWS                      0.001150\n",
      "56              eci_Coagulopathy                      0.001083\n",
      "30            chiefcom_dizziness                      0.001068\n",
      "9                      n_icu_30d                      0.001055\n",
      "45                    cci_Liver2                      0.000769\n",
      "40                       cci_DM1                      0.000636\n",
      "4                       n_ed_90d                      0.000550\n",
      "64                 eci_Psychoses                      0.000484\n",
      "59               eci_FluidsLytes                      0.000462\n",
      "68                    score_REMS                      0.000454\n",
      "46                   cci_Cancer2                      0.000412\n",
      "32                       cci_CHF                      0.000372\n",
      "8                    n_hosp_365d                      0.000338\n",
      "7                     n_hosp_90d                      0.000289\n",
      "25            chiefcom_back_pain                      0.000281\n",
      "62                   eci_Alcohol                      0.000254\n",
      "63                     eci_Drugs                      0.000252\n",
      "65                eci_Depression                      0.000240\n",
      "36                 cci_Pulmonary                      0.000155\n",
      "52                      eci_HTN2                      0.000143\n",
      "12       triage_temperature_iter                      0.000122\n",
      "58                eci_WeightLoss                      0.000094\n",
      "24  chiefcom_shortness_of_breath                      0.000071\n",
      "57                   eci_Obesity                      0.000058\n",
      "60                 eci_BloodLoss                      0.000049\n",
      "49                  eci_Valvular                      0.000041\n",
      "28         chiefcom_fever_chills                      0.000034\n",
      "23             chiefcom_headache                      0.000000\n",
      "6                     n_hosp_30d                      0.000000\n",
      "26                chiefcom_cough                      0.000000\n",
      "27      chiefcom_nausea_vomiting                      0.000000\n",
      "31                        cci_MI                      0.000000\n",
      "33                       cci_PVD                      0.000000\n",
      "61                    eci_Anemia                      0.000000\n",
      "3                       n_ed_30d                      0.000000\n",
      "34                    cci_Stroke                      0.000000\n",
      "39                    cci_Liver1                      0.000000\n",
      "35                  cci_Dementia                      0.000000\n",
      "38                       cci_PUD                      0.000000\n",
      "54               eci_Hypothyroid                      0.000000\n",
      "53                eci_NeuroOther                      0.000000\n",
      "51                      eci_HTN1                      0.000000\n",
      "50                      eci_PHTN                      0.000000\n",
      "48                eci_Arrhythmia                      0.000000\n",
      "47                       cci_HIV                      0.000000\n",
      "22       chiefcom_abdominal_pain                      0.000000\n",
      "37                 cci_Rheumatic                      0.000000\n",
      "44                   cci_Cancer1                      0.000000\n",
      "43                     cci_Renal                      0.000000\n",
      "42                 cci_Paralysis                      0.000000\n",
      "41                       cci_DM2                      0.000000\n",
      "55                  eci_Lymphoma                      0.000000\n"
     ]
    }
   ],
   "source": [
    "import pandas as pd\n",
    "import numpy as np\n",
    "from tqdm import tqdm  # For progress bars\n",
    "from sklearn.pipeline import Pipeline\n",
    "from sklearn.preprocessing import StandardScaler\n",
    "from sklearn.ensemble import GradientBoostingClassifier, RandomForestClassifier\n",
    "from sklearn.linear_model import LogisticRegression\n",
    "from sklearn.model_selection import StratifiedKFold, train_test_split\n",
    "from sklearn.metrics import (\n",
    "    accuracy_score, roc_auc_score, average_precision_score,\n",
    "    confusion_matrix, roc_curve, precision_recall_curve\n",
    ")\n",
    "from tensorflow.keras.models import Sequential\n",
    "from tensorflow.keras.layers import Dense\n",
    "from tensorflow.keras.optimizers import Adam\n",
    "from tensorflow.keras.metrics import AUC\n",
    "from scikeras.wrappers import KerasClassifier\n",
    "from sklearn.preprocessing import LabelEncoder\n",
    "\n",
    "# Define the feature set\n",
    "variable = [\"age\", \"gender\", 'med_event', \"n_ed_30d\", \"n_ed_90d\", \"n_ed_365d\", \"n_hosp_30d\", \"n_hosp_90d\", \n",
    "            \"n_hosp_365d\", \"n_icu_30d\", \"n_icu_90d\", \"n_icu_365d\", \"triage_temperature_iter\", \"triage_heartrate_iter\", \n",
    "            \"triage_resprate_iter\", \"triage_o2sat_iter\", \"triage_sbp_iter\", \"triage_dbp_iter\", \"triage_pain_iter\", \n",
    "            \"triage_acuity_iter\", 'arrival_transport_encoded', \"chiefcom_chest_pain\", \"chiefcom_abdominal_pain\", \n",
    "            \"chiefcom_headache\", \"chiefcom_shortness_of_breath\", \"chiefcom_back_pain\", \"chiefcom_cough\", \n",
    "            \"chiefcom_nausea_vomiting\", \"chiefcom_fever_chills\", \"chiefcom_syncope\", \"chiefcom_dizziness\", \"cci_MI\", \n",
    "            \"cci_CHF\", \"cci_PVD\", \"cci_Stroke\", \"cci_Dementia\", \"cci_Pulmonary\", \"cci_Rheumatic\", \"cci_PUD\", \n",
    "            \"cci_Liver1\", \"cci_DM1\", \"cci_DM2\", \"cci_Paralysis\", \"cci_Renal\", \"cci_Cancer1\", \"cci_Liver2\", \n",
    "            \"cci_Cancer2\", \"cci_HIV\", \"eci_Arrhythmia\", \"eci_Valvular\", \"eci_PHTN\", \"eci_HTN1\", \"eci_HTN2\", \n",
    "            \"eci_NeuroOther\", \"eci_Hypothyroid\", \"eci_Lymphoma\", \"eci_Coagulopathy\", \"eci_Obesity\", \"eci_WeightLoss\", \n",
    "            \"eci_FluidsLytes\", \"eci_BloodLoss\", \"eci_Anemia\", \"eci_Alcohol\", \"eci_Drugs\",\"eci_Psychoses\", \"eci_Depression\",\n",
    "            \"score_CCI\",\"score_CART\",\"score_REMS\",\"score_NEWS\",\"score_NEWS2\",\"score_MEWS\"]\n",
    "\n",
    "\n",
    "target = \"outcome_critical\"\n",
    "\n",
    "\n",
    "\n",
    "\n",
    "# Split the dataset into training and testing sets\n",
    "X = df_master[variable]\n",
    "y = df_master[target]\n",
    "X_train, X_test, y_train, y_test = train_test_split(\n",
    "    X, y, test_size=0.2, random_state=42, stratify=y\n",
    ")\n",
    "\n",
    "# Define Stratified 5-Fold Cross-Validation\n",
    "cv = StratifiedKFold(n_splits=5, shuffle=True, random_state=42)\n",
    "\n",
    "# Define classifiers in a pipeline\n",
    "models = {\n",
    "    \"Gradient Boosting\": Pipeline([\n",
    "        (\"scaler\", StandardScaler()), \n",
    "        (\"classifier\", GradientBoostingClassifier(n_estimators=100, random_state=42))\n",
    "    ]),\n",
    "    \"Random Forest\": Pipeline([\n",
    "        (\"scaler\", StandardScaler()), \n",
    "        (\"classifier\", RandomForestClassifier(n_estimators=100, random_state=42))\n",
    "    ]),\n",
    "    \"Logistic Regression\": Pipeline([\n",
    "        (\"scaler\", StandardScaler()), \n",
    "        (\"classifier\", LogisticRegression(max_iter=1000, random_state=42))\n",
    "    ])\n",
    "}\n",
    "\n",
    "# Define Deep Learning Model Wrapper\n",
    "def create_mlp():\n",
    "    model = Sequential([\n",
    "        Dense(64, activation='relu', input_shape=(X_train.shape[1],)),\n",
    "        Dense(32, activation='relu'),\n",
    "        Dense(1, activation='sigmoid')\n",
    "    ])\n",
    "    model.compile(optimizer=Adam(learning_rate=0.001), loss='binary_crossentropy', metrics=[AUC(name='auc')])\n",
    "    return model\n",
    "\n",
    "models[\"Neural Network\"] = Pipeline([\n",
    "    (\"classifier\", KerasClassifier(build_fn=create_mlp, epochs=20, batch_size=64, verbose=0))\n",
    "])\n",
    "\n",
    "# Store results\n",
    "metrics = [\"Accuracy\", \"AUC-ROC\", \"AUC-PR\", \"Sensitivity\", \"Specificity\"]\n",
    "train_results = {model_name: {metric: [] for metric in metrics} for model_name in models.keys()}\n",
    "test_results = {model_name: {metric: [] for metric in metrics} for model_name in models.keys()}\n",
    "feature_importances = {\"Gradient Boosting\": None, \"Random Forest\": None}\n",
    "\n",
    "# Define a function to find the optimal threshold using Youden's index\n",
    "def find_optimal_threshold(y_true, y_scores):\n",
    "    fpr, tpr, thresholds = roc_curve(y_true, y_scores)\n",
    "    youden_index = tpr - fpr\n",
    "    optimal_idx = np.argmax(youden_index)\n",
    "    optimal_threshold = thresholds[optimal_idx]\n",
    "    return optimal_threshold\n",
    "\n",
    "# Run Stratified 5-Fold Cross-Validation with threshold optimization\n",
    "for model_name, pipeline in models.items():\n",
    "    for train_idx, val_idx in cv.split(X_train, y_train):\n",
    "        X_train_fold, X_val_fold = X_train.iloc[train_idx], X_train.iloc[val_idx]\n",
    "        y_train_fold, y_val_fold = y_train.iloc[train_idx], y_train.iloc[val_idx]\n",
    "\n",
    "        # Train the model on the training fold\n",
    "        pipeline.fit(X_train_fold, y_train_fold)\n",
    "\n",
    "        # Get predicted probabilities for training and validation sets\n",
    "        if hasattr(pipeline.named_steps[\"classifier\"], \"predict_proba\"):\n",
    "            y_train_pred_prob = pipeline.predict_proba(X_train_fold)[:, 1]\n",
    "            y_val_pred_prob = pipeline.predict_proba(X_val_fold)[:, 1]\n",
    "        else:\n",
    "            y_train_pred_prob = pipeline.predict(X_train_fold)\n",
    "            y_val_pred_prob = pipeline.predict(X_val_fold)\n",
    "\n",
    "        # Determine optimal thresholds using Youden's index for both training and validation folds\n",
    "        optimal_threshold_train = find_optimal_threshold(y_train_fold, y_train_pred_prob)\n",
    "        optimal_threshold_val = find_optimal_threshold(y_val_fold, y_val_pred_prob)\n",
    "\n",
    "        # Compute binary predictions using the optimal thresholds\n",
    "        y_train_pred_opt = (y_train_pred_prob >= optimal_threshold_train).astype(int)\n",
    "        y_val_pred_opt = (y_val_pred_prob >= optimal_threshold_val).astype(int)\n",
    "\n",
    "        # Compute train metrics (using optimal threshold predictions)\n",
    "        train_results[model_name][\"Accuracy\"].append(accuracy_score(y_train_fold, y_train_pred_opt))\n",
    "        train_results[model_name][\"AUC-ROC\"].append(roc_auc_score(y_train_fold, y_train_pred_prob))\n",
    "        train_results[model_name][\"AUC-PR\"].append(average_precision_score(y_train_fold, y_train_pred_prob))\n",
    "        \n",
    "        # Compute sensitivity and specificity on the validation fold using the optimal threshold\n",
    "        conf_matrix = confusion_matrix(y_train_fold, y_train_pred_opt)\n",
    "        sensitivity = conf_matrix[1, 1] / (conf_matrix[1, 0] + conf_matrix[1, 1]) if (conf_matrix[1, 0] + conf_matrix[1, 1]) > 0 else 0\n",
    "        specificity = conf_matrix[0, 0] / (conf_matrix[0, 0] + conf_matrix[0, 1]) if (conf_matrix[0, 0] + conf_matrix[0, 1]) > 0 else 0\n",
    "\n",
    "        train_results[model_name][\"Sensitivity\"].append(sensitivity)\n",
    "        train_results[model_name][\"Specificity\"].append(specificity)\n",
    "\n",
    "        # Compute validation (test) metrics (using optimal threshold predictions)\n",
    "        test_results[model_name][\"Accuracy\"].append(accuracy_score(y_val_fold, y_val_pred_opt))\n",
    "        test_results[model_name][\"AUC-ROC\"].append(roc_auc_score(y_val_fold, y_val_pred_prob))\n",
    "        test_results[model_name][\"AUC-PR\"].append(average_precision_score(y_val_fold, y_val_pred_prob))\n",
    "\n",
    "        # Compute sensitivity and specificity on the validation fold using the optimal threshold\n",
    "        conf_matrix = confusion_matrix(y_val_fold, y_val_pred_opt)\n",
    "        sensitivity = conf_matrix[1, 1] / (conf_matrix[1, 0] + conf_matrix[1, 1]) if (conf_matrix[1, 0] + conf_matrix[1, 1]) > 0 else 0\n",
    "        specificity = conf_matrix[0, 0] / (conf_matrix[0, 0] + conf_matrix[0, 1]) if (conf_matrix[0, 0] + conf_matrix[0, 1]) > 0 else 0\n",
    "\n",
    "        test_results[model_name][\"Sensitivity\"].append(sensitivity)\n",
    "        test_results[model_name][\"Specificity\"].append(specificity)\n",
    "\n",
    "    # Store feature importances for tree-based models\n",
    "    if hasattr(pipeline.named_steps[\"classifier\"], \"feature_importances_\"):\n",
    "        feature_importances[model_name] = pipeline.named_steps[\"classifier\"].feature_importances_\n",
    "\n",
    "# Compute Mean ± 2SD for Train and Validation Scores\n",
    "for model_name in models.keys():\n",
    "    print(f\"\\n🔹 {model_name} Performance (Train Set) 🔹\")\n",
    "    for metric in metrics[:3]:  # Accuracy, AUC-ROC, AUC-PR\n",
    "        mean = np.mean(train_results[model_name][metric])\n",
    "        std = np.std(train_results[model_name][metric])\n",
    "        print(f\"✅ {metric}: {mean:.4f} ± {2 * std:.4f}\")\n",
    "\n",
    "    print(f\"\\n🔹 {model_name} Performance (Validation Set) 🔹\")\n",
    "    for metric in metrics:\n",
    "        mean = np.mean(test_results[model_name][metric])\n",
    "        std = np.std(test_results[model_name][metric])\n",
    "        print(f\"✅ {metric}: {mean:.4f} ± {2 * std:.4f}\")\n",
    "\n",
    "# Store feature importances and plot them for tree-based models (GB)\n",
    "if feature_importances[\"Gradient Boosting\"] is not None:\n",
    "    feature_importance_df = pd.DataFrame({\n",
    "        \"Feature\": variable,\n",
    "        \"Gradient Boosting Importance\": feature_importances[\"Gradient Boosting\"]\n",
    "    }).sort_values(by=\"Gradient Boosting Importance\", ascending=False)\n",
    "\n",
    "    # Plot Feature Importance for Gradient Boosting\n",
    "    import matplotlib.pyplot as plt\n",
    "    plt.figure(figsize=(10, 6))\n",
    "    plt.barh(feature_importance_df[\"Feature\"], feature_importance_df[\"Gradient Boosting Importance\"], color='steelblue')\n",
    "    plt.xlabel(\"Importance Score\")\n",
    "    plt.ylabel(\"Feature Name\")\n",
    "    plt.title(\"Feature Importance (Gradient Boosting)\")\n",
    "    plt.gca().invert_yaxis()\n",
    "    plt.grid(axis=\"x\", linestyle=\"--\", alpha=0.7)\n",
    "    plt.show()\n",
    "\n",
    "    print(\"\\n🔹 Feature Importances (Gradient Boosting):\")\n",
    "    print(feature_importance_df)\n"
   ]
  },
  {
   "cell_type": "markdown",
   "id": "08f8b297-022b-4c40-a755-31a7155af2bb",
   "metadata": {
    "tags": []
   },
   "source": [
    "## Top 15 var's (Categorized)"
   ]
  },
  {
   "cell_type": "code",
   "execution_count": 2,
   "id": "0fdd860a-1f83-46a9-90c5-80bab949e29c",
   "metadata": {
    "tags": []
   },
   "outputs": [],
   "source": [
    "df_master = pd.read_csv('df_critical_categorical_variables_15_3_Latest.csv')"
   ]
  },
  {
   "cell_type": "code",
   "execution_count": 3,
   "id": "28eb2e40-6ecb-41e9-ae60-a2be66b9bf2f",
   "metadata": {
    "tags": []
   },
   "outputs": [
    {
     "name": "stdout",
     "output_type": "stream",
     "text": [
      "Classes found by LabelEncoder: ['AMBULANCE' 'HELICOPTER' 'OTHER' 'UNKNOWN' 'WALK IN']\n"
     ]
    }
   ],
   "source": [
    "from sklearn.preprocessing import LabelEncoder\n",
    "\n",
    "# Fit and transform to get encoded values\n",
    "encoder = LabelEncoder()\n",
    "df_master['arrival_transport_encoded'] = encoder.fit_transform(df_master['arrival_transport'])\n",
    "\n",
    "# see the classes\n",
    "print(\"Classes found by LabelEncoder:\", encoder.classes_)"
   ]
  },
  {
   "cell_type": "code",
   "execution_count": 4,
   "id": "63b06116-79a0-40b8-904b-91d58c5b80f9",
   "metadata": {
    "tags": []
   },
   "outputs": [
    {
     "name": "stdout",
     "output_type": "stream",
     "text": [
      "     arrival_transport  arrival_transport_encoded\n",
      "0            AMBULANCE                          0\n",
      "5              WALK IN                          4\n",
      "22             UNKNOWN                          3\n",
      "194              OTHER                          2\n",
      "1400        HELICOPTER                          1\n"
     ]
    }
   ],
   "source": [
    "mapping = df_master[['arrival_transport', 'arrival_transport_encoded']].drop_duplicates()\n",
    "print(mapping)"
   ]
  },
  {
   "cell_type": "code",
   "execution_count": 57,
   "id": "7707364f-c341-49a7-9e6e-34ae49f60941",
   "metadata": {
    "tags": []
   },
   "outputs": [
    {
     "name": "stderr",
     "output_type": "stream",
     "text": [
      "/home/cstylianides/anaconda3/lib/python3.11/site-packages/scikeras/wrappers.py:925: UserWarning:\n",
      "\n",
      "``build_fn`` will be renamed to ``model`` in a future release, at which point use of ``build_fn`` will raise an Error instead.\n",
      "\n",
      "/home/cstylianides/anaconda3/lib/python3.11/site-packages/keras/src/layers/core/dense.py:87: UserWarning:\n",
      "\n",
      "Do not pass an `input_shape`/`input_dim` argument to a layer. When using Sequential models, prefer using an `Input(shape)` object as the first layer in the model instead.\n",
      "\n",
      "/home/cstylianides/anaconda3/lib/python3.11/site-packages/scikeras/wrappers.py:925: UserWarning:\n",
      "\n",
      "``build_fn`` will be renamed to ``model`` in a future release, at which point use of ``build_fn`` will raise an Error instead.\n",
      "\n",
      "/home/cstylianides/anaconda3/lib/python3.11/site-packages/keras/src/layers/core/dense.py:87: UserWarning:\n",
      "\n",
      "Do not pass an `input_shape`/`input_dim` argument to a layer. When using Sequential models, prefer using an `Input(shape)` object as the first layer in the model instead.\n",
      "\n",
      "/home/cstylianides/anaconda3/lib/python3.11/site-packages/scikeras/wrappers.py:925: UserWarning:\n",
      "\n",
      "``build_fn`` will be renamed to ``model`` in a future release, at which point use of ``build_fn`` will raise an Error instead.\n",
      "\n",
      "/home/cstylianides/anaconda3/lib/python3.11/site-packages/keras/src/layers/core/dense.py:87: UserWarning:\n",
      "\n",
      "Do not pass an `input_shape`/`input_dim` argument to a layer. When using Sequential models, prefer using an `Input(shape)` object as the first layer in the model instead.\n",
      "\n",
      "/home/cstylianides/anaconda3/lib/python3.11/site-packages/scikeras/wrappers.py:925: UserWarning:\n",
      "\n",
      "``build_fn`` will be renamed to ``model`` in a future release, at which point use of ``build_fn`` will raise an Error instead.\n",
      "\n",
      "/home/cstylianides/anaconda3/lib/python3.11/site-packages/keras/src/layers/core/dense.py:87: UserWarning:\n",
      "\n",
      "Do not pass an `input_shape`/`input_dim` argument to a layer. When using Sequential models, prefer using an `Input(shape)` object as the first layer in the model instead.\n",
      "\n",
      "/home/cstylianides/anaconda3/lib/python3.11/site-packages/scikeras/wrappers.py:925: UserWarning:\n",
      "\n",
      "``build_fn`` will be renamed to ``model`` in a future release, at which point use of ``build_fn`` will raise an Error instead.\n",
      "\n",
      "/home/cstylianides/anaconda3/lib/python3.11/site-packages/keras/src/layers/core/dense.py:87: UserWarning:\n",
      "\n",
      "Do not pass an `input_shape`/`input_dim` argument to a layer. When using Sequential models, prefer using an `Input(shape)` object as the first layer in the model instead.\n",
      "\n"
     ]
    },
    {
     "name": "stdout",
     "output_type": "stream",
     "text": [
      "\n",
      "🔹 Gradient Boosting Performance (Train Set) 🔹\n",
      "✅ Accuracy: 0.7799 ± 0.0058\n",
      "✅ AUC-ROC: 0.8881 ± 0.0017\n",
      "✅ AUC-PR: 0.4492 ± 0.0052\n",
      "✅ Sensitivity: 0.8373 ± 0.0065\n",
      "✅ Specificity: 0.7758 ± 0.0067\n",
      "\n",
      "🔹 Gradient Boosting Performance (Validation Set) 🔹\n",
      "✅ Accuracy: 0.7821 ± 0.0206\n",
      "✅ AUC-ROC: 0.8869 ± 0.0018\n",
      "✅ AUC-PR: 0.4450 ± 0.0111\n",
      "✅ Sensitivity: 0.8336 ± 0.0263\n",
      "✅ Specificity: 0.7785 ± 0.0239\n",
      "\n",
      "🔹 Random Forest Performance (Train Set) 🔹\n",
      "✅ Accuracy: 0.9045 ± 0.0062\n",
      "✅ AUC-ROC: 0.9796 ± 0.0003\n",
      "✅ AUC-PR: 0.8490 ± 0.0013\n",
      "✅ Sensitivity: 0.9357 ± 0.0089\n",
      "✅ Specificity: 0.9023 ± 0.0072\n",
      "\n",
      "🔹 Random Forest Performance (Validation Set) 🔹\n",
      "✅ Accuracy: 0.7852 ± 0.0198\n",
      "✅ AUC-ROC: 0.8357 ± 0.0040\n",
      "✅ AUC-PR: 0.3618 ± 0.0091\n",
      "✅ Sensitivity: 0.7554 ± 0.0268\n",
      "✅ Specificity: 0.7873 ± 0.0230\n",
      "\n",
      "🔹 Logistic Regression Performance (Train Set) 🔹\n",
      "✅ Accuracy: 0.7696 ± 0.0025\n",
      "✅ AUC-ROC: 0.8632 ± 0.0009\n",
      "✅ AUC-PR: 0.3700 ± 0.0031\n",
      "✅ Sensitivity: 0.7988 ± 0.0045\n",
      "✅ Specificity: 0.7675 ± 0.0029\n",
      "\n",
      "🔹 Logistic Regression Performance (Validation Set) 🔹\n",
      "✅ Accuracy: 0.7727 ± 0.0122\n",
      "✅ AUC-ROC: 0.8631 ± 0.0039\n",
      "✅ AUC-PR: 0.3700 ± 0.0128\n",
      "✅ Sensitivity: 0.7964 ± 0.0228\n",
      "✅ Specificity: 0.7711 ± 0.0146\n",
      "\n",
      "🔹 Neural Network Performance (Train Set) 🔹\n",
      "✅ Accuracy: 0.7923 ± 0.0197\n",
      "✅ AUC-ROC: 0.8960 ± 0.0012\n",
      "✅ AUC-PR: 0.4725 ± 0.0033\n",
      "✅ Sensitivity: 0.8380 ± 0.0213\n",
      "✅ Specificity: 0.7891 ± 0.0226\n",
      "\n",
      "🔹 Neural Network Performance (Validation Set) 🔹\n",
      "✅ Accuracy: 0.7854 ± 0.0140\n",
      "✅ AUC-ROC: 0.8921 ± 0.0027\n",
      "✅ AUC-PR: 0.4573 ± 0.0109\n",
      "✅ Sensitivity: 0.8383 ± 0.0165\n",
      "✅ Specificity: 0.7816 ± 0.0160\n"
     ]
    },
    {
     "data": {
      "image/png": "[encoded data removed]",
      "text/plain": [
       "<Figure size 1000x600 with 1 Axes>"
      ]
     },
     "metadata": {},
     "output_type": "display_data"
    },
    {
     "name": "stdout",
     "output_type": "stream",
     "text": [
      "\n",
      "🔹 Feature Importances (Gradient Boosting):\n",
      "                          Feature  Gradient Boosting Importance\n",
      "0      triage_acuity_iter_numeric                      0.425607\n",
      "1       arrival_transport_encoded                      0.234047\n",
      "2              score_NEWS_numeric                      0.107378\n",
      "5              score_CART_numeric                      0.049434\n",
      "3         triage_sbp_iter_numeric                      0.037507\n",
      "4                       med_event                      0.036316\n",
      "6               score_CCI_numeric                      0.028523\n",
      "7              n_icu_365d_numeric                      0.025179\n",
      "12       triage_pain_iter_numeric                      0.017192\n",
      "10                    age_numeric                      0.013417\n",
      "9    triage_resprate_iter_numeric                      0.010545\n",
      "8   triage_heartrate_iter_numeric                      0.009451\n",
      "11        triage_dbp_iter_numeric                      0.005404\n"
     ]
    }
   ],
   "source": [
    "import pandas as pd\n",
    "import numpy as np\n",
    "from tqdm import tqdm  # For progress bars\n",
    "from sklearn.pipeline import Pipeline\n",
    "from sklearn.preprocessing import StandardScaler\n",
    "from sklearn.ensemble import GradientBoostingClassifier, RandomForestClassifier\n",
    "from sklearn.linear_model import LogisticRegression\n",
    "from sklearn.model_selection import StratifiedKFold, train_test_split\n",
    "from sklearn.metrics import (\n",
    "    accuracy_score, roc_auc_score, average_precision_score,\n",
    "    confusion_matrix, roc_curve, precision_recall_curve\n",
    ")\n",
    "from tensorflow.keras.models import Sequential\n",
    "from tensorflow.keras.layers import Dense\n",
    "from tensorflow.keras.optimizers import Adam\n",
    "from tensorflow.keras.metrics import AUC\n",
    "from scikeras.wrappers import KerasClassifier\n",
    "from sklearn.preprocessing import LabelEncoder\n",
    "\n",
    "# Define the feature set (top 13)\n",
    "variable = [\n",
    "    'triage_acuity_iter_numeric',\n",
    "    'arrival_transport_encoded',\n",
    "    'score_NEWS_numeric',\n",
    "    'triage_sbp_iter_numeric',\n",
    "    'med_event',\n",
    "    'score_CART_numeric',\n",
    "    'score_CCI_numeric',\n",
    "    'n_icu_365d_numeric',\n",
    "    'triage_heartrate_iter_numeric',\n",
    "    'triage_resprate_iter_numeric',\n",
    "    'age_numeric',\n",
    "    'triage_dbp_iter_numeric',\n",
    "    'triage_pain_iter_numeric',\n",
    "    #'score_NEWS2_numeric',\n",
    "    #'n_ed_365d_numeric'\n",
    "\n",
    "]\n",
    "\n",
    "\n",
    "target = \"outcome_critical\"\n",
    "\n",
    "\n",
    "\n",
    "\n",
    "# Split the dataset into training and testing sets\n",
    "X = df_master[variable]\n",
    "y = df_master[target]\n",
    "X_train, X_test, y_train, y_test = train_test_split(\n",
    "    X, y, test_size=0.2, random_state=42, stratify=y\n",
    ")\n",
    "\n",
    "# Define Stratified 5-Fold Cross-Validation\n",
    "cv = StratifiedKFold(n_splits=5, shuffle=True, random_state=42)\n",
    "\n",
    "# Define classifiers in a pipeline\n",
    "models = {\n",
    "    \"Gradient Boosting\": Pipeline([\n",
    "        (\"scaler\", StandardScaler()), \n",
    "        (\"classifier\", GradientBoostingClassifier(n_estimators=100, random_state=42))\n",
    "    ]),\n",
    "    \"Random Forest\": Pipeline([\n",
    "        (\"scaler\", StandardScaler()), \n",
    "        (\"classifier\", RandomForestClassifier(n_estimators=100, random_state=42))\n",
    "    ]),\n",
    "    \"Logistic Regression\": Pipeline([\n",
    "        (\"scaler\", StandardScaler()), \n",
    "        (\"classifier\", LogisticRegression(max_iter=1000, random_state=42))\n",
    "    ])\n",
    "}\n",
    "\n",
    "# Define Deep Learning Model Wrapper\n",
    "def create_mlp():\n",
    "    model = Sequential([\n",
    "        Dense(64, activation='relu', input_shape=(X_train.shape[1],)),\n",
    "        Dense(32, activation='relu'),\n",
    "        Dense(1, activation='sigmoid')\n",
    "    ])\n",
    "    model.compile(optimizer=Adam(learning_rate=0.001), loss='binary_crossentropy', metrics=[AUC(name='auc')])\n",
    "    return model\n",
    "\n",
    "models[\"Neural Network\"] = Pipeline([\n",
    "    (\"classifier\", KerasClassifier(build_fn=create_mlp, epochs=20, batch_size=64, verbose=0))\n",
    "])\n",
    "\n",
    "# Store results\n",
    "metrics = [\"Accuracy\", \"AUC-ROC\", \"AUC-PR\", \"Sensitivity\", \"Specificity\"]\n",
    "train_results = {model_name: {metric: [] for metric in metrics} for model_name in models.keys()}\n",
    "test_results = {model_name: {metric: [] for metric in metrics} for model_name in models.keys()}\n",
    "feature_importances = {\"Gradient Boosting\": None, \"Random Forest\": None}\n",
    "\n",
    "# Define a function to find the optimal threshold using Youden's index\n",
    "def find_optimal_threshold(y_true, y_scores):\n",
    "    fpr, tpr, thresholds = roc_curve(y_true, y_scores)\n",
    "    youden_index = tpr - fpr\n",
    "    optimal_idx = np.argmax(youden_index)\n",
    "    optimal_threshold = thresholds[optimal_idx]\n",
    "    return optimal_threshold\n",
    "\n",
    "# Run Stratified 5-Fold Cross-Validation with threshold optimization\n",
    "for model_name, pipeline in models.items():\n",
    "    for train_idx, val_idx in cv.split(X_train, y_train):\n",
    "        X_train_fold, X_val_fold = X_train.iloc[train_idx], X_train.iloc[val_idx]\n",
    "        y_train_fold, y_val_fold = y_train.iloc[train_idx], y_train.iloc[val_idx]\n",
    "\n",
    "        # Train the model on the training fold\n",
    "        pipeline.fit(X_train_fold, y_train_fold)\n",
    "\n",
    "        # Get predicted probabilities for training and validation sets\n",
    "        if hasattr(pipeline.named_steps[\"classifier\"], \"predict_proba\"):\n",
    "            y_train_pred_prob = pipeline.predict_proba(X_train_fold)[:, 1]\n",
    "            y_val_pred_prob = pipeline.predict_proba(X_val_fold)[:, 1]\n",
    "        else:\n",
    "            y_train_pred_prob = pipeline.predict(X_train_fold)\n",
    "            y_val_pred_prob = pipeline.predict(X_val_fold)\n",
    "\n",
    "        # Determine optimal thresholds using Youden's index for both training and validation folds\n",
    "        optimal_threshold_train = find_optimal_threshold(y_train_fold, y_train_pred_prob)\n",
    "        optimal_threshold_val = find_optimal_threshold(y_val_fold, y_val_pred_prob)\n",
    "\n",
    "        # Compute binary predictions using the optimal thresholds\n",
    "        y_train_pred_opt = (y_train_pred_prob >= optimal_threshold_train).astype(int)\n",
    "        y_val_pred_opt = (y_val_pred_prob >= optimal_threshold_val).astype(int)\n",
    "\n",
    "        # Compute train metrics (using optimal threshold predictions)\n",
    "        train_results[model_name][\"Accuracy\"].append(accuracy_score(y_train_fold, y_train_pred_opt))\n",
    "        train_results[model_name][\"AUC-ROC\"].append(roc_auc_score(y_train_fold, y_train_pred_prob))\n",
    "        train_results[model_name][\"AUC-PR\"].append(average_precision_score(y_train_fold, y_train_pred_prob))\n",
    "        \n",
    "        # Compute sensitivity and specificity on the validation fold using the optimal threshold\n",
    "        conf_matrix = confusion_matrix(y_train_fold, y_train_pred_opt)\n",
    "        sensitivity = conf_matrix[1, 1] / (conf_matrix[1, 0] + conf_matrix[1, 1]) if (conf_matrix[1, 0] + conf_matrix[1, 1]) > 0 else 0\n",
    "        specificity = conf_matrix[0, 0] / (conf_matrix[0, 0] + conf_matrix[0, 1]) if (conf_matrix[0, 0] + conf_matrix[0, 1]) > 0 else 0\n",
    "\n",
    "        train_results[model_name][\"Sensitivity\"].append(sensitivity)\n",
    "        train_results[model_name][\"Specificity\"].append(specificity)\n",
    "\n",
    "        # Compute validation (test) metrics (using optimal threshold predictions)\n",
    "        test_results[model_name][\"Accuracy\"].append(accuracy_score(y_val_fold, y_val_pred_opt))\n",
    "        test_results[model_name][\"AUC-ROC\"].append(roc_auc_score(y_val_fold, y_val_pred_prob))\n",
    "        test_results[model_name][\"AUC-PR\"].append(average_precision_score(y_val_fold, y_val_pred_prob))\n",
    "\n",
    "        # Compute sensitivity and specificity on the validation fold using the optimal threshold\n",
    "        conf_matrix = confusion_matrix(y_val_fold, y_val_pred_opt)\n",
    "        sensitivity = conf_matrix[1, 1] / (conf_matrix[1, 0] + conf_matrix[1, 1]) if (conf_matrix[1, 0] + conf_matrix[1, 1]) > 0 else 0\n",
    "        specificity = conf_matrix[0, 0] / (conf_matrix[0, 0] + conf_matrix[0, 1]) if (conf_matrix[0, 0] + conf_matrix[0, 1]) > 0 else 0\n",
    "\n",
    "        test_results[model_name][\"Sensitivity\"].append(sensitivity)\n",
    "        test_results[model_name][\"Specificity\"].append(specificity)\n",
    "\n",
    "    # Store feature importances for tree-based models\n",
    "    if hasattr(pipeline.named_steps[\"classifier\"], \"feature_importances_\"):\n",
    "        feature_importances[model_name] = pipeline.named_steps[\"classifier\"].feature_importances_\n",
    "\n",
    "# Compute Mean ± 2SD for Train and Validation Scores\n",
    "for model_name in models.keys():\n",
    "    print(f\"\\n🔹 {model_name} Performance (Train Set) 🔹\")\n",
    "    for metric in metrics:  # Accuracy, AUC-ROC, AUC-PR\n",
    "        mean = np.mean(train_results[model_name][metric])\n",
    "        std = np.std(train_results[model_name][metric])\n",
    "        print(f\"✅ {metric}: {mean:.4f} ± {2 * std:.4f}\")\n",
    "\n",
    "    print(f\"\\n🔹 {model_name} Performance (Validation Set) 🔹\")\n",
    "    for metric in metrics:\n",
    "        mean = np.mean(test_results[model_name][metric])\n",
    "        std = np.std(test_results[model_name][metric])\n",
    "        print(f\"✅ {metric}: {mean:.4f} ± {2 * std:.4f}\")\n",
    "\n",
    "# Store feature importances and plot them for GB\n",
    "if feature_importances[\"Gradient Boosting\"] is not None:\n",
    "    feature_importance_df = pd.DataFrame({\n",
    "        \"Feature\": variable,\n",
    "        \"Gradient Boosting Importance\": feature_importances[\"Gradient Boosting\"]\n",
    "    }).sort_values(by=\"Gradient Boosting Importance\", ascending=False)\n",
    "\n",
    "    # Plot Feature Importance for Gradient Boosting\n",
    "    import matplotlib.pyplot as plt\n",
    "    plt.figure(figsize=(10, 6))\n",
    "    plt.barh(feature_importance_df[\"Feature\"], feature_importance_df[\"Gradient Boosting Importance\"], color='steelblue')\n",
    "    plt.xlabel(\"Importance Score\")\n",
    "    plt.ylabel(\"Feature Name\")\n",
    "    plt.title(\"Feature Importance (Gradient Boosting)\")\n",
    "    plt.gca().invert_yaxis()\n",
    "    plt.grid(axis=\"x\", linestyle=\"--\", alpha=0.7)\n",
    "    plt.show()\n",
    "\n",
    "    print(\"\\n🔹 Feature Importances (Gradient Boosting):\")\n",
    "    print(feature_importance_df)\n"
   ]
  },
  {
   "cell_type": "code",
   "execution_count": null,
   "id": "cc897f54-acfc-4b34-b19f-6be79df8f47d",
   "metadata": {},
   "outputs": [],
   "source": []
  },
  {
   "cell_type": "code",
   "execution_count": 47,
   "id": "e086891f-7121-4e53-b8ad-e7145e498f4d",
   "metadata": {
    "tags": []
   },
   "outputs": [
    {
     "name": "stderr",
     "output_type": "stream",
     "text": [
      "/home/cstylianides/anaconda3/lib/python3.11/site-packages/scikeras/wrappers.py:925: UserWarning:\n",
      "\n",
      "``build_fn`` will be renamed to ``model`` in a future release, at which point use of ``build_fn`` will raise an Error instead.\n",
      "\n",
      "/home/cstylianides/anaconda3/lib/python3.11/site-packages/keras/src/layers/core/dense.py:87: UserWarning:\n",
      "\n",
      "Do not pass an `input_shape`/`input_dim` argument to a layer. When using Sequential models, prefer using an `Input(shape)` object as the first layer in the model instead.\n",
      "\n",
      "/home/cstylianides/anaconda3/lib/python3.11/site-packages/scikeras/wrappers.py:925: UserWarning:\n",
      "\n",
      "``build_fn`` will be renamed to ``model`` in a future release, at which point use of ``build_fn`` will raise an Error instead.\n",
      "\n",
      "/home/cstylianides/anaconda3/lib/python3.11/site-packages/keras/src/layers/core/dense.py:87: UserWarning:\n",
      "\n",
      "Do not pass an `input_shape`/`input_dim` argument to a layer. When using Sequential models, prefer using an `Input(shape)` object as the first layer in the model instead.\n",
      "\n",
      "/home/cstylianides/anaconda3/lib/python3.11/site-packages/scikeras/wrappers.py:925: UserWarning:\n",
      "\n",
      "``build_fn`` will be renamed to ``model`` in a future release, at which point use of ``build_fn`` will raise an Error instead.\n",
      "\n",
      "/home/cstylianides/anaconda3/lib/python3.11/site-packages/keras/src/layers/core/dense.py:87: UserWarning:\n",
      "\n",
      "Do not pass an `input_shape`/`input_dim` argument to a layer. When using Sequential models, prefer using an `Input(shape)` object as the first layer in the model instead.\n",
      "\n",
      "/home/cstylianides/anaconda3/lib/python3.11/site-packages/scikeras/wrappers.py:925: UserWarning:\n",
      "\n",
      "``build_fn`` will be renamed to ``model`` in a future release, at which point use of ``build_fn`` will raise an Error instead.\n",
      "\n",
      "/home/cstylianides/anaconda3/lib/python3.11/site-packages/keras/src/layers/core/dense.py:87: UserWarning:\n",
      "\n",
      "Do not pass an `input_shape`/`input_dim` argument to a layer. When using Sequential models, prefer using an `Input(shape)` object as the first layer in the model instead.\n",
      "\n",
      "/home/cstylianides/anaconda3/lib/python3.11/site-packages/scikeras/wrappers.py:925: UserWarning:\n",
      "\n",
      "``build_fn`` will be renamed to ``model`` in a future release, at which point use of ``build_fn`` will raise an Error instead.\n",
      "\n",
      "/home/cstylianides/anaconda3/lib/python3.11/site-packages/keras/src/layers/core/dense.py:87: UserWarning:\n",
      "\n",
      "Do not pass an `input_shape`/`input_dim` argument to a layer. When using Sequential models, prefer using an `Input(shape)` object as the first layer in the model instead.\n",
      "\n"
     ]
    },
    {
     "name": "stdout",
     "output_type": "stream",
     "text": [
      "\n",
      "Final Model Performance Table:\n",
      "                 Model    Accuracy (95% CI)       AUROC (95% CI)  \\\n",
      "0    Gradient Boosting  0.782 (0.761–0.803)  0.887 (0.885–0.889)   \n",
      "1        Random Forest  0.785 (0.765–0.805)  0.836 (0.832–0.840)   \n",
      "2  Logistic Regression  0.773 (0.761–0.785)  0.863 (0.859–0.867)   \n",
      "3       Neural Network  0.798 (0.769–0.828)  0.892 (0.888–0.895)   \n",
      "\n",
      "        AUPRC (95% CI) Sensitivity (95% CI) Specificity (95% CI) Threshold  \\\n",
      "0  0.445 (0.434–0.456)  0.834 (0.807–0.860)  0.778 (0.755–0.802)     0.065   \n",
      "1  0.362 (0.353–0.371)  0.755 (0.729–0.782)  0.787 (0.764–0.810)     0.052   \n",
      "2  0.370 (0.357–0.383)  0.796 (0.774–0.819)  0.771 (0.757–0.786)     0.064   \n",
      "3  0.456 (0.447–0.465)  0.823 (0.787–0.858)  0.797 (0.762–0.831)     0.065   \n",
      "\n",
      "  Runtime (s)  Number of variables  \n",
      "0         9.2                   13  \n",
      "1         8.8                   13  \n",
      "2         0.1                   13  \n",
      "3        25.9                   13  \n"
     ]
    }
   ],
   "source": [
    "import time\n",
    "import pandas as pd\n",
    "import numpy as np\n",
    "from tqdm import tqdm  \n",
    "from sklearn.pipeline import Pipeline\n",
    "from sklearn.preprocessing import StandardScaler\n",
    "from sklearn.ensemble import GradientBoostingClassifier, RandomForestClassifier\n",
    "from sklearn.linear_model import LogisticRegression\n",
    "from sklearn.model_selection import StratifiedKFold, train_test_split\n",
    "from sklearn.metrics import (\n",
    "    accuracy_score, roc_auc_score, average_precision_score,\n",
    "    confusion_matrix, roc_curve\n",
    ")\n",
    "from tensorflow.keras.models import Sequential\n",
    "from tensorflow.keras.layers import Dense\n",
    "from tensorflow.keras.optimizers import Adam\n",
    "from tensorflow.keras.metrics import AUC\n",
    "from scikeras.wrappers import KerasClassifier\n",
    "\n",
    "\n",
    "# Define the feature set (top 13)\n",
    "variable = [\n",
    "    'triage_acuity_iter_numeric',\n",
    "    'arrival_transport_encoded',\n",
    "    'score_NEWS_numeric',\n",
    "    'triage_sbp_iter_numeric',\n",
    "    'med_event',\n",
    "    'score_CART_numeric',\n",
    "    'score_CCI_numeric',\n",
    "    'n_icu_365d_numeric',\n",
    "    'triage_heartrate_iter_numeric',\n",
    "    'triage_resprate_iter_numeric',\n",
    "    'age_numeric',\n",
    "    'triage_dbp_iter_numeric',\n",
    "    'triage_pain_iter_numeric',\n",
    "    #'score_NEWS2_numeric',\n",
    "    #'n_ed_365d_numeric'\n",
    "\n",
    "]\n",
    "\n",
    "# Define the target\n",
    "target = \"outcome_critical\"\n",
    "\n",
    "# Split the dataset into training and testing sets\n",
    "X = df_master[variable]\n",
    "y = df_master[target]\n",
    "X_train, X_test, y_train, y_test = train_test_split(\n",
    "    X, y, test_size=0.2, random_state=42, stratify=y\n",
    ")\n",
    "\n",
    "# Define Stratified 5-Fold Cross-Validation\n",
    "cv = StratifiedKFold(n_splits=5, shuffle=True, random_state=42)\n",
    "\n",
    "# Define classifiers in a pipeline\n",
    "models = {\n",
    "    \"Gradient Boosting\": Pipeline([\n",
    "        (\"scaler\", StandardScaler()), \n",
    "        (\"classifier\", GradientBoostingClassifier(n_estimators=100, random_state=42))\n",
    "    ]),\n",
    "    \"Random Forest\": Pipeline([\n",
    "        (\"scaler\", StandardScaler()), \n",
    "        (\"classifier\", RandomForestClassifier(n_estimators=100, random_state=42))\n",
    "    ]),\n",
    "    \"Logistic Regression\": Pipeline([\n",
    "        (\"scaler\", StandardScaler()), \n",
    "        (\"classifier\", LogisticRegression(max_iter=1000, random_state=42))\n",
    "    ])\n",
    "}\n",
    "\n",
    "# Define Deep Learning Model Wrapper\n",
    "def create_mlp():\n",
    "    model = Sequential([\n",
    "        Dense(64, activation='relu', input_shape=(X_train.shape[1],)),\n",
    "        Dense(32, activation='relu'),\n",
    "        Dense(1, activation='sigmoid')\n",
    "    ])\n",
    "    model.compile(optimizer=Adam(learning_rate=0.001), loss='binary_crossentropy', metrics=[AUC(name='auc')])\n",
    "    return model\n",
    "\n",
    "models[\"Neural Network\"] = Pipeline([\n",
    "    (\"classifier\", KerasClassifier(build_fn=create_mlp, epochs=20, batch_size=64, verbose=0))\n",
    "])\n",
    "\n",
    "# Dictionaries to store results\n",
    "metrics = [\"Accuracy\", \"AUC-ROC\", \"AUC-PR\", \"Sensitivity\", \"Specificity\"]\n",
    "train_results = {model_name: {metric: [] for metric in metrics} for model_name in models.keys()}\n",
    "test_results = {model_name: {metric: [] for metric in metrics} for model_name in models.keys()}\n",
    "\n",
    "# Dictionaries to store optimal threshold and runtime per fold\n",
    "threshold_results = {model_name: [] for model_name in models.keys()}\n",
    "runtime_results = {model_name: [] for model_name in models.keys()}\n",
    "\n",
    "# Function to find the optimal threshold using Youden's index\n",
    "def find_optimal_threshold(y_true, y_scores):\n",
    "    fpr, tpr, thresholds = roc_curve(y_true, y_scores)\n",
    "    youden_index = tpr - fpr\n",
    "    optimal_idx = np.argmax(youden_index)\n",
    "    optimal_threshold = thresholds[optimal_idx]\n",
    "    return optimal_threshold\n",
    "\n",
    "# Run Stratified 5-Fold Cross-Validation with threshold and runtime recording\n",
    "for model_name, pipeline in models.items():\n",
    "    for train_idx, val_idx in cv.split(X_train, y_train):\n",
    "        X_train_fold, X_val_fold = X_train.iloc[train_idx], X_train.iloc[val_idx]\n",
    "        y_train_fold, y_val_fold = y_train.iloc[train_idx], y_train.iloc[val_idx]\n",
    "\n",
    "        start_time = time.time()\n",
    "        pipeline.fit(X_train_fold, y_train_fold)\n",
    "        elapsed = time.time() - start_time\n",
    "        runtime_results[model_name].append(elapsed)\n",
    "\n",
    "        # Get predicted probabilities for training and validation sets\n",
    "        if hasattr(pipeline.named_steps[\"classifier\"], \"predict_proba\"):\n",
    "            y_train_pred_prob = pipeline.predict_proba(X_train_fold)[:, 1]\n",
    "            y_val_pred_prob = pipeline.predict_proba(X_val_fold)[:, 1]\n",
    "        else:\n",
    "            y_train_pred_prob = pipeline.predict(X_train_fold)\n",
    "            y_val_pred_prob = pipeline.predict(X_val_fold)\n",
    "\n",
    "        # Determine optimal threshold using Youden's index on the validation fold\n",
    "        optimal_threshold = find_optimal_threshold(y_val_fold, y_val_pred_prob)\n",
    "        threshold_results[model_name].append(optimal_threshold)\n",
    "\n",
    "        # Compute binary predictions using the optimal threshold\n",
    "        y_train_pred_opt = (y_train_pred_prob >= optimal_threshold).astype(int)\n",
    "        y_val_pred_opt = (y_val_pred_prob >= optimal_threshold).astype(int)\n",
    "\n",
    "        # Compute train metrics (using optimal threshold predictions)\n",
    "        train_results[model_name][\"Accuracy\"].append(accuracy_score(y_train_fold, y_train_pred_opt))\n",
    "        train_results[model_name][\"AUC-ROC\"].append(roc_auc_score(y_train_fold, y_train_pred_prob))\n",
    "        train_results[model_name][\"AUC-PR\"].append(average_precision_score(y_train_fold, y_train_pred_prob))\n",
    "\n",
    "        # Compute validation metrics (using optimal threshold predictions)\n",
    "        test_results[model_name][\"Accuracy\"].append(accuracy_score(y_val_fold, y_val_pred_opt))\n",
    "        test_results[model_name][\"AUC-ROC\"].append(roc_auc_score(y_val_fold, y_val_pred_prob))\n",
    "        test_results[model_name][\"AUC-PR\"].append(average_precision_score(y_val_fold, y_val_pred_prob))\n",
    "\n",
    "        # Compute sensitivity and specificity on the validation fold using the optimal threshold\n",
    "        conf_matrix = confusion_matrix(y_val_fold, y_val_pred_opt)\n",
    "        sensitivity = conf_matrix[1, 1] / (conf_matrix[1, 0] + conf_matrix[1, 1]) if (conf_matrix[1, 0] + conf_matrix[1, 1]) > 0 else 0\n",
    "        specificity = conf_matrix[0, 0] / (conf_matrix[0, 0] + conf_matrix[0, 1]) if (conf_matrix[0, 0] + conf_matrix[0, 1]) > 0 else 0\n",
    "        test_results[model_name][\"Sensitivity\"].append(sensitivity)\n",
    "        test_results[model_name][\"Specificity\"].append(specificity)\n",
    "\n",
    "# Function to format metric mean ± 2*std (for metrics where you want CI)\n",
    "def format_metric(metric_list, decimals=3):\n",
    "    mean_val = np.mean(metric_list)\n",
    "    std_val = np.std(metric_list)\n",
    "    lower = mean_val - 2 * std_val\n",
    "    upper = mean_val + 2 * std_val\n",
    "    return f\"{mean_val:.{decimals}f} ({lower:.{decimals}f}–{upper:.{decimals}f})\"\n",
    "\n",
    "# Function to format the mean only (for runtime and threshold)\n",
    "def format_mean(metric_list, decimals=3):\n",
    "    mean_val = np.mean(metric_list)\n",
    "    return f\"{mean_val:.{decimals}f}\"\n",
    "\n",
    "# Create the final table\n",
    "final_table = []\n",
    "n_vars = len(variable)  # Number of features used\n",
    "\n",
    "for model_name in models.keys():\n",
    "    # Using the validation fold results (test_results) for reporting\n",
    "    acc_str = format_metric(test_results[model_name][\"Accuracy\"])\n",
    "    auroc_str = format_metric(test_results[model_name][\"AUC-ROC\"])\n",
    "    auprc_str = format_metric(test_results[model_name][\"AUC-PR\"])\n",
    "    sens_str = format_metric(test_results[model_name][\"Sensitivity\"])\n",
    "    spec_str = format_metric(test_results[model_name][\"Specificity\"])\n",
    "    thresh_str = format_mean(threshold_results[model_name])\n",
    "    runtime_str = format_mean(runtime_results[model_name], decimals=1)  # in seconds\n",
    "    \n",
    "    final_table.append({\n",
    "        \"Model\": model_name,\n",
    "        \"Accuracy (95% CI)\": acc_str,\n",
    "        \"AUROC (95% CI)\": auroc_str,\n",
    "        \"AUPRC (95% CI)\": auprc_str,\n",
    "        \"Sensitivity (95% CI)\": sens_str,\n",
    "        \"Specificity (95% CI)\": spec_str,\n",
    "        \"Threshold\": thresh_str,\n",
    "        \"Runtime (s)\": runtime_str,\n",
    "        \"Number of variables\": n_vars\n",
    "    })\n",
    "\n",
    "final_df = pd.DataFrame(final_table)\n",
    "final_df = final_df[[\"Model\", \"Accuracy (95% CI)\", \"AUROC (95% CI)\", \"AUPRC (95% CI)\",\n",
    "                     \"Sensitivity (95% CI)\", \"Specificity (95% CI)\", \"Threshold\", \"Runtime (s)\", \"Number of variables\"]]\n",
    "\n",
    "print(\"\\nFinal Model Performance Table:\")\n",
    "print(final_df)\n"
   ]
  },
  {
   "cell_type": "code",
   "execution_count": 48,
   "id": "ea0491bb-35e0-4d15-b311-e1752ce21f40",
   "metadata": {
    "tags": []
   },
   "outputs": [
    {
     "data": {
      "text/html": [
       "<div>\n",
       "<style scoped>\n",
       "    .dataframe tbody tr th:only-of-type {\n",
       "        vertical-align: middle;\n",
       "    }\n",
       "\n",
       "    .dataframe tbody tr th {\n",
       "        vertical-align: top;\n",
       "    }\n",
       "\n",
       "    .dataframe thead th {\n",
       "        text-align: right;\n",
       "    }\n",
       "</style>\n",
       "<table border=\"1\" class=\"dataframe\">\n",
       "  <thead>\n",
       "    <tr style=\"text-align: right;\">\n",
       "      <th></th>\n",
       "      <th>Model</th>\n",
       "      <th>Accuracy (95% CI)</th>\n",
       "      <th>AUROC (95% CI)</th>\n",
       "      <th>AUPRC (95% CI)</th>\n",
       "      <th>Sensitivity (95% CI)</th>\n",
       "      <th>Specificity (95% CI)</th>\n",
       "      <th>Threshold</th>\n",
       "      <th>Runtime (s)</th>\n",
       "      <th>Number of variables</th>\n",
       "    </tr>\n",
       "  </thead>\n",
       "  <tbody>\n",
       "    <tr>\n",
       "      <th>0</th>\n",
       "      <td>Gradient Boosting</td>\n",
       "      <td>0.782 (0.761–0.803)</td>\n",
       "      <td>0.887 (0.885–0.889)</td>\n",
       "      <td>0.445 (0.434–0.456)</td>\n",
       "      <td>0.834 (0.807–0.860)</td>\n",
       "      <td>0.778 (0.755–0.802)</td>\n",
       "      <td>0.065</td>\n",
       "      <td>9.2</td>\n",
       "      <td>13</td>\n",
       "    </tr>\n",
       "    <tr>\n",
       "      <th>1</th>\n",
       "      <td>Random Forest</td>\n",
       "      <td>0.785 (0.765–0.805)</td>\n",
       "      <td>0.836 (0.832–0.840)</td>\n",
       "      <td>0.362 (0.353–0.371)</td>\n",
       "      <td>0.755 (0.729–0.782)</td>\n",
       "      <td>0.787 (0.764–0.810)</td>\n",
       "      <td>0.052</td>\n",
       "      <td>8.8</td>\n",
       "      <td>13</td>\n",
       "    </tr>\n",
       "    <tr>\n",
       "      <th>2</th>\n",
       "      <td>Logistic Regression</td>\n",
       "      <td>0.773 (0.761–0.785)</td>\n",
       "      <td>0.863 (0.859–0.867)</td>\n",
       "      <td>0.370 (0.357–0.383)</td>\n",
       "      <td>0.796 (0.774–0.819)</td>\n",
       "      <td>0.771 (0.757–0.786)</td>\n",
       "      <td>0.064</td>\n",
       "      <td>0.1</td>\n",
       "      <td>13</td>\n",
       "    </tr>\n",
       "    <tr>\n",
       "      <th>3</th>\n",
       "      <td>Neural Network</td>\n",
       "      <td>0.798 (0.769–0.828)</td>\n",
       "      <td>0.892 (0.888–0.895)</td>\n",
       "      <td>0.456 (0.447–0.465)</td>\n",
       "      <td>0.823 (0.787–0.858)</td>\n",
       "      <td>0.797 (0.762–0.831)</td>\n",
       "      <td>0.065</td>\n",
       "      <td>25.9</td>\n",
       "      <td>13</td>\n",
       "    </tr>\n",
       "  </tbody>\n",
       "</table>\n",
       "</div>"
      ],
      "text/plain": [
       "                 Model    Accuracy (95% CI)       AUROC (95% CI)  \\\n",
       "0    Gradient Boosting  0.782 (0.761–0.803)  0.887 (0.885–0.889)   \n",
       "1        Random Forest  0.785 (0.765–0.805)  0.836 (0.832–0.840)   \n",
       "2  Logistic Regression  0.773 (0.761–0.785)  0.863 (0.859–0.867)   \n",
       "3       Neural Network  0.798 (0.769–0.828)  0.892 (0.888–0.895)   \n",
       "\n",
       "        AUPRC (95% CI) Sensitivity (95% CI) Specificity (95% CI) Threshold  \\\n",
       "0  0.445 (0.434–0.456)  0.834 (0.807–0.860)  0.778 (0.755–0.802)     0.065   \n",
       "1  0.362 (0.353–0.371)  0.755 (0.729–0.782)  0.787 (0.764–0.810)     0.052   \n",
       "2  0.370 (0.357–0.383)  0.796 (0.774–0.819)  0.771 (0.757–0.786)     0.064   \n",
       "3  0.456 (0.447–0.465)  0.823 (0.787–0.858)  0.797 (0.762–0.831)     0.065   \n",
       "\n",
       "  Runtime (s)  Number of variables  \n",
       "0         9.2                   13  \n",
       "1         8.8                   13  \n",
       "2         0.1                   13  \n",
       "3        25.9                   13  "
      ]
     },
     "execution_count": 48,
     "metadata": {},
     "output_type": "execute_result"
    }
   ],
   "source": [
    "final_df"
   ]
  },
  {
   "cell_type": "markdown",
   "id": "3f4195fe-5a25-4485-83b7-124c63274ac9",
   "metadata": {},
   "source": [
    "## Extracting Rules (Te2rules explainability)"
   ]
  },
  {
   "cell_type": "code",
   "execution_count": 5,
   "id": "950eb2b4-e79d-4238-9f09-28ac1c99b7c2",
   "metadata": {
    "tags": []
   },
   "outputs": [
    {
     "name": "stdout",
     "output_type": "stream",
     "text": [
      "Using te2rules version: 1.0.1\n"
     ]
    }
   ],
   "source": [
    "from sklearn.ensemble import GradientBoostingClassifier\n",
    "from sklearn import metrics\n",
    "\n",
    "\n",
    "import te2rules\n",
    "from te2rules.explainer import ModelExplainer\n",
    "\n",
    "print(\"Using te2rules version: \" + str(te2rules.__version__))"
   ]
  },
  {
   "cell_type": "code",
   "execution_count": 6,
   "id": "da938b4c-b0a5-4c1c-8b44-bc38e616081b",
   "metadata": {
    "tags": []
   },
   "outputs": [],
   "source": [
    "df_train= df_master.sample(frac=0.8,random_state=0) #set seed\n",
    "df_test= df_master.drop(df_train.index)"
   ]
  },
  {
   "cell_type": "code",
   "execution_count": 7,
   "id": "4c84dc75-4ee0-4047-b5da-69cd52ffc04c",
   "metadata": {
    "tags": []
   },
   "outputs": [],
   "source": [
    "#List of columns to keep\n",
    "columns_to_keep  =  [\n",
    "    'triage_acuity_iter_numeric',\n",
    "    'arrival_transport_encoded',\n",
    "    'score_NEWS_numeric',\n",
    "    'triage_sbp_iter_numeric',\n",
    "    'med_event',\n",
    "    'score_CART_numeric',\n",
    "    'score_CCI_numeric',\n",
    "    'n_icu_365d_numeric',\n",
    "    'triage_heartrate_iter_numeric',\n",
    "    'triage_resprate_iter_numeric',\n",
    "    'age_numeric',\n",
    "    'triage_dbp_iter_numeric',\n",
    "    'triage_pain_iter_numeric',\n",
    "    #'score_NEWS2_numeric',\n",
    "    #'n_ed_365d_numeric',\n",
    "    'outcome_critical'\n",
    "    \n",
    "]\n",
    "\n",
    "#Filter df_train and df_test to keep only the specified columns\n",
    "df_train = df_train[columns_to_keep]\n",
    "df_test = df_test[columns_to_keep]"
   ]
  },
  {
   "cell_type": "code",
   "execution_count": 8,
   "id": "40fd6ac1-80a3-4d50-9be7-6f39d581ab2e",
   "metadata": {
    "tags": []
   },
   "outputs": [],
   "source": [
    "cols = list(df_train.columns)\n",
    "feature_names = cols[:-1]\n",
    "label_name = cols[-1]\n",
    "\n",
    "data_train = df_train.to_numpy()\n",
    "data_test = df_test.to_numpy()"
   ]
  },
  {
   "cell_type": "code",
   "execution_count": 9,
   "id": "29caad75-0dab-4772-ac6b-d9c14fd2168d",
   "metadata": {
    "tags": []
   },
   "outputs": [],
   "source": [
    "x_train = data_train[:, :-1]\n",
    "y_train = data_train[:, -1]\n",
    "\n",
    "x_test = data_test[:, :-1]\n",
    "y_test = data_test[:, -1]"
   ]
  },
  {
   "cell_type": "code",
   "execution_count": 10,
   "id": "309e7511-26f4-4cb0-b17a-0b1bda1fa48f",
   "metadata": {
    "tags": []
   },
   "outputs": [],
   "source": [
    "y_train = y_train.astype(int)\n",
    "y_test = y_test.astype(int)\n"
   ]
  },
  {
   "cell_type": "code",
   "execution_count": 11,
   "id": "99e9998e-2a51-4d57-a250-9a1e162f91bb",
   "metadata": {
    "tags": []
   },
   "outputs": [
    {
     "data": {
      "text/html": [
       "<style>#sk-container-id-1 {\n",
       "  /* Definition of color scheme common for light and dark mode */\n",
       "  --sklearn-color-text: black;\n",
       "  --sklearn-color-line: gray;\n",
       "  /* Definition of color scheme for unfitted estimators */\n",
       "  --sklearn-color-unfitted-level-0: #fff5e6;\n",
       "  --sklearn-color-unfitted-level-1: #f6e4d2;\n",
       "  --sklearn-color-unfitted-level-2: #ffe0b3;\n",
       "  --sklearn-color-unfitted-level-3: chocolate;\n",
       "  /* Definition of color scheme for fitted estimators */\n",
       "  --sklearn-color-fitted-level-0: #f0f8ff;\n",
       "  --sklearn-color-fitted-level-1: #d4ebff;\n",
       "  --sklearn-color-fitted-level-2: #b3dbfd;\n",
       "  --sklearn-color-fitted-level-3: cornflowerblue;\n",
       "\n",
       "  /* Specific color for light theme */\n",
       "  --sklearn-color-text-on-default-background: var(--sg-text-color, var(--theme-code-foreground, var(--jp-content-font-color1, black)));\n",
       "  --sklearn-color-background: var(--sg-background-color, var(--theme-background, var(--jp-layout-color0, white)));\n",
       "  --sklearn-color-border-box: var(--sg-text-color, var(--theme-code-foreground, var(--jp-content-font-color1, black)));\n",
       "  --sklearn-color-icon: #696969;\n",
       "\n",
       "  @media (prefers-color-scheme: dark) {\n",
       "    /* Redefinition of color scheme for dark theme */\n",
       "    --sklearn-color-text-on-default-background: var(--sg-text-color, var(--theme-code-foreground, var(--jp-content-font-color1, white)));\n",
       "    --sklearn-color-background: var(--sg-background-color, var(--theme-background, var(--jp-layout-color0, #111)));\n",
       "    --sklearn-color-border-box: var(--sg-text-color, var(--theme-code-foreground, var(--jp-content-font-color1, white)));\n",
       "    --sklearn-color-icon: #878787;\n",
       "  }\n",
       "}\n",
       "\n",
       "#sk-container-id-1 {\n",
       "  color: var(--sklearn-color-text);\n",
       "}\n",
       "\n",
       "#sk-container-id-1 pre {\n",
       "  padding: 0;\n",
       "}\n",
       "\n",
       "#sk-container-id-1 input.sk-hidden--visually {\n",
       "  border: 0;\n",
       "  clip: rect(1px 1px 1px 1px);\n",
       "  clip: rect(1px, 1px, 1px, 1px);\n",
       "  height: 1px;\n",
       "  margin: -1px;\n",
       "  overflow: hidden;\n",
       "  padding: 0;\n",
       "  position: absolute;\n",
       "  width: 1px;\n",
       "}\n",
       "\n",
       "#sk-container-id-1 div.sk-dashed-wrapped {\n",
       "  border: 1px dashed var(--sklearn-color-line);\n",
       "  margin: 0 0.4em 0.5em 0.4em;\n",
       "  box-sizing: border-box;\n",
       "  padding-bottom: 0.4em;\n",
       "  background-color: var(--sklearn-color-background);\n",
       "}\n",
       "\n",
       "#sk-container-id-1 div.sk-container {\n",
       "  /* jupyter's `normalize.less` sets `[hidden] { display: none; }`\n",
       "     but bootstrap.min.css set `[hidden] { display: none !important; }`\n",
       "     so we also need the `!important` here to be able to override the\n",
       "     default hidden behavior on the sphinx rendered scikit-learn.org.\n",
       "     See: https://github.com/scikit-learn/scikit-learn/issues/21755 */\n",
       "  display: inline-block !important;\n",
       "  position: relative;\n",
       "}\n",
       "\n",
       "#sk-container-id-1 div.sk-text-repr-fallback {\n",
       "  display: none;\n",
       "}\n",
       "\n",
       "div.sk-parallel-item,\n",
       "div.sk-serial,\n",
       "div.sk-item {\n",
       "  /* draw centered vertical line to link estimators */\n",
       "  background-image: linear-gradient(var(--sklearn-color-text-on-default-background), var(--sklearn-color-text-on-default-background));\n",
       "  background-size: 2px 100%;\n",
       "  background-repeat: no-repeat;\n",
       "  background-position: center center;\n",
       "}\n",
       "\n",
       "/* Parallel-specific style estimator block */\n",
       "\n",
       "#sk-container-id-1 div.sk-parallel-item::after {\n",
       "  content: \"\";\n",
       "  width: 100%;\n",
       "  border-bottom: 2px solid var(--sklearn-color-text-on-default-background);\n",
       "  flex-grow: 1;\n",
       "}\n",
       "\n",
       "#sk-container-id-1 div.sk-parallel {\n",
       "  display: flex;\n",
       "  align-items: stretch;\n",
       "  justify-content: center;\n",
       "  background-color: var(--sklearn-color-background);\n",
       "  position: relative;\n",
       "}\n",
       "\n",
       "#sk-container-id-1 div.sk-parallel-item {\n",
       "  display: flex;\n",
       "  flex-direction: column;\n",
       "}\n",
       "\n",
       "#sk-container-id-1 div.sk-parallel-item:first-child::after {\n",
       "  align-self: flex-end;\n",
       "  width: 50%;\n",
       "}\n",
       "\n",
       "#sk-container-id-1 div.sk-parallel-item:last-child::after {\n",
       "  align-self: flex-start;\n",
       "  width: 50%;\n",
       "}\n",
       "\n",
       "#sk-container-id-1 div.sk-parallel-item:only-child::after {\n",
       "  width: 0;\n",
       "}\n",
       "\n",
       "/* Serial-specific style estimator block */\n",
       "\n",
       "#sk-container-id-1 div.sk-serial {\n",
       "  display: flex;\n",
       "  flex-direction: column;\n",
       "  align-items: center;\n",
       "  background-color: var(--sklearn-color-background);\n",
       "  padding-right: 1em;\n",
       "  padding-left: 1em;\n",
       "}\n",
       "\n",
       "\n",
       "/* Toggleable style: style used for estimator/Pipeline/ColumnTransformer box that is\n",
       "clickable and can be expanded/collapsed.\n",
       "- Pipeline and ColumnTransformer use this feature and define the default style\n",
       "- Estimators will overwrite some part of the style using the `sk-estimator` class\n",
       "*/\n",
       "\n",
       "/* Pipeline and ColumnTransformer style (default) */\n",
       "\n",
       "#sk-container-id-1 div.sk-toggleable {\n",
       "  /* Default theme specific background. It is overwritten whether we have a\n",
       "  specific estimator or a Pipeline/ColumnTransformer */\n",
       "  background-color: var(--sklearn-color-background);\n",
       "}\n",
       "\n",
       "/* Toggleable label */\n",
       "#sk-container-id-1 label.sk-toggleable__label {\n",
       "  cursor: pointer;\n",
       "  display: block;\n",
       "  width: 100%;\n",
       "  margin-bottom: 0;\n",
       "  padding: 0.5em;\n",
       "  box-sizing: border-box;\n",
       "  text-align: center;\n",
       "}\n",
       "\n",
       "#sk-container-id-1 label.sk-toggleable__label-arrow:before {\n",
       "  /* Arrow on the left of the label */\n",
       "  content: \"▸\";\n",
       "  float: left;\n",
       "  margin-right: 0.25em;\n",
       "  color: var(--sklearn-color-icon);\n",
       "}\n",
       "\n",
       "#sk-container-id-1 label.sk-toggleable__label-arrow:hover:before {\n",
       "  color: var(--sklearn-color-text);\n",
       "}\n",
       "\n",
       "/* Toggleable content - dropdown */\n",
       "\n",
       "#sk-container-id-1 div.sk-toggleable__content {\n",
       "  max-height: 0;\n",
       "  max-width: 0;\n",
       "  overflow: hidden;\n",
       "  text-align: left;\n",
       "  /* unfitted */\n",
       "  background-color: var(--sklearn-color-unfitted-level-0);\n",
       "}\n",
       "\n",
       "#sk-container-id-1 div.sk-toggleable__content.fitted {\n",
       "  /* fitted */\n",
       "  background-color: var(--sklearn-color-fitted-level-0);\n",
       "}\n",
       "\n",
       "#sk-container-id-1 div.sk-toggleable__content pre {\n",
       "  margin: 0.2em;\n",
       "  border-radius: 0.25em;\n",
       "  color: var(--sklearn-color-text);\n",
       "  /* unfitted */\n",
       "  background-color: var(--sklearn-color-unfitted-level-0);\n",
       "}\n",
       "\n",
       "#sk-container-id-1 div.sk-toggleable__content.fitted pre {\n",
       "  /* unfitted */\n",
       "  background-color: var(--sklearn-color-fitted-level-0);\n",
       "}\n",
       "\n",
       "#sk-container-id-1 input.sk-toggleable__control:checked~div.sk-toggleable__content {\n",
       "  /* Expand drop-down */\n",
       "  max-height: 200px;\n",
       "  max-width: 100%;\n",
       "  overflow: auto;\n",
       "}\n",
       "\n",
       "#sk-container-id-1 input.sk-toggleable__control:checked~label.sk-toggleable__label-arrow:before {\n",
       "  content: \"▾\";\n",
       "}\n",
       "\n",
       "/* Pipeline/ColumnTransformer-specific style */\n",
       "\n",
       "#sk-container-id-1 div.sk-label input.sk-toggleable__control:checked~label.sk-toggleable__label {\n",
       "  color: var(--sklearn-color-text);\n",
       "  background-color: var(--sklearn-color-unfitted-level-2);\n",
       "}\n",
       "\n",
       "#sk-container-id-1 div.sk-label.fitted input.sk-toggleable__control:checked~label.sk-toggleable__label {\n",
       "  background-color: var(--sklearn-color-fitted-level-2);\n",
       "}\n",
       "\n",
       "/* Estimator-specific style */\n",
       "\n",
       "/* Colorize estimator box */\n",
       "#sk-container-id-1 div.sk-estimator input.sk-toggleable__control:checked~label.sk-toggleable__label {\n",
       "  /* unfitted */\n",
       "  background-color: var(--sklearn-color-unfitted-level-2);\n",
       "}\n",
       "\n",
       "#sk-container-id-1 div.sk-estimator.fitted input.sk-toggleable__control:checked~label.sk-toggleable__label {\n",
       "  /* fitted */\n",
       "  background-color: var(--sklearn-color-fitted-level-2);\n",
       "}\n",
       "\n",
       "#sk-container-id-1 div.sk-label label.sk-toggleable__label,\n",
       "#sk-container-id-1 div.sk-label label {\n",
       "  /* The background is the default theme color */\n",
       "  color: var(--sklearn-color-text-on-default-background);\n",
       "}\n",
       "\n",
       "/* On hover, darken the color of the background */\n",
       "#sk-container-id-1 div.sk-label:hover label.sk-toggleable__label {\n",
       "  color: var(--sklearn-color-text);\n",
       "  background-color: var(--sklearn-color-unfitted-level-2);\n",
       "}\n",
       "\n",
       "/* Label box, darken color on hover, fitted */\n",
       "#sk-container-id-1 div.sk-label.fitted:hover label.sk-toggleable__label.fitted {\n",
       "  color: var(--sklearn-color-text);\n",
       "  background-color: var(--sklearn-color-fitted-level-2);\n",
       "}\n",
       "\n",
       "/* Estimator label */\n",
       "\n",
       "#sk-container-id-1 div.sk-label label {\n",
       "  font-family: monospace;\n",
       "  font-weight: bold;\n",
       "  display: inline-block;\n",
       "  line-height: 1.2em;\n",
       "}\n",
       "\n",
       "#sk-container-id-1 div.sk-label-container {\n",
       "  text-align: center;\n",
       "}\n",
       "\n",
       "/* Estimator-specific */\n",
       "#sk-container-id-1 div.sk-estimator {\n",
       "  font-family: monospace;\n",
       "  border: 1px dotted var(--sklearn-color-border-box);\n",
       "  border-radius: 0.25em;\n",
       "  box-sizing: border-box;\n",
       "  margin-bottom: 0.5em;\n",
       "  /* unfitted */\n",
       "  background-color: var(--sklearn-color-unfitted-level-0);\n",
       "}\n",
       "\n",
       "#sk-container-id-1 div.sk-estimator.fitted {\n",
       "  /* fitted */\n",
       "  background-color: var(--sklearn-color-fitted-level-0);\n",
       "}\n",
       "\n",
       "/* on hover */\n",
       "#sk-container-id-1 div.sk-estimator:hover {\n",
       "  /* unfitted */\n",
       "  background-color: var(--sklearn-color-unfitted-level-2);\n",
       "}\n",
       "\n",
       "#sk-container-id-1 div.sk-estimator.fitted:hover {\n",
       "  /* fitted */\n",
       "  background-color: var(--sklearn-color-fitted-level-2);\n",
       "}\n",
       "\n",
       "/* Specification for estimator info (e.g. \"i\" and \"?\") */\n",
       "\n",
       "/* Common style for \"i\" and \"?\" */\n",
       "\n",
       ".sk-estimator-doc-link,\n",
       "a:link.sk-estimator-doc-link,\n",
       "a:visited.sk-estimator-doc-link {\n",
       "  float: right;\n",
       "  font-size: smaller;\n",
       "  line-height: 1em;\n",
       "  font-family: monospace;\n",
       "  background-color: var(--sklearn-color-background);\n",
       "  border-radius: 1em;\n",
       "  height: 1em;\n",
       "  width: 1em;\n",
       "  text-decoration: none !important;\n",
       "  margin-left: 1ex;\n",
       "  /* unfitted */\n",
       "  border: var(--sklearn-color-unfitted-level-1) 1pt solid;\n",
       "  color: var(--sklearn-color-unfitted-level-1);\n",
       "}\n",
       "\n",
       ".sk-estimator-doc-link.fitted,\n",
       "a:link.sk-estimator-doc-link.fitted,\n",
       "a:visited.sk-estimator-doc-link.fitted {\n",
       "  /* fitted */\n",
       "  border: var(--sklearn-color-fitted-level-1) 1pt solid;\n",
       "  color: var(--sklearn-color-fitted-level-1);\n",
       "}\n",
       "\n",
       "/* On hover */\n",
       "div.sk-estimator:hover .sk-estimator-doc-link:hover,\n",
       ".sk-estimator-doc-link:hover,\n",
       "div.sk-label-container:hover .sk-estimator-doc-link:hover,\n",
       ".sk-estimator-doc-link:hover {\n",
       "  /* unfitted */\n",
       "  background-color: var(--sklearn-color-unfitted-level-3);\n",
       "  color: var(--sklearn-color-background);\n",
       "  text-decoration: none;\n",
       "}\n",
       "\n",
       "div.sk-estimator.fitted:hover .sk-estimator-doc-link.fitted:hover,\n",
       ".sk-estimator-doc-link.fitted:hover,\n",
       "div.sk-label-container:hover .sk-estimator-doc-link.fitted:hover,\n",
       ".sk-estimator-doc-link.fitted:hover {\n",
       "  /* fitted */\n",
       "  background-color: var(--sklearn-color-fitted-level-3);\n",
       "  color: var(--sklearn-color-background);\n",
       "  text-decoration: none;\n",
       "}\n",
       "\n",
       "/* Span, style for the box shown on hovering the info icon */\n",
       ".sk-estimator-doc-link span {\n",
       "  display: none;\n",
       "  z-index: 9999;\n",
       "  position: relative;\n",
       "  font-weight: normal;\n",
       "  right: .2ex;\n",
       "  padding: .5ex;\n",
       "  margin: .5ex;\n",
       "  width: min-content;\n",
       "  min-width: 20ex;\n",
       "  max-width: 50ex;\n",
       "  color: var(--sklearn-color-text);\n",
       "  box-shadow: 2pt 2pt 4pt #999;\n",
       "  /* unfitted */\n",
       "  background: var(--sklearn-color-unfitted-level-0);\n",
       "  border: .5pt solid var(--sklearn-color-unfitted-level-3);\n",
       "}\n",
       "\n",
       ".sk-estimator-doc-link.fitted span {\n",
       "  /* fitted */\n",
       "  background: var(--sklearn-color-fitted-level-0);\n",
       "  border: var(--sklearn-color-fitted-level-3);\n",
       "}\n",
       "\n",
       ".sk-estimator-doc-link:hover span {\n",
       "  display: block;\n",
       "}\n",
       "\n",
       "/* \"?\"-specific style due to the `<a>` HTML tag */\n",
       "\n",
       "#sk-container-id-1 a.estimator_doc_link {\n",
       "  float: right;\n",
       "  font-size: 1rem;\n",
       "  line-height: 1em;\n",
       "  font-family: monospace;\n",
       "  background-color: var(--sklearn-color-background);\n",
       "  border-radius: 1rem;\n",
       "  height: 1rem;\n",
       "  width: 1rem;\n",
       "  text-decoration: none;\n",
       "  /* unfitted */\n",
       "  color: var(--sklearn-color-unfitted-level-1);\n",
       "  border: var(--sklearn-color-unfitted-level-1) 1pt solid;\n",
       "}\n",
       "\n",
       "#sk-container-id-1 a.estimator_doc_link.fitted {\n",
       "  /* fitted */\n",
       "  border: var(--sklearn-color-fitted-level-1) 1pt solid;\n",
       "  color: var(--sklearn-color-fitted-level-1);\n",
       "}\n",
       "\n",
       "/* On hover */\n",
       "#sk-container-id-1 a.estimator_doc_link:hover {\n",
       "  /* unfitted */\n",
       "  background-color: var(--sklearn-color-unfitted-level-3);\n",
       "  color: var(--sklearn-color-background);\n",
       "  text-decoration: none;\n",
       "}\n",
       "\n",
       "#sk-container-id-1 a.estimator_doc_link.fitted:hover {\n",
       "  /* fitted */\n",
       "  background-color: var(--sklearn-color-fitted-level-3);\n",
       "}\n",
       "</style><div id=\"sk-container-id-1\" class=\"sk-top-container\"><div class=\"sk-text-repr-fallback\"><pre>GradientBoostingClassifier(random_state=0)</pre><b>In a Jupyter environment, please rerun this cell to show the HTML representation or trust the notebook. <br />On GitHub, the HTML representation is unable to render, please try loading this page with nbviewer.org.</b></div><div class=\"sk-container\" hidden><div class=\"sk-item\"><div class=\"sk-estimator fitted sk-toggleable\"><input class=\"sk-toggleable__control sk-hidden--visually\" id=\"sk-estimator-id-1\" type=\"checkbox\" checked><label for=\"sk-estimator-id-1\" class=\"sk-toggleable__label fitted sk-toggleable__label-arrow fitted\">&nbsp;&nbsp;GradientBoostingClassifier<a class=\"sk-estimator-doc-link fitted\" rel=\"noreferrer\" target=\"_blank\" href=\"https://scikit-learn.org/1.5/modules/generated/sklearn.ensemble.GradientBoostingClassifier.html\">?<span>Documentation for GradientBoostingClassifier</span></a><span class=\"sk-estimator-doc-link fitted\">i<span>Fitted</span></span></label><div class=\"sk-toggleable__content fitted\"><pre>GradientBoostingClassifier(random_state=0)</pre></div> </div></div></div></div>"
      ],
      "text/plain": [
       "GradientBoostingClassifier(random_state=0)"
      ]
     },
     "execution_count": 11,
     "metadata": {},
     "output_type": "execute_result"
    }
   ],
   "source": [
    "# Scikit-Learn Model\n",
    "model = GradientBoostingClassifier(random_state = random_seed)\n",
    "model.fit(x_train, y_train)"
   ]
  },
  {
   "cell_type": "code",
   "execution_count": 12,
   "id": "2888abe6-16d2-4096-a307-72f4a7e42387",
   "metadata": {
    "tags": []
   },
   "outputs": [
    {
     "name": "stdout",
     "output_type": "stream",
     "text": [
      "Accuracy\n",
      "0.9390121975604879\n"
     ]
    }
   ],
   "source": [
    "y_train_pred = model.predict(x_train)\n",
    "y_train_pred_score = model.predict_proba(x_train)[:, 1]\n",
    "\n",
    "y_test_pred = model.predict(x_test)\n",
    "y_test_pred_score = model.predict_proba(x_test)[:, 1]\n",
    "accuracy = model.score(x_test, y_test)\n",
    "print(\"Accuracy\")\n",
    "print(accuracy)"
   ]
  },
  {
   "cell_type": "code",
   "execution_count": 13,
   "id": "067025e0-b5fc-468e-810b-60cd559dee8e",
   "metadata": {
    "tags": []
   },
   "outputs": [
    {
     "name": "stdout",
     "output_type": "stream",
     "text": [
      "AUC\n",
      "0.8873625174617288\n"
     ]
    }
   ],
   "source": [
    "fpr, tpr, thresholds = metrics.roc_curve(y_test, y_test_pred_score)\n",
    "auc = metrics.auc(fpr, tpr)\n",
    "print(\"AUC\")\n",
    "print(auc)"
   ]
  },
  {
   "cell_type": "code",
   "execution_count": 14,
   "id": "88f79369-504f-451a-9e73-d41bc46c1aea",
   "metadata": {
    "tags": []
   },
   "outputs": [
    {
     "name": "stderr",
     "output_type": "stream",
     "text": [
      "100%|██████████| 846/846 [00:03<00:00, 257.75it/s]\n",
      "100%|██████████| 198183/198183 [11:59<00:00, 275.27it/s] \n",
      "100%|██████████| 3143733/3143733 [56:16<00:00, 930.93it/s]  \n"
     ]
    }
   ],
   "source": [
    "model_explainer = ModelExplainer(\n",
    "    model=model, \n",
    "    feature_names=feature_names\n",
    ")\n",
    "\n",
    "rules = model_explainer.explain(\n",
    "    X=x_train, y=y_train_pred,\n",
    "    #num_stages = 10,               # stages can be between 1 and max_depth \n",
    "    min_precision = 0.85,          # higher min_precision can result in rules with more terms overfit on training data \n",
    "    #jaccard_threshold = 0.6       # lower jaccard_threshold speeds up the rule exploration, but can miss some good rules\n",
    ")"
   ]
  },
  {
   "cell_type": "code",
   "execution_count": 15,
   "id": "f5517361-2427-4833-a046-11fdb50b622c",
   "metadata": {
    "tags": []
   },
   "outputs": [
    {
     "name": "stdout",
     "output_type": "stream",
     "text": [
      "The rules explain 98.9% of the overall predictions of the model\n",
      "The rules explain 100.0% of the positive predictions of the model\n",
      "The rules explain 98.88% of the negative predictions of the model\n"
     ]
    }
   ],
   "source": [
    "fidelity, positive_fidelity, negative_fidelity = model_explainer.get_fidelity()\n",
    "\n",
    "print(\"The rules explain \" + str(round(fidelity*100, 2)) + \"% of the overall predictions of the model\" )\n",
    "print(\"The rules explain \" + str(round(positive_fidelity*100, 2)) + \"% of the positive predictions of the model\" )\n",
    "print(\"The rules explain \" + str(round(negative_fidelity*100, 2)) + \"% of the negative predictions of the model\" )"
   ]
  },
  {
   "cell_type": "code",
   "execution_count": 16,
   "id": "44b6fa1f-c889-44e3-bdbd-7fa6a925f47f",
   "metadata": {
    "tags": []
   },
   "outputs": [
    {
     "name": "stdout",
     "output_type": "stream",
     "text": [
      "43 rules found:\n",
      "\n",
      "Rule 0: arrival_transport_encoded <= 3.5 & arrival_transport_encoded > 0.5 & triage_acuity_iter_numeric <= 1.5\n",
      "Rule 1: arrival_transport_encoded <= 3.5 & score_CCI_numeric > 0.5 & score_NEWS_numeric > 2.5 & triage_acuity_iter_numeric <= 1.5\n",
      "Rule 2: age_numeric > 0.5 & arrival_transport_encoded <= 3.5 & med_event <= 0.5 & score_CART_numeric > 1.5 & triage_acuity_iter_numeric <= 1.5\n",
      "Rule 3: arrival_transport_encoded <= 3.5 & n_icu_365d_numeric > 0.5 & score_CART_numeric > 0.5 & score_NEWS_numeric > 1.5 & triage_acuity_iter_numeric <= 1.5 & triage_sbp_iter_numeric <= 2.5\n",
      "Rule 4: arrival_transport_encoded <= 3.5 & score_CART_numeric > 0.5 & score_CCI_numeric > 1.5 & score_NEWS_numeric > 2.5 & triage_acuity_iter_numeric <= 2.5 & triage_heartrate_iter_numeric > 2.5 & triage_sbp_iter_numeric <= 1.5\n",
      "Rule 5: age_numeric > 1.5 & arrival_transport_encoded <= 3.5 & triage_acuity_iter_numeric <= 1.5 & triage_heartrate_iter_numeric > 2.5 & triage_sbp_iter_numeric <= 1.5\n",
      "Rule 6: score_CCI_numeric > 0.5 & score_NEWS_numeric > 2.5 & triage_acuity_iter_numeric <= 1.5 & triage_dbp_iter_numeric <= 0.5 & triage_heartrate_iter_numeric > 2.5\n",
      "Rule 7: arrival_transport_encoded <= 3.5 & score_CART_numeric > 2.5 & triage_acuity_iter_numeric <= 2.5 & triage_dbp_iter_numeric <= 1.5 & triage_resprate_iter_numeric > 3.5\n",
      "Rule 8: age_numeric > 1.5 & arrival_transport_encoded <= 3.5 & med_event <= 0.5 & score_NEWS_numeric > 2.5\n",
      "Rule 9: age_numeric > 1.5 & arrival_transport_encoded <= 1.5 & arrival_transport_encoded > 0.5 & triage_acuity_iter_numeric > 2.5 & triage_sbp_iter_numeric <= 2.5\n",
      "Rule 10: n_icu_365d_numeric > 0.5 & score_CCI_numeric > 0.5 & score_NEWS_numeric > 2.5 & triage_acuity_iter_numeric <= 1.5\n",
      "Rule 11: arrival_transport_encoded <= 3.5 & arrival_transport_encoded > 0.5 & med_event <= 0.5 & score_CART_numeric > 1.5 & score_NEWS_numeric > 1.5 & triage_acuity_iter_numeric <= 2.5\n",
      "Rule 12: age_numeric > 1.5 & arrival_transport_encoded <= 3.5 & n_icu_365d_numeric > 0.5 & score_NEWS_numeric > 2.5 & triage_acuity_iter_numeric <= 2.5\n",
      "Rule 13: age_numeric > 2.5 & med_event <= 0.5 & triage_acuity_iter_numeric <= 1.5 & triage_sbp_iter_numeric <= 2.5\n",
      "Rule 14: arrival_transport_encoded <= 3.5 & triage_acuity_iter_numeric <= 1.5 & triage_resprate_iter_numeric > 3.5\n",
      "Rule 15: age_numeric > 0.5 & score_CART_numeric > 2.5 & score_NEWS_numeric > 2.5 & triage_dbp_iter_numeric <= 0.5 & triage_resprate_iter_numeric <= 3.5 & triage_sbp_iter_numeric <= 0.5\n",
      "Rule 16: arrival_transport_encoded <= 3.5 & n_icu_365d_numeric > 0.5 & triage_acuity_iter_numeric <= 1.5 & triage_heartrate_iter_numeric > 2.5\n",
      "Rule 17: arrival_transport_encoded <= 3.5 & score_NEWS_numeric > 3.5 & triage_acuity_iter_numeric <= 2.5\n",
      "Rule 18: arrival_transport_encoded <= 3.5 & arrival_transport_encoded > 0.5 & score_NEWS_numeric > 2.5\n",
      "Rule 19: med_event <= 0.5 & score_CCI_numeric > 0.5 & score_NEWS_numeric > 0.5 & triage_acuity_iter_numeric <= 1.5 & triage_sbp_iter_numeric <= 1.5\n",
      "Rule 20: arrival_transport_encoded <= 3.5 & arrival_transport_encoded > 0.5 & med_event <= 0.5 & score_CART_numeric > 1.5 & triage_acuity_iter_numeric <= 2.5 & triage_sbp_iter_numeric <= 1.5\n",
      "Rule 21: arrival_transport_encoded <= 3.5 & n_icu_365d_numeric > 1.5 & score_NEWS_numeric > 1.5 & triage_acuity_iter_numeric <= 1.5\n",
      "Rule 22: age_numeric > 2.5 & score_NEWS_numeric > 3.5 & triage_acuity_iter_numeric <= 1.5 & triage_sbp_iter_numeric <= 2.5\n",
      "Rule 23: n_icu_365d_numeric > 0.5 & triage_dbp_iter_numeric <= 0.5 & triage_heartrate_iter_numeric > 2.5 & triage_sbp_iter_numeric <= 0.5\n",
      "Rule 24: arrival_transport_encoded <= 3.5 & arrival_transport_encoded > 0.5 & score_CCI_numeric > 1.5 & score_NEWS_numeric > 1.5 & triage_acuity_iter_numeric <= 2.5 & triage_heartrate_iter_numeric > 2.5 & triage_sbp_iter_numeric <= 2.5\n",
      "Rule 25: arrival_transport_encoded <= 3.5 & n_icu_365d_numeric > 2.5 & score_CCI_numeric <= 3.5 & triage_heartrate_iter_numeric > 3.5\n",
      "Rule 26: arrival_transport_encoded <= 3.5 & med_event <= 0.5 & score_CART_numeric > 1.5 & score_CCI_numeric > 0.5 & score_NEWS_numeric > 1.5 & triage_acuity_iter_numeric <= 2.5 & triage_heartrate_iter_numeric > 2.5 & triage_sbp_iter_numeric <= 1.5\n",
      "Rule 27: age_numeric > 1.5 & arrival_transport_encoded <= 3.5 & score_NEWS_numeric > 1.5 & triage_acuity_iter_numeric <= 1.5 & triage_heartrate_iter_numeric > 2.5 & triage_pain_iter_numeric <= 2.5 & triage_pain_iter_numeric > 1.5\n",
      "Rule 28: age_numeric > 1.5 & triage_acuity_iter_numeric <= 1.5 & triage_pain_iter_numeric <= 1.5 & triage_resprate_iter_numeric > 3.5 & triage_sbp_iter_numeric <= 2.5\n",
      "Rule 29: n_icu_365d_numeric > 2.5 & triage_acuity_iter_numeric <= 1.5 & triage_dbp_iter_numeric <= 3.5\n",
      "Rule 30: n_icu_365d_numeric > 2.5 & score_NEWS_numeric > 2.5 & triage_acuity_iter_numeric <= 2.5\n",
      "Rule 31: arrival_transport_encoded <= 3.5 & arrival_transport_encoded > 1.5 & n_icu_365d_numeric > 2.5 & score_NEWS_numeric > 1.5 & triage_acuity_iter_numeric <= 2.5\n",
      "Rule 32: arrival_transport_encoded <= 3.5 & med_event <= 0.5 & n_icu_365d_numeric > 2.5 & score_CART_numeric > 1.5 & triage_acuity_iter_numeric <= 2.5\n",
      "Rule 33: arrival_transport_encoded <= 3.5 & score_NEWS_numeric > 2.5 & triage_resprate_iter_numeric > 3.5\n",
      "Rule 34: arrival_transport_encoded <= 3.5 & n_icu_365d_numeric > 0.5 & triage_acuity_iter_numeric <= 1.5 & triage_resprate_iter_numeric > 2.5\n",
      "Rule 35: age_numeric > 2.5 & arrival_transport_encoded <= 3.5 & triage_acuity_iter_numeric <= 1.5 & triage_resprate_iter_numeric > 2.5 & triage_sbp_iter_numeric <= 2.5\n",
      "Rule 36: arrival_transport_encoded <= 3.5 & med_event <= 0.5 & n_icu_365d_numeric > 0.5 & score_NEWS_numeric <= 3.5 & triage_dbp_iter_numeric <= 1.5 & triage_heartrate_iter_numeric > 3.5\n",
      "Rule 37: age_numeric <= 0.5 & n_icu_365d_numeric > 2.5 & score_CART_numeric <= 1.5 & score_CART_numeric > 0.5 & score_NEWS_numeric > 0.5 & triage_acuity_iter_numeric <= 2.5\n",
      "Rule 38: arrival_transport_encoded <= 3.5 & n_icu_365d_numeric > 2.5 & triage_acuity_iter_numeric <= 1.5\n",
      "Rule 39: n_icu_365d_numeric > 2.5 & score_CART_numeric > 3.5 & triage_heartrate_iter_numeric > 2.5\n",
      "Rule 40: med_event <= 0.5 & score_CART_numeric > 3.5 & score_CCI_numeric > 0.5 & triage_acuity_iter_numeric <= 1.5\n",
      "Rule 41: arrival_transport_encoded <= 3.5 & med_event <= 0.5 & n_icu_365d_numeric > 1.5 & score_CART_numeric > 3.5\n",
      "Rule 42: age_numeric > 2.5 & score_NEWS_numeric > 2.5 & triage_acuity_iter_numeric <= 1.5 & triage_sbp_iter_numeric <= 0.5\n"
     ]
    }
   ],
   "source": [
    "#inspect rules\n",
    "#85% precision \n",
    "print(str(len(rules)) + \" rules found:\")\n",
    "print()\n",
    "for i in range(len(rules)):\n",
    "    print(\"Rule \" + str(i) + \": \" + str(rules[i]))"
   ]
  },
  {
   "cell_type": "code",
   "execution_count": 17,
   "id": "9f098114-1b4c-4c79-ab6c-03b8af3a3849",
   "metadata": {
    "tags": []
   },
   "outputs": [
    {
     "name": "stdout",
     "output_type": "stream",
     "text": [
      "[0 4 3 2 1]\n"
     ]
    }
   ],
   "source": []
  },
  {
   "cell_type": "markdown",
   "id": "dac4c127-e816-4cbf-9e70-cc90acb69028",
   "metadata": {
    "tags": []
   },
   "source": [
    "## Analysis of Rules"
   ]
  },
  {
   "cell_type": "code",
   "execution_count": 63,
   "id": "b0d7c475-73f7-4fd0-a44d-b083fe5b8e63",
   "metadata": {
    "tags": []
   },
   "outputs": [],
   "source": [
    "df = df_master"
   ]
  },
  {
   "cell_type": "code",
   "execution_count": 64,
   "id": "fd1b15d3-b07b-404a-8dc3-6dc3770c4c33",
   "metadata": {
    "tags": []
   },
   "outputs": [],
   "source": [
    "critical_rules = [\n",
    "    # Rule 0\n",
    "    (\n",
    "        (df['arrival_transport_encoded'] <= 3.5) &\n",
    "        (df['arrival_transport_encoded'] > 0.5) &\n",
    "        (df['triage_acuity_iter_numeric'] <= 1.5)\n",
    "    ),\n",
    "\n",
    "    # Rule 1\n",
    "    (\n",
    "        (df['arrival_transport_encoded'] <= 3.5) &\n",
    "        (df['score_CCI_numeric'] > 0.5) &\n",
    "        (df['score_NEWS_numeric'] > 2.5) &\n",
    "        (df['triage_acuity_iter_numeric'] <= 1.5)\n",
    "    ),\n",
    "\n",
    "    # Rule 2\n",
    "    (\n",
    "        (df['age_numeric'] > 0.5) &\n",
    "        (df['arrival_transport_encoded'] <= 3.5) &\n",
    "        (df['med_event'] <= 0.5) &\n",
    "        (df['score_CART_numeric'] > 1.5) &\n",
    "        (df['triage_acuity_iter_numeric'] <= 1.5)\n",
    "    ),\n",
    "\n",
    "    # Rule 3\n",
    "    (\n",
    "        (df['arrival_transport_encoded'] <= 3.5) &\n",
    "        (df['n_icu_365d_numeric'] > 0.5) &\n",
    "        (df['score_CART_numeric'] > 0.5) &\n",
    "        (df['score_NEWS_numeric'] > 1.5) &\n",
    "        (df['triage_acuity_iter_numeric'] <= 1.5) &\n",
    "        (df['triage_sbp_iter_numeric'] <= 2.5)\n",
    "    ),\n",
    "\n",
    "    # Rule 4\n",
    "    (\n",
    "        (df['arrival_transport_encoded'] <= 3.5) &\n",
    "        (df['score_CART_numeric'] > 0.5) &\n",
    "        (df['score_CCI_numeric'] > 1.5) &\n",
    "        (df['score_NEWS_numeric'] > 2.5) &\n",
    "        (df['triage_acuity_iter_numeric'] <= 2.5) &\n",
    "        (df['triage_heartrate_iter_numeric'] > 2.5) &\n",
    "        (df['triage_sbp_iter_numeric'] <= 1.5)\n",
    "    ),\n",
    "\n",
    "    # Rule 5\n",
    "    (\n",
    "        (df['age_numeric'] > 1.5) &\n",
    "        (df['arrival_transport_encoded'] <= 3.5) &\n",
    "        (df['triage_acuity_iter_numeric'] <= 1.5) &\n",
    "        (df['triage_heartrate_iter_numeric'] > 2.5) &\n",
    "        (df['triage_sbp_iter_numeric'] <= 1.5)\n",
    "    ),\n",
    "\n",
    "    # Rule 6\n",
    "    (\n",
    "        (df['score_CCI_numeric'] > 0.5) &\n",
    "        (df['score_NEWS_numeric'] > 2.5) &\n",
    "        (df['triage_acuity_iter_numeric'] <= 1.5) &\n",
    "        (df['triage_dbp_iter_numeric'] <= 0.5) &\n",
    "        (df['triage_heartrate_iter_numeric'] > 2.5)\n",
    "    ),\n",
    "\n",
    "    # Rule 7\n",
    "    (\n",
    "        (df['arrival_transport_encoded'] <= 3.5) &\n",
    "        (df['score_CART_numeric'] > 2.5) &\n",
    "        (df['triage_acuity_iter_numeric'] <= 2.5) &\n",
    "        (df['triage_dbp_iter_numeric'] <= 1.5) &\n",
    "        (df['triage_resprate_iter_numeric'] > 3.5)\n",
    "    ),\n",
    "\n",
    "    # Rule 8\n",
    "    (\n",
    "        (df['age_numeric'] > 1.5) &\n",
    "        (df['arrival_transport_encoded'] <= 3.5) &\n",
    "        (df['med_event'] <= 0.5) &\n",
    "        (df['score_NEWS_numeric'] > 2.5)\n",
    "    ),\n",
    "\n",
    "    # Rule 9\n",
    "    (\n",
    "        (df['age_numeric'] > 1.5) &\n",
    "        (df['arrival_transport_encoded'] <= 1.5) &\n",
    "        (df['arrival_transport_encoded'] > 0.5) &\n",
    "        (df['triage_acuity_iter_numeric'] > 2.5) &\n",
    "        (df['triage_sbp_iter_numeric'] <= 2.5)\n",
    "    ),\n",
    "\n",
    "    # Rule 10\n",
    "    (\n",
    "        (df['n_icu_365d_numeric'] > 0.5) &\n",
    "        (df['score_CCI_numeric'] > 0.5) &\n",
    "        (df['score_NEWS_numeric'] > 2.5) &\n",
    "        (df['triage_acuity_iter_numeric'] <= 1.5)\n",
    "    ),\n",
    "\n",
    "    # Rule 11\n",
    "    (\n",
    "        (df['arrival_transport_encoded'] <= 3.5) &\n",
    "        (df['arrival_transport_encoded'] > 0.5) &\n",
    "        (df['med_event'] <= 0.5) &\n",
    "        (df['score_CART_numeric'] > 1.5) &\n",
    "        (df['score_NEWS_numeric'] > 1.5) &\n",
    "        (df['triage_acuity_iter_numeric'] <= 2.5)\n",
    "    ),\n",
    "\n",
    "    # Rule 12\n",
    "    (\n",
    "        (df['age_numeric'] > 1.5) &\n",
    "        (df['arrival_transport_encoded'] <= 3.5) &\n",
    "        (df['n_icu_365d_numeric'] > 0.5) &\n",
    "        (df['score_NEWS_numeric'] > 2.5) &\n",
    "        (df['triage_acuity_iter_numeric'] <= 2.5)\n",
    "    ),\n",
    "\n",
    "    # Rule 13\n",
    "    (\n",
    "        (df['age_numeric'] > 2.5) &\n",
    "        (df['med_event'] <= 0.5) &\n",
    "        (df['triage_acuity_iter_numeric'] <= 1.5) &\n",
    "        (df['triage_sbp_iter_numeric'] <= 2.5)\n",
    "    ),\n",
    "\n",
    "    # Rule 14\n",
    "    (\n",
    "        (df['arrival_transport_encoded'] <= 3.5) &\n",
    "        (df['triage_acuity_iter_numeric'] <= 1.5) &\n",
    "        (df['triage_resprate_iter_numeric'] > 3.5)\n",
    "    ),\n",
    "\n",
    "    # Rule 15\n",
    "    (\n",
    "        (df['age_numeric'] > 0.5) &\n",
    "        (df['score_CART_numeric'] > 2.5) &\n",
    "        (df['score_NEWS_numeric'] > 2.5) &\n",
    "        (df['triage_dbp_iter_numeric'] <= 0.5) &\n",
    "        (df['triage_resprate_iter_numeric'] <= 3.5) &\n",
    "        (df['triage_sbp_iter_numeric'] <= 0.5)\n",
    "    ),\n",
    "\n",
    "    # Rule 16\n",
    "    (\n",
    "        (df['arrival_transport_encoded'] <= 3.5) &\n",
    "        (df['n_icu_365d_numeric'] > 0.5) &\n",
    "        (df['triage_acuity_iter_numeric'] <= 1.5) &\n",
    "        (df['triage_heartrate_iter_numeric'] > 2.5)\n",
    "    ),\n",
    "\n",
    "    # Rule 17\n",
    "    (\n",
    "        (df['arrival_transport_encoded'] <= 3.5) &\n",
    "        (df['score_NEWS_numeric'] > 3.5) &\n",
    "        (df['triage_acuity_iter_numeric'] <= 2.5)\n",
    "    ),\n",
    "\n",
    "    # Rule 18\n",
    "    (\n",
    "        (df['arrival_transport_encoded'] <= 3.5) &\n",
    "        (df['arrival_transport_encoded'] > 0.5) &\n",
    "        (df['score_NEWS_numeric'] > 2.5)\n",
    "    ),\n",
    "\n",
    "    # Rule 19\n",
    "    (\n",
    "        (df['med_event'] <= 0.5) &\n",
    "        (df['score_CCI_numeric'] > 0.5) &\n",
    "        (df['score_NEWS_numeric'] > 0.5) &\n",
    "        (df['triage_acuity_iter_numeric'] <= 1.5) &\n",
    "        (df['triage_sbp_iter_numeric'] <= 1.5)\n",
    "    ),\n",
    "\n",
    "    # Rule 20\n",
    "    (\n",
    "        (df['arrival_transport_encoded'] <= 3.5) &\n",
    "        (df['arrival_transport_encoded'] > 0.5) &\n",
    "        (df['med_event'] <= 0.5) &\n",
    "        (df['score_CART_numeric'] > 1.5) &\n",
    "        (df['triage_acuity_iter_numeric'] <= 2.5) &\n",
    "        (df['triage_sbp_iter_numeric'] <= 1.5)\n",
    "    ),\n",
    "\n",
    "    # Rule 21\n",
    "    (\n",
    "        (df['arrival_transport_encoded'] <= 3.5) &\n",
    "        (df['n_icu_365d_numeric'] > 1.5) &\n",
    "        (df['score_NEWS_numeric'] > 1.5) &\n",
    "        (df['triage_acuity_iter_numeric'] <= 1.5)\n",
    "    ),\n",
    "\n",
    "    # Rule 22\n",
    "    (\n",
    "        (df['age_numeric'] > 2.5) &\n",
    "        (df['score_NEWS_numeric'] > 3.5) &\n",
    "        (df['triage_acuity_iter_numeric'] <= 1.5) &\n",
    "        (df['triage_sbp_iter_numeric'] <= 2.5)\n",
    "    ),\n",
    "\n",
    "    # Rule 23\n",
    "    (\n",
    "        (df['n_icu_365d_numeric'] > 0.5) &\n",
    "        (df['triage_dbp_iter_numeric'] <= 0.5) &\n",
    "        (df['triage_heartrate_iter_numeric'] > 2.5) &\n",
    "        (df['triage_sbp_iter_numeric'] <= 0.5)\n",
    "    ),\n",
    "\n",
    "    # Rule 24\n",
    "    (\n",
    "        (df['arrival_transport_encoded'] <= 3.5) &\n",
    "        (df['arrival_transport_encoded'] > 0.5) &\n",
    "        (df['score_CCI_numeric'] > 1.5) &\n",
    "        (df['score_NEWS_numeric'] > 1.5) &\n",
    "        (df['triage_acuity_iter_numeric'] <= 2.5) &\n",
    "        (df['triage_heartrate_iter_numeric'] > 2.5) &\n",
    "        (df['triage_sbp_iter_numeric'] <= 2.5)\n",
    "    ),\n",
    "\n",
    "    # Rule 25\n",
    "    (\n",
    "        (df['arrival_transport_encoded'] <= 3.5) &\n",
    "        (df['n_icu_365d_numeric'] > 2.5) &\n",
    "        (df['score_CCI_numeric'] <= 3.5) &\n",
    "        (df['triage_heartrate_iter_numeric'] > 3.5)\n",
    "    ),\n",
    "\n",
    "    # Rule 26\n",
    "    (\n",
    "        (df['arrival_transport_encoded'] <= 3.5) &\n",
    "        (df['med_event'] <= 0.5) &\n",
    "        (df['score_CART_numeric'] > 1.5) &\n",
    "        (df['score_CCI_numeric'] > 0.5) &\n",
    "        (df['score_NEWS_numeric'] > 1.5) &\n",
    "        (df['triage_acuity_iter_numeric'] <= 2.5) &\n",
    "        (df['triage_heartrate_iter_numeric'] > 2.5) &\n",
    "        (df['triage_sbp_iter_numeric'] <= 1.5)\n",
    "    ),\n",
    "\n",
    "    # Rule 27\n",
    "    (\n",
    "        (df['age_numeric'] > 1.5) &\n",
    "        (df['arrival_transport_encoded'] <= 3.5) &\n",
    "        (df['score_NEWS_numeric'] > 1.5) &\n",
    "        (df['triage_acuity_iter_numeric'] <= 1.5) &\n",
    "        (df['triage_heartrate_iter_numeric'] > 2.5) &\n",
    "        (df['triage_pain_iter_numeric'] <= 2.5) &\n",
    "        (df['triage_pain_iter_numeric'] > 1.5)\n",
    "    ),\n",
    "\n",
    "    # Rule 28\n",
    "    (\n",
    "        (df['age_numeric'] > 1.5) &\n",
    "        (df['triage_acuity_iter_numeric'] <= 1.5) &\n",
    "        (df['triage_pain_iter_numeric'] <= 1.5) &\n",
    "        (df['triage_resprate_iter_numeric'] > 3.5) &\n",
    "        (df['triage_sbp_iter_numeric'] <= 2.5)\n",
    "    ),\n",
    "\n",
    "    # Rule 29\n",
    "    (\n",
    "        (df['n_icu_365d_numeric'] > 2.5) &\n",
    "        (df['triage_acuity_iter_numeric'] <= 1.5) &\n",
    "        (df['triage_dbp_iter_numeric'] <= 3.5)\n",
    "    ),\n",
    "\n",
    "    # Rule 30\n",
    "    (\n",
    "        (df['n_icu_365d_numeric'] > 2.5) &\n",
    "        (df['score_NEWS_numeric'] > 2.5) &\n",
    "        (df['triage_acuity_iter_numeric'] <= 2.5)\n",
    "    ),\n",
    "\n",
    "    # Rule 31\n",
    "    (\n",
    "        (df['arrival_transport_encoded'] <= 3.5) &\n",
    "        (df['arrival_transport_encoded'] > 1.5) &\n",
    "        (df['n_icu_365d_numeric'] > 2.5) &\n",
    "        (df['score_NEWS_numeric'] > 1.5) &\n",
    "        (df['triage_acuity_iter_numeric'] <= 2.5)\n",
    "    ),\n",
    "\n",
    "    # Rule 32\n",
    "    (\n",
    "        (df['arrival_transport_encoded'] <= 3.5) &\n",
    "        (df['med_event'] <= 0.5) &\n",
    "        (df['n_icu_365d_numeric'] > 2.5) &\n",
    "        (df['score_CART_numeric'] > 1.5) &\n",
    "        (df['triage_acuity_iter_numeric'] <= 2.5)\n",
    "    ),\n",
    "\n",
    "    # Rule 33\n",
    "    (\n",
    "        (df['arrival_transport_encoded'] <= 3.5) &\n",
    "        (df['score_NEWS_numeric'] > 2.5) &\n",
    "        (df['triage_resprate_iter_numeric'] > 3.5)\n",
    "    ),\n",
    "\n",
    "    # Rule 34\n",
    "    (\n",
    "        (df['arrival_transport_encoded'] <= 3.5) &\n",
    "        (df['n_icu_365d_numeric'] > 0.5) &\n",
    "        (df['triage_acuity_iter_numeric'] <= 1.5) &\n",
    "        (df['triage_resprate_iter_numeric'] > 2.5)\n",
    "    ),\n",
    "\n",
    "    # Rule 35\n",
    "    (\n",
    "        (df['age_numeric'] > 2.5) &\n",
    "        (df['arrival_transport_encoded'] <= 3.5) &\n",
    "        (df['triage_acuity_iter_numeric'] <= 1.5) &\n",
    "        (df['triage_resprate_iter_numeric'] > 2.5) &\n",
    "        (df['triage_sbp_iter_numeric'] <= 2.5)\n",
    "    ),\n",
    "\n",
    "    # Rule 36\n",
    "    (\n",
    "        (df['arrival_transport_encoded'] <= 3.5) &\n",
    "        (df['med_event'] <= 0.5) &\n",
    "        (df['n_icu_365d_numeric'] > 0.5) &\n",
    "        (df['score_NEWS_numeric'] <= 3.5) &\n",
    "        (df['triage_dbp_iter_numeric'] <= 1.5) &\n",
    "        (df['triage_heartrate_iter_numeric'] > 3.5)\n",
    "    ),\n",
    "\n",
    "    # Rule 37\n",
    "    (\n",
    "        (df['age_numeric'] <= 0.5) &\n",
    "        (df['n_icu_365d_numeric'] > 2.5) &\n",
    "        (df['score_CART_numeric'] <= 1.5) &\n",
    "        (df['score_CART_numeric'] > 0.5) &\n",
    "        (df['score_NEWS_numeric'] > 0.5) &\n",
    "        (df['triage_acuity_iter_numeric'] <= 2.5)\n",
    "    ),\n",
    "\n",
    "    # Rule 38\n",
    "    (\n",
    "        (df['arrival_transport_encoded'] <= 3.5) &\n",
    "        (df['n_icu_365d_numeric'] > 2.5) &\n",
    "        (df['triage_acuity_iter_numeric'] <= 1.5)\n",
    "    ),\n",
    "\n",
    "    # Rule 39\n",
    "    (\n",
    "        (df['n_icu_365d_numeric'] > 2.5) &\n",
    "        (df['score_CART_numeric'] > 3.5) &\n",
    "        (df['triage_heartrate_iter_numeric'] > 2.5)\n",
    "    ),\n",
    "\n",
    "    # Rule 40\n",
    "    (\n",
    "        (df['med_event'] <= 0.5) &\n",
    "        (df['score_CART_numeric'] > 3.5) &\n",
    "        (df['score_CCI_numeric'] > 0.5) &\n",
    "        (df['triage_acuity_iter_numeric'] <= 1.5)\n",
    "    ),\n",
    "\n",
    "    # Rule 41\n",
    "    (\n",
    "        (df['arrival_transport_encoded'] <= 3.5) &\n",
    "        (df['med_event'] <= 0.5) &\n",
    "        (df['n_icu_365d_numeric'] > 1.5) &\n",
    "        (df['score_CART_numeric'] > 3.5)\n",
    "    ),\n",
    "\n",
    "    # Rule 42\n",
    "    (\n",
    "        (df['age_numeric'] > 2.5) &\n",
    "        (df['score_NEWS_numeric'] > 2.5) &\n",
    "        (df['triage_acuity_iter_numeric'] <= 1.5) &\n",
    "        (df['triage_sbp_iter_numeric'] <= 0.5)\n",
    "    )\n",
    "]\n"
   ]
  },
  {
   "cell_type": "code",
   "execution_count": null,
   "id": "522571ac-aa14-49ed-8563-6098b3b78afe",
   "metadata": {},
   "outputs": [],
   "source": []
  },
  {
   "cell_type": "code",
   "execution_count": 65,
   "id": "9f9b53cb-10ea-4531-bc5a-4832725487f4",
   "metadata": {
    "tags": []
   },
   "outputs": [],
   "source": [
    "#basic analysis"
   ]
  },
  {
   "cell_type": "code",
   "execution_count": null,
   "id": "07f19653-0662-4875-aff6-4fa04c7fbea3",
   "metadata": {},
   "outputs": [],
   "source": []
  },
  {
   "cell_type": "code",
   "execution_count": 66,
   "id": "b8fc9910-714c-4ec0-961e-1d9f1700d966",
   "metadata": {
    "tags": []
   },
   "outputs": [],
   "source": [
    "# Check for critical rule activations\n",
    "# Initialize a column to store activated rule indices\n",
    "df['activated_rule'] = ''\n",
    "\n",
    "\n",
    "# Iterate over each observation\n",
    "for i, row in df.iterrows():\n",
    "    activated_rules = []\n",
    "\n",
    "    # Check for critical rule activations\n",
    "    for j, rule in enumerate(critical_rules):\n",
    "        if rule[i]:\n",
    "            activated_rules.append('Critical rule ' + str(j))\n",
    "\n",
    "    # Store activated rule indices in the 'activated_rule' column\n",
    "    df.at[i, 'activated_rule'] = ', '.join(activated_rules)"
   ]
  },
  {
   "cell_type": "code",
   "execution_count": 67,
   "id": "d85d9c0d-cc9b-4804-b49b-a53d7a70e77f",
   "metadata": {
    "tags": []
   },
   "outputs": [
    {
     "name": "stdout",
     "output_type": "stream",
     "text": [
      "Number of rows with empty 'activated_rule' for critical: 411979\n"
     ]
    }
   ],
   "source": [
    "# Count rows with empty 'activated_rule'\n",
    "num_empty_activated_rules = df['activated_rule'].apply(lambda x: len(x) == 0).sum()\n",
    "\n",
    "# Print the number\n",
    "print(\"Number of rows with empty 'activated_rule' for critical:\", num_empty_activated_rules)"
   ]
  },
  {
   "cell_type": "code",
   "execution_count": null,
   "id": "90d92d55-fe36-40ea-acb3-42510908f143",
   "metadata": {},
   "outputs": [],
   "source": []
  },
  {
   "cell_type": "code",
   "execution_count": null,
   "id": "456fd565-6365-4e6a-9e07-0167b8f0f1f8",
   "metadata": {},
   "outputs": [],
   "source": [
    "# Rules Metrics"
   ]
  },
  {
   "cell_type": "code",
   "execution_count": null,
   "id": "c4abb298-970d-4629-85df-91d7d1ff7f90",
   "metadata": {},
   "outputs": [],
   "source": []
  },
  {
   "cell_type": "code",
   "execution_count": 68,
   "id": "f694c2f8-1629-44a5-9f77-e93257a63c8f",
   "metadata": {
    "tags": []
   },
   "outputs": [
    {
     "name": "stdout",
     "output_type": "stream",
     "text": [
      "Filtering for predefined Critical rules...\n",
      "Found 43 predefined critical rules.\n",
      "Calculating metrics for predefined critical rules...\n"
     ]
    },
    {
     "name": "stderr",
     "output_type": "stream",
     "text": [
      "Processing predefined critical rules: 100%|██████████| 43/43 [00:00<00:00, 113.84it/s]"
     ]
    },
    {
     "name": "stdout",
     "output_type": "stream",
     "text": [
      "Metric calculation complete.\n",
      "Rule metrics saved to 'rule_metrics_evaluation_critical_rules.csv'.\n"
     ]
    },
    {
     "name": "stderr",
     "output_type": "stream",
     "text": [
      "\n"
     ]
    },
    {
     "data": {
      "text/html": [
       "<div>\n",
       "<style scoped>\n",
       "    .dataframe tbody tr th:only-of-type {\n",
       "        vertical-align: middle;\n",
       "    }\n",
       "\n",
       "    .dataframe tbody tr th {\n",
       "        vertical-align: top;\n",
       "    }\n",
       "\n",
       "    .dataframe thead th {\n",
       "        text-align: right;\n",
       "    }\n",
       "</style>\n",
       "<table border=\"1\" class=\"dataframe\">\n",
       "  <thead>\n",
       "    <tr style=\"text-align: right;\">\n",
       "      <th></th>\n",
       "      <th>Rule</th>\n",
       "      <th>Overall Coverage (%)</th>\n",
       "      <th>Consistency (%)</th>\n",
       "      <th>Relative Coverage (%)</th>\n",
       "    </tr>\n",
       "  </thead>\n",
       "  <tbody>\n",
       "    <tr>\n",
       "      <th>28</th>\n",
       "      <td>Critical rule 0</td>\n",
       "      <td>0.805953</td>\n",
       "      <td>72.767075</td>\n",
       "      <td>8.849840</td>\n",
       "    </tr>\n",
       "    <tr>\n",
       "      <th>6</th>\n",
       "      <td>Critical rule 2</td>\n",
       "      <td>0.782899</td>\n",
       "      <td>67.457933</td>\n",
       "      <td>7.969471</td>\n",
       "    </tr>\n",
       "    <tr>\n",
       "      <th>42</th>\n",
       "      <td>Critical rule 1</td>\n",
       "      <td>0.729262</td>\n",
       "      <td>67.354839</td>\n",
       "      <td>7.412141</td>\n",
       "    </tr>\n",
       "    <tr>\n",
       "      <th>22</th>\n",
       "      <td>Critical rule 13</td>\n",
       "      <td>0.565061</td>\n",
       "      <td>67.610325</td>\n",
       "      <td>5.764998</td>\n",
       "    </tr>\n",
       "    <tr>\n",
       "      <th>12</th>\n",
       "      <td>Critical rule 5</td>\n",
       "      <td>0.522717</td>\n",
       "      <td>67.146715</td>\n",
       "      <td>5.296415</td>\n",
       "    </tr>\n",
       "    <tr>\n",
       "      <th>37</th>\n",
       "      <td>Critical rule 27</td>\n",
       "      <td>0.444615</td>\n",
       "      <td>68.095238</td>\n",
       "      <td>4.568690</td>\n",
       "    </tr>\n",
       "    <tr>\n",
       "      <th>36</th>\n",
       "      <td>Critical rule 35</td>\n",
       "      <td>0.408857</td>\n",
       "      <td>73.014960</td>\n",
       "      <td>4.504792</td>\n",
       "    </tr>\n",
       "    <tr>\n",
       "      <th>3</th>\n",
       "      <td>Critical rule 19</td>\n",
       "      <td>0.404858</td>\n",
       "      <td>66.937827</td>\n",
       "      <td>4.089457</td>\n",
       "    </tr>\n",
       "    <tr>\n",
       "      <th>2</th>\n",
       "      <td>Critical rule 17</td>\n",
       "      <td>0.361573</td>\n",
       "      <td>68.640208</td>\n",
       "      <td>3.745119</td>\n",
       "    </tr>\n",
       "    <tr>\n",
       "      <th>25</th>\n",
       "      <td>Critical rule 3</td>\n",
       "      <td>0.341577</td>\n",
       "      <td>66.460055</td>\n",
       "      <td>3.425630</td>\n",
       "    </tr>\n",
       "    <tr>\n",
       "      <th>18</th>\n",
       "      <td>Critical rule 8</td>\n",
       "      <td>0.327698</td>\n",
       "      <td>68.987796</td>\n",
       "      <td>3.411431</td>\n",
       "    </tr>\n",
       "    <tr>\n",
       "      <th>10</th>\n",
       "      <td>Critical rule 11</td>\n",
       "      <td>0.326286</td>\n",
       "      <td>75.054074</td>\n",
       "      <td>3.695421</td>\n",
       "    </tr>\n",
       "    <tr>\n",
       "      <th>24</th>\n",
       "      <td>Critical rule 4</td>\n",
       "      <td>0.311466</td>\n",
       "      <td>64.652568</td>\n",
       "      <td>3.038694</td>\n",
       "    </tr>\n",
       "    <tr>\n",
       "      <th>15</th>\n",
       "      <td>Critical rule 12</td>\n",
       "      <td>0.280648</td>\n",
       "      <td>64.375524</td>\n",
       "      <td>2.726305</td>\n",
       "    </tr>\n",
       "    <tr>\n",
       "      <th>20</th>\n",
       "      <td>Critical rule 16</td>\n",
       "      <td>0.274062</td>\n",
       "      <td>66.094421</td>\n",
       "      <td>2.733404</td>\n",
       "    </tr>\n",
       "    <tr>\n",
       "      <th>1</th>\n",
       "      <td>Critical rule 26</td>\n",
       "      <td>0.270062</td>\n",
       "      <td>70.034843</td>\n",
       "      <td>2.854100</td>\n",
       "    </tr>\n",
       "    <tr>\n",
       "      <th>26</th>\n",
       "      <td>Critical rule 10</td>\n",
       "      <td>0.261123</td>\n",
       "      <td>64.864865</td>\n",
       "      <td>2.555911</td>\n",
       "    </tr>\n",
       "    <tr>\n",
       "      <th>39</th>\n",
       "      <td>Critical rule 14</td>\n",
       "      <td>0.261123</td>\n",
       "      <td>72.162162</td>\n",
       "      <td>2.843450</td>\n",
       "    </tr>\n",
       "    <tr>\n",
       "      <th>19</th>\n",
       "      <td>Critical rule 18</td>\n",
       "      <td>0.233599</td>\n",
       "      <td>77.643505</td>\n",
       "      <td>2.736954</td>\n",
       "    </tr>\n",
       "    <tr>\n",
       "      <th>23</th>\n",
       "      <td>Critical rule 33</td>\n",
       "      <td>0.230071</td>\n",
       "      <td>71.983640</td>\n",
       "      <td>2.499113</td>\n",
       "    </tr>\n",
       "    <tr>\n",
       "      <th>8</th>\n",
       "      <td>Critical rule 24</td>\n",
       "      <td>0.207487</td>\n",
       "      <td>76.643991</td>\n",
       "      <td>2.399716</td>\n",
       "    </tr>\n",
       "    <tr>\n",
       "      <th>0</th>\n",
       "      <td>Critical rule 7</td>\n",
       "      <td>0.207016</td>\n",
       "      <td>70.227273</td>\n",
       "      <td>2.193823</td>\n",
       "    </tr>\n",
       "    <tr>\n",
       "      <th>27</th>\n",
       "      <td>Critical rule 34</td>\n",
       "      <td>0.193372</td>\n",
       "      <td>72.871046</td>\n",
       "      <td>2.126376</td>\n",
       "    </tr>\n",
       "    <tr>\n",
       "      <th>33</th>\n",
       "      <td>Critical rule 22</td>\n",
       "      <td>0.191020</td>\n",
       "      <td>68.226601</td>\n",
       "      <td>1.966631</td>\n",
       "    </tr>\n",
       "    <tr>\n",
       "      <th>16</th>\n",
       "      <td>Critical rule 21</td>\n",
       "      <td>0.182551</td>\n",
       "      <td>68.170103</td>\n",
       "      <td>1.877884</td>\n",
       "    </tr>\n",
       "    <tr>\n",
       "      <th>14</th>\n",
       "      <td>Critical rule 40</td>\n",
       "      <td>0.179493</td>\n",
       "      <td>76.277851</td>\n",
       "      <td>2.066028</td>\n",
       "    </tr>\n",
       "    <tr>\n",
       "      <th>7</th>\n",
       "      <td>Critical rule 6</td>\n",
       "      <td>0.174788</td>\n",
       "      <td>66.487214</td>\n",
       "      <td>1.753639</td>\n",
       "    </tr>\n",
       "    <tr>\n",
       "      <th>4</th>\n",
       "      <td>Critical rule 20</td>\n",
       "      <td>0.169377</td>\n",
       "      <td>74.027778</td>\n",
       "      <td>1.892084</td>\n",
       "    </tr>\n",
       "    <tr>\n",
       "      <th>5</th>\n",
       "      <td>Critical rule 42</td>\n",
       "      <td>0.150322</td>\n",
       "      <td>63.067293</td>\n",
       "      <td>1.430600</td>\n",
       "    </tr>\n",
       "    <tr>\n",
       "      <th>21</th>\n",
       "      <td>Critical rule 28</td>\n",
       "      <td>0.142089</td>\n",
       "      <td>71.357616</td>\n",
       "      <td>1.529996</td>\n",
       "    </tr>\n",
       "    <tr>\n",
       "      <th>35</th>\n",
       "      <td>Critical rule 15</td>\n",
       "      <td>0.127739</td>\n",
       "      <td>65.745856</td>\n",
       "      <td>1.267306</td>\n",
       "    </tr>\n",
       "    <tr>\n",
       "      <th>29</th>\n",
       "      <td>Critical rule 29</td>\n",
       "      <td>0.062105</td>\n",
       "      <td>71.212121</td>\n",
       "      <td>0.667377</td>\n",
       "    </tr>\n",
       "    <tr>\n",
       "      <th>34</th>\n",
       "      <td>Critical rule 23</td>\n",
       "      <td>0.053871</td>\n",
       "      <td>64.628821</td>\n",
       "      <td>0.525382</td>\n",
       "    </tr>\n",
       "    <tr>\n",
       "      <th>40</th>\n",
       "      <td>Critical rule 38</td>\n",
       "      <td>0.050578</td>\n",
       "      <td>74.418605</td>\n",
       "      <td>0.567980</td>\n",
       "    </tr>\n",
       "    <tr>\n",
       "      <th>41</th>\n",
       "      <td>Critical rule 30</td>\n",
       "      <td>0.041639</td>\n",
       "      <td>71.186441</td>\n",
       "      <td>0.447284</td>\n",
       "    </tr>\n",
       "    <tr>\n",
       "      <th>31</th>\n",
       "      <td>Critical rule 36</td>\n",
       "      <td>0.033170</td>\n",
       "      <td>66.666667</td>\n",
       "      <td>0.333688</td>\n",
       "    </tr>\n",
       "    <tr>\n",
       "      <th>17</th>\n",
       "      <td>Critical rule 9</td>\n",
       "      <td>0.032699</td>\n",
       "      <td>79.136691</td>\n",
       "      <td>0.390486</td>\n",
       "    </tr>\n",
       "    <tr>\n",
       "      <th>13</th>\n",
       "      <td>Critical rule 39</td>\n",
       "      <td>0.021172</td>\n",
       "      <td>81.111111</td>\n",
       "      <td>0.259141</td>\n",
       "    </tr>\n",
       "    <tr>\n",
       "      <th>9</th>\n",
       "      <td>Critical rule 25</td>\n",
       "      <td>0.020231</td>\n",
       "      <td>70.930233</td>\n",
       "      <td>0.216542</td>\n",
       "    </tr>\n",
       "    <tr>\n",
       "      <th>38</th>\n",
       "      <td>Critical rule 41</td>\n",
       "      <td>0.017408</td>\n",
       "      <td>83.783784</td>\n",
       "      <td>0.220092</td>\n",
       "    </tr>\n",
       "    <tr>\n",
       "      <th>32</th>\n",
       "      <td>Critical rule 32</td>\n",
       "      <td>0.014585</td>\n",
       "      <td>80.645161</td>\n",
       "      <td>0.177494</td>\n",
       "    </tr>\n",
       "    <tr>\n",
       "      <th>30</th>\n",
       "      <td>Critical rule 31</td>\n",
       "      <td>0.010586</td>\n",
       "      <td>84.444444</td>\n",
       "      <td>0.134895</td>\n",
       "    </tr>\n",
       "    <tr>\n",
       "      <th>11</th>\n",
       "      <td>Critical rule 37</td>\n",
       "      <td>0.002823</td>\n",
       "      <td>75.000000</td>\n",
       "      <td>0.031949</td>\n",
       "    </tr>\n",
       "  </tbody>\n",
       "</table>\n",
       "</div>"
      ],
      "text/plain": [
       "                Rule  Overall Coverage (%)  Consistency (%)  \\\n",
       "28   Critical rule 0              0.805953        72.767075   \n",
       "6    Critical rule 2              0.782899        67.457933   \n",
       "42   Critical rule 1              0.729262        67.354839   \n",
       "22  Critical rule 13              0.565061        67.610325   \n",
       "12   Critical rule 5              0.522717        67.146715   \n",
       "37  Critical rule 27              0.444615        68.095238   \n",
       "36  Critical rule 35              0.408857        73.014960   \n",
       "3   Critical rule 19              0.404858        66.937827   \n",
       "2   Critical rule 17              0.361573        68.640208   \n",
       "25   Critical rule 3              0.341577        66.460055   \n",
       "18   Critical rule 8              0.327698        68.987796   \n",
       "10  Critical rule 11              0.326286        75.054074   \n",
       "24   Critical rule 4              0.311466        64.652568   \n",
       "15  Critical rule 12              0.280648        64.375524   \n",
       "20  Critical rule 16              0.274062        66.094421   \n",
       "1   Critical rule 26              0.270062        70.034843   \n",
       "26  Critical rule 10              0.261123        64.864865   \n",
       "39  Critical rule 14              0.261123        72.162162   \n",
       "19  Critical rule 18              0.233599        77.643505   \n",
       "23  Critical rule 33              0.230071        71.983640   \n",
       "8   Critical rule 24              0.207487        76.643991   \n",
       "0    Critical rule 7              0.207016        70.227273   \n",
       "27  Critical rule 34              0.193372        72.871046   \n",
       "33  Critical rule 22              0.191020        68.226601   \n",
       "16  Critical rule 21              0.182551        68.170103   \n",
       "14  Critical rule 40              0.179493        76.277851   \n",
       "7    Critical rule 6              0.174788        66.487214   \n",
       "4   Critical rule 20              0.169377        74.027778   \n",
       "5   Critical rule 42              0.150322        63.067293   \n",
       "21  Critical rule 28              0.142089        71.357616   \n",
       "35  Critical rule 15              0.127739        65.745856   \n",
       "29  Critical rule 29              0.062105        71.212121   \n",
       "34  Critical rule 23              0.053871        64.628821   \n",
       "40  Critical rule 38              0.050578        74.418605   \n",
       "41  Critical rule 30              0.041639        71.186441   \n",
       "31  Critical rule 36              0.033170        66.666667   \n",
       "17   Critical rule 9              0.032699        79.136691   \n",
       "13  Critical rule 39              0.021172        81.111111   \n",
       "9   Critical rule 25              0.020231        70.930233   \n",
       "38  Critical rule 41              0.017408        83.783784   \n",
       "32  Critical rule 32              0.014585        80.645161   \n",
       "30  Critical rule 31              0.010586        84.444444   \n",
       "11  Critical rule 37              0.002823        75.000000   \n",
       "\n",
       "    Relative Coverage (%)  \n",
       "28               8.849840  \n",
       "6                7.969471  \n",
       "42               7.412141  \n",
       "22               5.764998  \n",
       "12               5.296415  \n",
       "37               4.568690  \n",
       "36               4.504792  \n",
       "3                4.089457  \n",
       "2                3.745119  \n",
       "25               3.425630  \n",
       "18               3.411431  \n",
       "10               3.695421  \n",
       "24               3.038694  \n",
       "15               2.726305  \n",
       "20               2.733404  \n",
       "1                2.854100  \n",
       "26               2.555911  \n",
       "39               2.843450  \n",
       "19               2.736954  \n",
       "23               2.499113  \n",
       "8                2.399716  \n",
       "0                2.193823  \n",
       "27               2.126376  \n",
       "33               1.966631  \n",
       "16               1.877884  \n",
       "14               2.066028  \n",
       "7                1.753639  \n",
       "4                1.892084  \n",
       "5                1.430600  \n",
       "21               1.529996  \n",
       "35               1.267306  \n",
       "29               0.667377  \n",
       "34               0.525382  \n",
       "40               0.567980  \n",
       "41               0.447284  \n",
       "31               0.333688  \n",
       "17               0.390486  \n",
       "13               0.259141  \n",
       "9                0.216542  \n",
       "38               0.220092  \n",
       "32               0.177494  \n",
       "30               0.134895  \n",
       "11               0.031949  "
      ]
     },
     "execution_count": 68,
     "metadata": {},
     "output_type": "execute_result"
    }
   ],
   "source": [
    "import pandas as pd\n",
    "import numpy as np\n",
    "from tqdm import tqdm  # For progress bars\n",
    "\n",
    "# Step 1: Restrict to Predefined Critical Rules\n",
    "print(\"Filtering for predefined Critical rules...\")\n",
    "\n",
    "# Define the names of all valid critical rules based on your list of critical rules\n",
    "critical_rule_names = [f\"Critical rule {i}\" for i in range(len(critical_rules))]\n",
    "valid_rules = set(critical_rule_names)\n",
    "\n",
    "# Ensure 'activated_rule' column is not null and split activated rules into lists\n",
    "df['activated_rule'] = df['activated_rule'].fillna('')\n",
    "activated_rules = df['activated_rule'].str.split(', ').tolist()\n",
    "\n",
    "# Build a dictionary mapping each valid rule to the indices of rows where it activated\n",
    "rule_activations = {rule: [] for rule in valid_rules}\n",
    "for idx, rules in enumerate(activated_rules):\n",
    "    for rule in rules:\n",
    "        if rule in valid_rules:  # Only consider predefined critical rules\n",
    "            rule_activations[rule].append(idx)\n",
    "\n",
    "print(f\"Found {len(rule_activations)} predefined critical rules.\")\n",
    "\n",
    "# Step 2: Define Metrics Functions\n",
    "def calculate_coverage(rule, total_records):\n",
    "    return len(rule_activations[rule]) / total_records if total_records > 0 else 0\n",
    "\n",
    "def calculate_consistency(rule, target_outcome, df):\n",
    "    indices = rule_activations[rule]\n",
    "    covered_records = df.iloc[indices]\n",
    "    # Using outcome_critical as the target column\n",
    "    correct_predictions = covered_records[covered_records['outcome_critical'] == target_outcome]\n",
    "    return len(correct_predictions) / len(covered_records) if len(covered_records) > 0 else 0\n",
    "\n",
    "def relative_coverage(rule, df):\n",
    "    # Calculate the coverage of the rule among only the critical cases\n",
    "    total_critical = len(df[df['outcome_critical'] == True])\n",
    "    indices = rule_activations[rule]\n",
    "    covered_records = df.iloc[indices]\n",
    "    critical_covered = len(covered_records[covered_records['outcome_critical'] == True])\n",
    "    return critical_covered / total_critical if total_critical > 0 else 0\n",
    "\n",
    "def determine_target_outcome(rule):\n",
    "    # For critical rules, we assume the target outcome is True.\n",
    "    if \"Critical\" in rule:\n",
    "        return True\n",
    "    return None\n",
    "\n",
    "# Step 3: Calculate Metrics for Each Rule\n",
    "print(\"Calculating metrics for predefined critical rules...\")\n",
    "rules = list(valid_rules)\n",
    "total_records = len(df)\n",
    "rule_metrics = []\n",
    "\n",
    "for rule in tqdm(rules, desc=\"Processing predefined critical rules\"):\n",
    "    target_outcome = determine_target_outcome(rule)\n",
    "    if target_outcome is None:\n",
    "        continue  # Skip invalid rules\n",
    "\n",
    "    # Compute metrics for the rule\n",
    "    overall_coverage = calculate_coverage(rule, total_records)\n",
    "    consistency = calculate_consistency(rule, target_outcome, df)\n",
    "    rel_coverage = relative_coverage(rule, df)\n",
    "\n",
    "    rule_metrics.append({\n",
    "        'Rule': rule,\n",
    "        'Overall Coverage (%)': overall_coverage * 100,\n",
    "        'Consistency (%)': consistency * 100,\n",
    "        'Relative Coverage (%)': rel_coverage * 100\n",
    "    })\n",
    "\n",
    "print(\"Metric calculation complete.\")\n",
    "\n",
    "# Step 4: Convert to DataFrame and Save Results\n",
    "rule_metrics_df = pd.DataFrame(rule_metrics)\n",
    "rule_metrics_df_sorted = rule_metrics_df.sort_values(by='Overall Coverage (%)', ascending=False)\n",
    "\n",
    "# Save the sorted DataFrame to a CSV file\n",
    "output_filename = 'rule_metrics_evaluation_critical_rules.csv'\n",
    "rule_metrics_df_sorted.to_csv(output_filename, index=False)\n",
    "\n",
    "print(f\"Rule metrics saved to '{output_filename}'.\")\n",
    "rule_metrics_df_sorted\n"
   ]
  },
  {
   "cell_type": "code",
   "execution_count": 69,
   "id": "7d64da05-b9ef-4ca6-aa1b-f0cf8ebb2274",
   "metadata": {
    "tags": []
   },
   "outputs": [],
   "source": [
    "#ranking rules\n",
    "\n",
    "# Define weights for each metric\n",
    "weights = {\n",
    "    'Consistency (%)': 0.3,\n",
    "    'Overall Coverage (%)': 0.5,\n",
    "    'Relative Coverage (%)':0.2\n",
    "}\n",
    "    #'Cohen Metric': 0.1\n",
    "\n",
    "# Calculate the weighted score for each rule\n",
    "rule_metrics_df['Aggregated Score'] = (\n",
    "    weights['Consistency (%)'] * rule_metrics_df['Consistency (%)'] / 100 +\n",
    "    weights['Overall Coverage (%)'] * rule_metrics_df['Overall Coverage (%)'] / 100 +\n",
    "    weights['Relative Coverage (%)'] * rule_metrics_df['Relative Coverage (%)'] \n",
    "    #weights['Cohen Metric'] * rule_metrics_df['Cohen Metric']\n",
    ")\n",
    "\n",
    "# Rank rules based on the aggregated score\n",
    "rule_metrics_df_sorted = rule_metrics_df.sort_values(by='Aggregated Score', ascending=False)\n"
   ]
  },
  {
   "cell_type": "code",
   "execution_count": null,
   "id": "1f3d44b5-4465-468c-aaa1-3774db0132ba",
   "metadata": {},
   "outputs": [],
   "source": []
  },
  {
   "cell_type": "code",
   "execution_count": 80,
   "id": "dcb8e99d-254b-4f51-aaf4-be7df28e255a",
   "metadata": {
    "tags": []
   },
   "outputs": [
    {
     "data": {
      "image/png": "[encoded data removed]",
      "text/plain": [
       "<Figure size 1200x800 with 1 Axes>"
      ]
     },
     "metadata": {},
     "output_type": "display_data"
    }
   ],
   "source": [
    "import seaborn as sns\n",
    "import matplotlib.pyplot as plt\n",
    "# Step 1: Define thresholds for categories\n",
    "high_threshold = rule_metrics_df['Aggregated Score'].quantile(0.75)\n",
    "low_threshold = rule_metrics_df['Aggregated Score'].quantile(0.25)\n",
    "\n",
    "# Step 2: Create a new column for rule categories based on thresholds\n",
    "rule_metrics_df['Category'] = rule_metrics_df['Aggregated Score'].apply(\n",
    "    lambda x: 'High' if x > high_threshold else ('Low' if x < low_threshold else 'Medium')\n",
    ")\n",
    "\n",
    "# Step 3: Sort the DataFrame by Aggregated Score\n",
    "rule_metrics_df_sorted = rule_metrics_df.sort_values(by='Aggregated Score', ascending=False)\n",
    "\n",
    "# Step 4: Plot the categorized rules\n",
    "plt.figure(figsize=(12, 8))\n",
    "\n",
    "# Use seaborn to create a bar plot with different colors for different categories\n",
    "sns.barplot(\n",
    "    x=rule_metrics_df_sorted.index,\n",
    "    y='Aggregated Score',\n",
    "    hue='Category',\n",
    "    data=rule_metrics_df_sorted,\n",
    "    palette={'High': 'green', 'Medium': 'yellow', 'Low': 'red'}\n",
    ")\n",
    "\n",
    "plt.xlabel('Rule Index')\n",
    "plt.ylabel('Aggregated Score')\n",
    "plt.title('Categorized Rules by Aggregated Score')\n",
    "plt.xticks(rotation=90)\n",
    "plt.tight_layout()\n",
    "\n",
    "plt.show()"
   ]
  },
  {
   "cell_type": "code",
   "execution_count": null,
   "id": "92c1c934-d41f-4f64-b2d6-ecf850c29907",
   "metadata": {},
   "outputs": [],
   "source": []
  },
  {
   "cell_type": "code",
   "execution_count": 82,
   "id": "ac501d5b-4556-4e98-af4e-d402b3c1f217",
   "metadata": {
    "tags": []
   },
   "outputs": [
    {
     "data": {
      "application/vnd.plotly.v1+json": {
       "config": {
        "plotlyServerURL": "https://plot.ly"
       },
       "data": [
        {
         "customdata": [
          [
           "Critical rule 0",
           8.849840255591054
          ],
          [
           "Critical rule 2",
           7.969471068512603
          ],
          [
           "Critical rule 1",
           7.412140575079872
          ],
          [
           "Critical rule 13",
           5.764998225062123
          ],
          [
           "Critical rule 5",
           5.296414625488108
          ],
          [
           "Critical rule 35",
           4.50479233226837
          ],
          [
           "Critical rule 27",
           4.568690095846645
          ],
          [
           "Critical rule 19",
           4.0894568690095845
          ],
          [
           "Critical rule 11",
           3.69542066027689
          ],
          [
           "Critical rule 17",
           3.7451189208377706
          ],
          [
           "Critical rule 8",
           3.411430599929002
          ]
         ],
         "hovertemplate": "Category=High<br>Overall Coverage (%)=%{x}<br>Consistency (%)=%{y}<br>Aggregated Score=%{marker.size}<br>Rule=%{customdata[0]}<br>Relative Coverage (%)=%{customdata[1]}<extra></extra>",
         "legendgroup": "High",
         "marker": {
          "color": "green",
          "size": [
           1.9922990403566887,
           1.8001825045773887,
           1.6881389435469385,
           1.3586559231971949,
           1.2633366517433433,
           1.1220476330298315,
           1.1202468077904149,
           1.0207291458344656,
           0.965877783417834,
           0.9567522739743919,
           0.8908879964774792
          ],
          "sizemode": "area",
          "sizeref": 0.004980747600891722,
          "symbol": "circle"
         },
         "mode": "markers",
         "name": "High",
         "orientation": "v",
         "showlegend": true,
         "type": "scatter",
         "x": [
          0.8059526638076442,
          0.7828985595889782,
          0.729262480386368,
          0.5650607993187277,
          0.5227165262640354,
          0.408857480939196,
          0.44461486707426956,
          0.4048582995951417,
          0.32628614848254595,
          0.3615730426947895,
          0.3276976242510357
         ],
         "xaxis": "x",
         "y": [
          72.76707530647985,
          67.4579326923077,
          67.35483870967742,
          67.61032472939218,
          67.14671467146715,
          73.01495972382048,
          68.0952380952381,
          66.93782684485764,
          75.05407354001441,
          68.6402081977879,
          68.98779612347452
         ],
         "yaxis": "y"
        },
        {
         "customdata": [
          [
           "Critical rule 3",
           3.4256301029463967
          ],
          [
           "Critical rule 4",
           3.0386936457224
          ],
          [
           "Critical rule 14",
           2.8434504792332267
          ],
          [
           "Critical rule 26",
           2.8541001064962725
          ],
          [
           "Critical rule 18",
           2.736954206602769
          ],
          [
           "Critical rule 16",
           2.7334043308484204
          ],
          [
           "Critical rule 12",
           2.726304579339723
          ],
          [
           "Critical rule 33",
           2.499112531061413
          ],
          [
           "Critical rule 24",
           2.3997160099396524
          ],
          [
           "Critical rule 10",
           2.5559105431309903
          ],
          [
           "Critical rule 7",
           2.1938232161874334
          ],
          [
           "Critical rule 34",
           2.12637557685481
          ],
          [
           "Critical rule 40",
           2.066027689030884
          ],
          [
           "Critical rule 20",
           1.8920837770678027
          ],
          [
           "Critical rule 22",
           1.9666311679091233
          ],
          [
           "Critical rule 21",
           1.8778842740504083
          ],
          [
           "Critical rule 6",
           1.7536386226482075
          ],
          [
           "Critical rule 28",
           1.5299964501242456
          ],
          [
           "Critical rule 42",
           1.430599929002485
          ],
          [
           "Critical rule 15",
           1.2673056443024495
          ],
          [
           "Critical rule 29",
           0.6673766418175363
          ]
         ],
         "hovertemplate": "Category=Medium<br>Overall Coverage (%)=%{x}<br>Consistency (%)=%{y}<br>Aggregated Score=%{marker.size}<br>Rule=%{customdata[0]}<br>Relative Coverage (%)=%{customdata[1]}<extra></extra>",
         "legendgroup": "Medium",
         "marker": {
          "color": "yellow",
          "size": [
           0.8862140715584083,
           0.8032537613365395,
           0.7864821974189848,
           0.7822748627345012,
           0.7814893511141452,
           0.7463344356975014,
           0.7397907296958486,
           0.7169237792090005,
           0.7109126094668862,
           0.7070823183066457,
           0.6504815436495307,
           0.6448551149585089,
           0.6429365529183064,
           0.6013469742079878,
           0.5989611351408344,
           0.5809999184187222,
           0.5510633052682227,
           0.5207825805104416,
           0.4760734745814901,
           0.451337390706505,
           0.34742221666893863
          ],
          "sizemode": "area",
          "sizeref": 0.004980747600891722,
          "symbol": "circle"
         },
         "mode": "markers",
         "name": "Medium",
         "orientation": "v",
         "showlegend": true,
         "type": "scatter",
         "x": [
          0.34157713597451816,
          0.3114656529134036,
          0.26112301717060277,
          0.2700623637043711,
          0.23359923968505272,
          0.2740615450484254,
          0.2806484319680442,
          0.23007055026382836,
          0.20748693796799242,
          0.26112301717060277,
          0.20701644604516253,
          0.193372180283095,
          0.17949266855961252,
          0.16937709221876934,
          0.1910197206689454,
          0.18255086605800697,
          0.17478774933131336,
          0.14208856069463427,
          0.1503221693441578,
          0.12773855704832188,
          0.06210493381354875
         ],
         "xaxis": "x",
         "y": [
          66.46005509641874,
          64.6525679758308,
          72.16216216216216,
          70.03484320557492,
          77.64350453172206,
          66.09442060085837,
          64.37552388935457,
          71.98364008179959,
          76.64399092970523,
          64.86486486486487,
          70.22727272727273,
          72.87104622871047,
          76.2778505897772,
          74.02777777777779,
          68.22660098522168,
          68.1701030927835,
          66.48721399730822,
          71.35761589403974,
          63.06729264475743,
          65.74585635359117,
          71.21212121212122
         ],
         "yaxis": "y"
        },
        {
         "customdata": [
          [
           "Critical rule 38",
           0.5679801206957756
          ],
          [
           "Critical rule 9",
           0.3904863329783458
          ],
          [
           "Critical rule 30",
           0.44728434504792336
          ],
          [
           "Critical rule 23",
           0.5253816116435925
          ],
          [
           "Critical rule 41",
           0.2200922967696131
          ],
          [
           "Critical rule 39",
           0.25914093006744765
          ],
          [
           "Critical rule 31",
           0.13489527866524673
          ],
          [
           "Critical rule 32",
           0.1774937877174299
          ],
          [
           "Critical rule 36",
           0.33368832090876815
          ],
          [
           "Critical rule 25",
           0.2165424210152645
          ],
          [
           "Critical rule 37",
           0.03194888178913738
          ]
         ],
         "hovertemplate": "Category=Low<br>Overall Coverage (%)=%{x}<br>Consistency (%)=%{y}<br>Aggregated Score=%{marker.size}<br>Rule=%{customdata[0]}<br>Relative Coverage (%)=%{customdata[1]}<extra></extra>",
         "legendgroup": "Low",
         "marker": {
          "color": "red",
          "size": [
           0.3371047275011646,
           0.31567083448129857,
           0.3032243837193352,
           0.2992321418366347,
           0.29545685171099756,
           0.29526738002945957,
           0.28036531940770104,
           0.27750716766249234,
           0.26690351258455114,
           0.25620033764087996,
           0.23140389111551238
          ],
          "sizemode": "area",
          "sizeref": 0.004980747600891722,
          "symbol": "circle"
         },
         "mode": "markers",
         "name": "Low",
         "orientation": "v",
         "showlegend": true,
         "type": "scatter",
         "x": [
          0.050577881704215844,
          0.03269918863667908,
          0.04163853517044746,
          0.05387132516402525,
          0.01740820114470685,
          0.021172136527346168,
          0.010586068263673084,
          0.014585249607727361,
          0.033169680559508995,
          0.020231152681686338,
          0.002822951536979489
         ],
         "xaxis": "x",
         "y": [
          74.4186046511628,
          79.13669064748201,
          71.1864406779661,
          64.62882096069869,
          83.78378378378379,
          81.11111111111111,
          84.44444444444444,
          80.64516129032258,
          66.66666666666666,
          70.93023255813954,
          75
         ],
         "yaxis": "y"
        }
       ],
       "layout": {
        "autosize": true,
        "legend": {
         "itemsizing": "constant",
         "title": {
          "text": "Rule Coverage Index"
         },
         "tracegroupgap": 0
        },
        "template": {
         "data": {
          "bar": [
           {
            "error_x": {
             "color": "#2a3f5f"
            },
            "error_y": {
             "color": "#2a3f5f"
            },
            "marker": {
             "line": {
              "color": "#E5ECF6",
              "width": 0.5
             },
             "pattern": {
              "fillmode": "overlay",
              "size": 10,
              "solidity": 0.2
             }
            },
            "type": "bar"
           }
          ],
          "barpolar": [
           {
            "marker": {
             "line": {
              "color": "#E5ECF6",
              "width": 0.5
             },
             "pattern": {
              "fillmode": "overlay",
              "size": 10,
              "solidity": 0.2
             }
            },
            "type": "barpolar"
           }
          ],
          "carpet": [
           {
            "aaxis": {
             "endlinecolor": "#2a3f5f",
             "gridcolor": "white",
             "linecolor": "white",
             "minorgridcolor": "white",
             "startlinecolor": "#2a3f5f"
            },
            "baxis": {
             "endlinecolor": "#2a3f5f",
             "gridcolor": "white",
             "linecolor": "white",
             "minorgridcolor": "white",
             "startlinecolor": "#2a3f5f"
            },
            "type": "carpet"
           }
          ],
          "choropleth": [
           {
            "colorbar": {
             "outlinewidth": 0,
             "ticks": ""
            },
            "type": "choropleth"
           }
          ],
          "contour": [
           {
            "colorbar": {
             "outlinewidth": 0,
             "ticks": ""
            },
            "colorscale": [
             [
              0,
              "#0d0887"
             ],
             [
              0.1111111111111111,
              "#46039f"
             ],
             [
              0.2222222222222222,
              "#7201a8"
             ],
             [
              0.3333333333333333,
              "#9c179e"
             ],
             [
              0.4444444444444444,
              "#bd3786"
             ],
             [
              0.5555555555555556,
              "#d8576b"
             ],
             [
              0.6666666666666666,
              "#ed7953"
             ],
             [
              0.7777777777777778,
              "#fb9f3a"
             ],
             [
              0.8888888888888888,
              "#fdca26"
             ],
             [
              1,
              "#f0f921"
             ]
            ],
            "type": "contour"
           }
          ],
          "contourcarpet": [
           {
            "colorbar": {
             "outlinewidth": 0,
             "ticks": ""
            },
            "type": "contourcarpet"
           }
          ],
          "heatmap": [
           {
            "colorbar": {
             "outlinewidth": 0,
             "ticks": ""
            },
            "colorscale": [
             [
              0,
              "#0d0887"
             ],
             [
              0.1111111111111111,
              "#46039f"
             ],
             [
              0.2222222222222222,
              "#7201a8"
             ],
             [
              0.3333333333333333,
              "#9c179e"
             ],
             [
              0.4444444444444444,
              "#bd3786"
             ],
             [
              0.5555555555555556,
              "#d8576b"
             ],
             [
              0.6666666666666666,
              "#ed7953"
             ],
             [
              0.7777777777777778,
              "#fb9f3a"
             ],
             [
              0.8888888888888888,
              "#fdca26"
             ],
             [
              1,
              "#f0f921"
             ]
            ],
            "type": "heatmap"
           }
          ],
          "heatmapgl": [
           {
            "colorbar": {
             "outlinewidth": 0,
             "ticks": ""
            },
            "colorscale": [
             [
              0,
              "#0d0887"
             ],
             [
              0.1111111111111111,
              "#46039f"
             ],
             [
              0.2222222222222222,
              "#7201a8"
             ],
             [
              0.3333333333333333,
              "#9c179e"
             ],
             [
              0.4444444444444444,
              "#bd3786"
             ],
             [
              0.5555555555555556,
              "#d8576b"
             ],
             [
              0.6666666666666666,
              "#ed7953"
             ],
             [
              0.7777777777777778,
              "#fb9f3a"
             ],
             [
              0.8888888888888888,
              "#fdca26"
             ],
             [
              1,
              "#f0f921"
             ]
            ],
            "type": "heatmapgl"
           }
          ],
          "histogram": [
           {
            "marker": {
             "pattern": {
              "fillmode": "overlay",
              "size": 10,
              "solidity": 0.2
             }
            },
            "type": "histogram"
           }
          ],
          "histogram2d": [
           {
            "colorbar": {
             "outlinewidth": 0,
             "ticks": ""
            },
            "colorscale": [
             [
              0,
              "#0d0887"
             ],
             [
              0.1111111111111111,
              "#46039f"
             ],
             [
              0.2222222222222222,
              "#7201a8"
             ],
             [
              0.3333333333333333,
              "#9c179e"
             ],
             [
              0.4444444444444444,
              "#bd3786"
             ],
             [
              0.5555555555555556,
              "#d8576b"
             ],
             [
              0.6666666666666666,
              "#ed7953"
             ],
             [
              0.7777777777777778,
              "#fb9f3a"
             ],
             [
              0.8888888888888888,
              "#fdca26"
             ],
             [
              1,
              "#f0f921"
             ]
            ],
            "type": "histogram2d"
           }
          ],
          "histogram2dcontour": [
           {
            "colorbar": {
             "outlinewidth": 0,
             "ticks": ""
            },
            "colorscale": [
             [
              0,
              "#0d0887"
             ],
             [
              0.1111111111111111,
              "#46039f"
             ],
             [
              0.2222222222222222,
              "#7201a8"
             ],
             [
              0.3333333333333333,
              "#9c179e"
             ],
             [
              0.4444444444444444,
              "#bd3786"
             ],
             [
              0.5555555555555556,
              "#d8576b"
             ],
             [
              0.6666666666666666,
              "#ed7953"
             ],
             [
              0.7777777777777778,
              "#fb9f3a"
             ],
             [
              0.8888888888888888,
              "#fdca26"
             ],
             [
              1,
              "#f0f921"
             ]
            ],
            "type": "histogram2dcontour"
           }
          ],
          "mesh3d": [
           {
            "colorbar": {
             "outlinewidth": 0,
             "ticks": ""
            },
            "type": "mesh3d"
           }
          ],
          "parcoords": [
           {
            "line": {
             "colorbar": {
              "outlinewidth": 0,
              "ticks": ""
             }
            },
            "type": "parcoords"
           }
          ],
          "pie": [
           {
            "automargin": true,
            "type": "pie"
           }
          ],
          "scatter": [
           {
            "fillpattern": {
             "fillmode": "overlay",
             "size": 10,
             "solidity": 0.2
            },
            "type": "scatter"
           }
          ],
          "scatter3d": [
           {
            "line": {
             "colorbar": {
              "outlinewidth": 0,
              "ticks": ""
             }
            },
            "marker": {
             "colorbar": {
              "outlinewidth": 0,
              "ticks": ""
             }
            },
            "type": "scatter3d"
           }
          ],
          "scattercarpet": [
           {
            "marker": {
             "colorbar": {
              "outlinewidth": 0,
              "ticks": ""
             }
            },
            "type": "scattercarpet"
           }
          ],
          "scattergeo": [
           {
            "marker": {
             "colorbar": {
              "outlinewidth": 0,
              "ticks": ""
             }
            },
            "type": "scattergeo"
           }
          ],
          "scattergl": [
           {
            "marker": {
             "colorbar": {
              "outlinewidth": 0,
              "ticks": ""
             }
            },
            "type": "scattergl"
           }
          ],
          "scattermapbox": [
           {
            "marker": {
             "colorbar": {
              "outlinewidth": 0,
              "ticks": ""
             }
            },
            "type": "scattermapbox"
           }
          ],
          "scatterpolar": [
           {
            "marker": {
             "colorbar": {
              "outlinewidth": 0,
              "ticks": ""
             }
            },
            "type": "scatterpolar"
           }
          ],
          "scatterpolargl": [
           {
            "marker": {
             "colorbar": {
              "outlinewidth": 0,
              "ticks": ""
             }
            },
            "type": "scatterpolargl"
           }
          ],
          "scatterternary": [
           {
            "marker": {
             "colorbar": {
              "outlinewidth": 0,
              "ticks": ""
             }
            },
            "type": "scatterternary"
           }
          ],
          "surface": [
           {
            "colorbar": {
             "outlinewidth": 0,
             "ticks": ""
            },
            "colorscale": [
             [
              0,
              "#0d0887"
             ],
             [
              0.1111111111111111,
              "#46039f"
             ],
             [
              0.2222222222222222,
              "#7201a8"
             ],
             [
              0.3333333333333333,
              "#9c179e"
             ],
             [
              0.4444444444444444,
              "#bd3786"
             ],
             [
              0.5555555555555556,
              "#d8576b"
             ],
             [
              0.6666666666666666,
              "#ed7953"
             ],
             [
              0.7777777777777778,
              "#fb9f3a"
             ],
             [
              0.8888888888888888,
              "#fdca26"
             ],
             [
              1,
              "#f0f921"
             ]
            ],
            "type": "surface"
           }
          ],
          "table": [
           {
            "cells": {
             "fill": {
              "color": "#EBF0F8"
             },
             "line": {
              "color": "white"
             }
            },
            "header": {
             "fill": {
              "color": "#C8D4E3"
             },
             "line": {
              "color": "white"
             }
            },
            "type": "table"
           }
          ]
         },
         "layout": {
          "annotationdefaults": {
           "arrowcolor": "#2a3f5f",
           "arrowhead": 0,
           "arrowwidth": 1
          },
          "autotypenumbers": "strict",
          "coloraxis": {
           "colorbar": {
            "outlinewidth": 0,
            "ticks": ""
           }
          },
          "colorscale": {
           "diverging": [
            [
             0,
             "#8e0152"
            ],
            [
             0.1,
             "#c51b7d"
            ],
            [
             0.2,
             "#de77ae"
            ],
            [
             0.3,
             "#f1b6da"
            ],
            [
             0.4,
             "#fde0ef"
            ],
            [
             0.5,
             "#f7f7f7"
            ],
            [
             0.6,
             "#e6f5d0"
            ],
            [
             0.7,
             "#b8e186"
            ],
            [
             0.8,
             "#7fbc41"
            ],
            [
             0.9,
             "#4d9221"
            ],
            [
             1,
             "#276419"
            ]
           ],
           "sequential": [
            [
             0,
             "#0d0887"
            ],
            [
             0.1111111111111111,
             "#46039f"
            ],
            [
             0.2222222222222222,
             "#7201a8"
            ],
            [
             0.3333333333333333,
             "#9c179e"
            ],
            [
             0.4444444444444444,
             "#bd3786"
            ],
            [
             0.5555555555555556,
             "#d8576b"
            ],
            [
             0.6666666666666666,
             "#ed7953"
            ],
            [
             0.7777777777777778,
             "#fb9f3a"
            ],
            [
             0.8888888888888888,
             "#fdca26"
            ],
            [
             1,
             "#f0f921"
            ]
           ],
           "sequentialminus": [
            [
             0,
             "#0d0887"
            ],
            [
             0.1111111111111111,
             "#46039f"
            ],
            [
             0.2222222222222222,
             "#7201a8"
            ],
            [
             0.3333333333333333,
             "#9c179e"
            ],
            [
             0.4444444444444444,
             "#bd3786"
            ],
            [
             0.5555555555555556,
             "#d8576b"
            ],
            [
             0.6666666666666666,
             "#ed7953"
            ],
            [
             0.7777777777777778,
             "#fb9f3a"
            ],
            [
             0.8888888888888888,
             "#fdca26"
            ],
            [
             1,
             "#f0f921"
            ]
           ]
          },
          "colorway": [
           "#636efa",
           "#EF553B",
           "#00cc96",
           "#ab63fa",
           "#FFA15A",
           "#19d3f3",
           "#FF6692",
           "#B6E880",
           "#FF97FF",
           "#FECB52"
          ],
          "font": {
           "color": "#2a3f5f"
          },
          "geo": {
           "bgcolor": "white",
           "lakecolor": "white",
           "landcolor": "#E5ECF6",
           "showlakes": true,
           "showland": true,
           "subunitcolor": "white"
          },
          "hoverlabel": {
           "align": "left"
          },
          "hovermode": "closest",
          "mapbox": {
           "style": "light"
          },
          "paper_bgcolor": "white",
          "plot_bgcolor": "#E5ECF6",
          "polar": {
           "angularaxis": {
            "gridcolor": "white",
            "linecolor": "white",
            "ticks": ""
           },
           "bgcolor": "#E5ECF6",
           "radialaxis": {
            "gridcolor": "white",
            "linecolor": "white",
            "ticks": ""
           }
          },
          "scene": {
           "xaxis": {
            "backgroundcolor": "#E5ECF6",
            "gridcolor": "white",
            "gridwidth": 2,
            "linecolor": "white",
            "showbackground": true,
            "ticks": "",
            "zerolinecolor": "white"
           },
           "yaxis": {
            "backgroundcolor": "#E5ECF6",
            "gridcolor": "white",
            "gridwidth": 2,
            "linecolor": "white",
            "showbackground": true,
            "ticks": "",
            "zerolinecolor": "white"
           },
           "zaxis": {
            "backgroundcolor": "#E5ECF6",
            "gridcolor": "white",
            "gridwidth": 2,
            "linecolor": "white",
            "showbackground": true,
            "ticks": "",
            "zerolinecolor": "white"
           }
          },
          "shapedefaults": {
           "line": {
            "color": "#2a3f5f"
           }
          },
          "ternary": {
           "aaxis": {
            "gridcolor": "white",
            "linecolor": "white",
            "ticks": ""
           },
           "baxis": {
            "gridcolor": "white",
            "linecolor": "white",
            "ticks": ""
           },
           "bgcolor": "#E5ECF6",
           "caxis": {
            "gridcolor": "white",
            "linecolor": "white",
            "ticks": ""
           }
          },
          "title": {
           "x": 0.05
          },
          "xaxis": {
           "automargin": true,
           "gridcolor": "white",
           "linecolor": "white",
           "ticks": "",
           "title": {
            "standoff": 15
           },
           "zerolinecolor": "white",
           "zerolinewidth": 2
          },
          "yaxis": {
           "automargin": true,
           "gridcolor": "white",
           "linecolor": "white",
           "ticks": "",
           "title": {
            "standoff": 15
           },
           "zerolinecolor": "white",
           "zerolinewidth": 2
          }
         }
        },
        "title": {
         "text": "Scatter Plot of Consistency vs. Coverage"
        },
        "xaxis": {
         "anchor": "y",
         "autorange": true,
         "domain": [
          0,
          1
         ],
         "range": [
          -0.04791544820466615,
          0.8664053840223489
         ],
         "title": {
          "text": "Overall Coverage (%)"
         },
         "type": "linear"
        },
        "yaxis": {
         "anchor": "x",
         "autorange": true,
         "domain": [
          0,
          1
         ],
         "range": [
          60.65646629423409,
          86.59619827896306
         ],
         "title": {
          "text": "Consistency (%)"
         },
         "type": "linear"
        }
       }
      },
      "image/png": "[encoded data removed]",
      "text/html": [
       "<div>                            <div id=\"e2a4db1d-6413-44f4-9847-bca2a0e8d431\" class=\"plotly-graph-div\" style=\"height:525px; width:100%;\"></div>            <script type=\"text/javascript\">                require([\"plotly\"], function(Plotly) {                    window.PLOTLYENV=window.PLOTLYENV || {};                                    if (document.getElementById(\"e2a4db1d-6413-44f4-9847-bca2a0e8d431\")) {                    Plotly.newPlot(                        \"e2a4db1d-6413-44f4-9847-bca2a0e8d431\",                        [{\"customdata\":[[\"Critical rule 0\",8.849840255591054],[\"Critical rule 2\",7.969471068512603],[\"Critical rule 1\",7.412140575079872],[\"Critical rule 13\",5.764998225062123],[\"Critical rule 5\",5.296414625488108],[\"Critical rule 35\",4.50479233226837],[\"Critical rule 27\",4.568690095846645],[\"Critical rule 19\",4.0894568690095845],[\"Critical rule 11\",3.69542066027689],[\"Critical rule 17\",3.7451189208377706],[\"Critical rule 8\",3.411430599929002]],\"hovertemplate\":\"Category=High<br>Overall Coverage (%)=%{x}<br>Consistency (%)=%{y}<br>Aggregated Score=%{marker.size}<br>Rule=%{customdata[0]}<br>Relative Coverage (%)=%{customdata[1]}<extra></extra>\",\"legendgroup\":\"High\",\"marker\":{\"color\":\"green\",\"size\":[1.9922990403566887,1.8001825045773887,1.6881389435469385,1.3586559231971949,1.2633366517433433,1.1220476330298315,1.1202468077904149,1.0207291458344656,0.965877783417834,0.9567522739743919,0.8908879964774792],\"sizemode\":\"area\",\"sizeref\":0.004980747600891722,\"symbol\":\"circle\"},\"mode\":\"markers\",\"name\":\"High\",\"orientation\":\"v\",\"showlegend\":true,\"x\":[0.8059526638076442,0.7828985595889782,0.729262480386368,0.5650607993187277,0.5227165262640354,0.408857480939196,0.44461486707426956,0.4048582995951417,0.32628614848254595,0.3615730426947895,0.3276976242510357],\"xaxis\":\"x\",\"y\":[72.76707530647985,67.4579326923077,67.35483870967742,67.61032472939218,67.14671467146715,73.01495972382048,68.0952380952381,66.93782684485764,75.05407354001441,68.6402081977879,68.98779612347452],\"yaxis\":\"y\",\"type\":\"scatter\"},{\"customdata\":[[\"Critical rule 3\",3.4256301029463967],[\"Critical rule 4\",3.0386936457224],[\"Critical rule 14\",2.8434504792332267],[\"Critical rule 26\",2.8541001064962725],[\"Critical rule 18\",2.736954206602769],[\"Critical rule 16\",2.7334043308484204],[\"Critical rule 12\",2.726304579339723],[\"Critical rule 33\",2.499112531061413],[\"Critical rule 24\",2.3997160099396524],[\"Critical rule 10\",2.5559105431309903],[\"Critical rule 7\",2.1938232161874334],[\"Critical rule 34\",2.12637557685481],[\"Critical rule 40\",2.066027689030884],[\"Critical rule 20\",1.8920837770678027],[\"Critical rule 22\",1.9666311679091233],[\"Critical rule 21\",1.8778842740504083],[\"Critical rule 6\",1.7536386226482075],[\"Critical rule 28\",1.5299964501242456],[\"Critical rule 42\",1.430599929002485],[\"Critical rule 15\",1.2673056443024495],[\"Critical rule 29\",0.6673766418175363]],\"hovertemplate\":\"Category=Medium<br>Overall Coverage (%)=%{x}<br>Consistency (%)=%{y}<br>Aggregated Score=%{marker.size}<br>Rule=%{customdata[0]}<br>Relative Coverage (%)=%{customdata[1]}<extra></extra>\",\"legendgroup\":\"Medium\",\"marker\":{\"color\":\"yellow\",\"size\":[0.8862140715584083,0.8032537613365395,0.7864821974189848,0.7822748627345012,0.7814893511141452,0.7463344356975014,0.7397907296958486,0.7169237792090005,0.7109126094668862,0.7070823183066457,0.6504815436495307,0.6448551149585089,0.6429365529183064,0.6013469742079878,0.5989611351408344,0.5809999184187222,0.5510633052682227,0.5207825805104416,0.4760734745814901,0.451337390706505,0.34742221666893863],\"sizemode\":\"area\",\"sizeref\":0.004980747600891722,\"symbol\":\"circle\"},\"mode\":\"markers\",\"name\":\"Medium\",\"orientation\":\"v\",\"showlegend\":true,\"x\":[0.34157713597451816,0.3114656529134036,0.26112301717060277,0.2700623637043711,0.23359923968505272,0.2740615450484254,0.2806484319680442,0.23007055026382836,0.20748693796799242,0.26112301717060277,0.20701644604516253,0.193372180283095,0.17949266855961252,0.16937709221876934,0.1910197206689454,0.18255086605800697,0.17478774933131336,0.14208856069463427,0.1503221693441578,0.12773855704832188,0.06210493381354875],\"xaxis\":\"x\",\"y\":[66.46005509641874,64.6525679758308,72.16216216216216,70.03484320557492,77.64350453172206,66.09442060085837,64.37552388935457,71.98364008179959,76.64399092970523,64.86486486486487,70.22727272727273,72.87104622871047,76.2778505897772,74.02777777777779,68.22660098522168,68.1701030927835,66.48721399730822,71.35761589403974,63.06729264475743,65.74585635359117,71.21212121212122],\"yaxis\":\"y\",\"type\":\"scatter\"},{\"customdata\":[[\"Critical rule 38\",0.5679801206957756],[\"Critical rule 9\",0.3904863329783458],[\"Critical rule 30\",0.44728434504792336],[\"Critical rule 23\",0.5253816116435925],[\"Critical rule 41\",0.2200922967696131],[\"Critical rule 39\",0.25914093006744765],[\"Critical rule 31\",0.13489527866524673],[\"Critical rule 32\",0.1774937877174299],[\"Critical rule 36\",0.33368832090876815],[\"Critical rule 25\",0.2165424210152645],[\"Critical rule 37\",0.03194888178913738]],\"hovertemplate\":\"Category=Low<br>Overall Coverage (%)=%{x}<br>Consistency (%)=%{y}<br>Aggregated Score=%{marker.size}<br>Rule=%{customdata[0]}<br>Relative Coverage (%)=%{customdata[1]}<extra></extra>\",\"legendgroup\":\"Low\",\"marker\":{\"color\":\"red\",\"size\":[0.3371047275011646,0.31567083448129857,0.3032243837193352,0.2992321418366347,0.29545685171099756,0.29526738002945957,0.28036531940770104,0.27750716766249234,0.26690351258455114,0.25620033764087996,0.23140389111551238],\"sizemode\":\"area\",\"sizeref\":0.004980747600891722,\"symbol\":\"circle\"},\"mode\":\"markers\",\"name\":\"Low\",\"orientation\":\"v\",\"showlegend\":true,\"x\":[0.050577881704215844,0.03269918863667908,0.04163853517044746,0.05387132516402525,0.01740820114470685,0.021172136527346168,0.010586068263673084,0.014585249607727361,0.033169680559508995,0.020231152681686338,0.002822951536979489],\"xaxis\":\"x\",\"y\":[74.4186046511628,79.13669064748201,71.1864406779661,64.62882096069869,83.78378378378379,81.11111111111111,84.44444444444444,80.64516129032258,66.66666666666666,70.93023255813954,75.0],\"yaxis\":\"y\",\"type\":\"scatter\"}],                        {\"template\":{\"data\":{\"histogram2dcontour\":[{\"type\":\"histogram2dcontour\",\"colorbar\":{\"outlinewidth\":0,\"ticks\":\"\"},\"colorscale\":[[0.0,\"#0d0887\"],[0.1111111111111111,\"#46039f\"],[0.2222222222222222,\"#7201a8\"],[0.3333333333333333,\"#9c179e\"],[0.4444444444444444,\"#bd3786\"],[0.5555555555555556,\"#d8576b\"],[0.6666666666666666,\"#ed7953\"],[0.7777777777777778,\"#fb9f3a\"],[0.8888888888888888,\"#fdca26\"],[1.0,\"#f0f921\"]]}],\"choropleth\":[{\"type\":\"choropleth\",\"colorbar\":{\"outlinewidth\":0,\"ticks\":\"\"}}],\"histogram2d\":[{\"type\":\"histogram2d\",\"colorbar\":{\"outlinewidth\":0,\"ticks\":\"\"},\"colorscale\":[[0.0,\"#0d0887\"],[0.1111111111111111,\"#46039f\"],[0.2222222222222222,\"#7201a8\"],[0.3333333333333333,\"#9c179e\"],[0.4444444444444444,\"#bd3786\"],[0.5555555555555556,\"#d8576b\"],[0.6666666666666666,\"#ed7953\"],[0.7777777777777778,\"#fb9f3a\"],[0.8888888888888888,\"#fdca26\"],[1.0,\"#f0f921\"]]}],\"heatmap\":[{\"type\":\"heatmap\",\"colorbar\":{\"outlinewidth\":0,\"ticks\":\"\"},\"colorscale\":[[0.0,\"#0d0887\"],[0.1111111111111111,\"#46039f\"],[0.2222222222222222,\"#7201a8\"],[0.3333333333333333,\"#9c179e\"],[0.4444444444444444,\"#bd3786\"],[0.5555555555555556,\"#d8576b\"],[0.6666666666666666,\"#ed7953\"],[0.7777777777777778,\"#fb9f3a\"],[0.8888888888888888,\"#fdca26\"],[1.0,\"#f0f921\"]]}],\"heatmapgl\":[{\"type\":\"heatmapgl\",\"colorbar\":{\"outlinewidth\":0,\"ticks\":\"\"},\"colorscale\":[[0.0,\"#0d0887\"],[0.1111111111111111,\"#46039f\"],[0.2222222222222222,\"#7201a8\"],[0.3333333333333333,\"#9c179e\"],[0.4444444444444444,\"#bd3786\"],[0.5555555555555556,\"#d8576b\"],[0.6666666666666666,\"#ed7953\"],[0.7777777777777778,\"#fb9f3a\"],[0.8888888888888888,\"#fdca26\"],[1.0,\"#f0f921\"]]}],\"contourcarpet\":[{\"type\":\"contourcarpet\",\"colorbar\":{\"outlinewidth\":0,\"ticks\":\"\"}}],\"contour\":[{\"type\":\"contour\",\"colorbar\":{\"outlinewidth\":0,\"ticks\":\"\"},\"colorscale\":[[0.0,\"#0d0887\"],[0.1111111111111111,\"#46039f\"],[0.2222222222222222,\"#7201a8\"],[0.3333333333333333,\"#9c179e\"],[0.4444444444444444,\"#bd3786\"],[0.5555555555555556,\"#d8576b\"],[0.6666666666666666,\"#ed7953\"],[0.7777777777777778,\"#fb9f3a\"],[0.8888888888888888,\"#fdca26\"],[1.0,\"#f0f921\"]]}],\"surface\":[{\"type\":\"surface\",\"colorbar\":{\"outlinewidth\":0,\"ticks\":\"\"},\"colorscale\":[[0.0,\"#0d0887\"],[0.1111111111111111,\"#46039f\"],[0.2222222222222222,\"#7201a8\"],[0.3333333333333333,\"#9c179e\"],[0.4444444444444444,\"#bd3786\"],[0.5555555555555556,\"#d8576b\"],[0.6666666666666666,\"#ed7953\"],[0.7777777777777778,\"#fb9f3a\"],[0.8888888888888888,\"#fdca26\"],[1.0,\"#f0f921\"]]}],\"mesh3d\":[{\"type\":\"mesh3d\",\"colorbar\":{\"outlinewidth\":0,\"ticks\":\"\"}}],\"scatter\":[{\"fillpattern\":{\"fillmode\":\"overlay\",\"size\":10,\"solidity\":0.2},\"type\":\"scatter\"}],\"parcoords\":[{\"type\":\"parcoords\",\"line\":{\"colorbar\":{\"outlinewidth\":0,\"ticks\":\"\"}}}],\"scatterpolargl\":[{\"type\":\"scatterpolargl\",\"marker\":{\"colorbar\":{\"outlinewidth\":0,\"ticks\":\"\"}}}],\"bar\":[{\"error_x\":{\"color\":\"#2a3f5f\"},\"error_y\":{\"color\":\"#2a3f5f\"},\"marker\":{\"line\":{\"color\":\"#E5ECF6\",\"width\":0.5},\"pattern\":{\"fillmode\":\"overlay\",\"size\":10,\"solidity\":0.2}},\"type\":\"bar\"}],\"scattergeo\":[{\"type\":\"scattergeo\",\"marker\":{\"colorbar\":{\"outlinewidth\":0,\"ticks\":\"\"}}}],\"scatterpolar\":[{\"type\":\"scatterpolar\",\"marker\":{\"colorbar\":{\"outlinewidth\":0,\"ticks\":\"\"}}}],\"histogram\":[{\"marker\":{\"pattern\":{\"fillmode\":\"overlay\",\"size\":10,\"solidity\":0.2}},\"type\":\"histogram\"}],\"scattergl\":[{\"type\":\"scattergl\",\"marker\":{\"colorbar\":{\"outlinewidth\":0,\"ticks\":\"\"}}}],\"scatter3d\":[{\"type\":\"scatter3d\",\"line\":{\"colorbar\":{\"outlinewidth\":0,\"ticks\":\"\"}},\"marker\":{\"colorbar\":{\"outlinewidth\":0,\"ticks\":\"\"}}}],\"scattermapbox\":[{\"type\":\"scattermapbox\",\"marker\":{\"colorbar\":{\"outlinewidth\":0,\"ticks\":\"\"}}}],\"scatterternary\":[{\"type\":\"scatterternary\",\"marker\":{\"colorbar\":{\"outlinewidth\":0,\"ticks\":\"\"}}}],\"scattercarpet\":[{\"type\":\"scattercarpet\",\"marker\":{\"colorbar\":{\"outlinewidth\":0,\"ticks\":\"\"}}}],\"carpet\":[{\"aaxis\":{\"endlinecolor\":\"#2a3f5f\",\"gridcolor\":\"white\",\"linecolor\":\"white\",\"minorgridcolor\":\"white\",\"startlinecolor\":\"#2a3f5f\"},\"baxis\":{\"endlinecolor\":\"#2a3f5f\",\"gridcolor\":\"white\",\"linecolor\":\"white\",\"minorgridcolor\":\"white\",\"startlinecolor\":\"#2a3f5f\"},\"type\":\"carpet\"}],\"table\":[{\"cells\":{\"fill\":{\"color\":\"#EBF0F8\"},\"line\":{\"color\":\"white\"}},\"header\":{\"fill\":{\"color\":\"#C8D4E3\"},\"line\":{\"color\":\"white\"}},\"type\":\"table\"}],\"barpolar\":[{\"marker\":{\"line\":{\"color\":\"#E5ECF6\",\"width\":0.5},\"pattern\":{\"fillmode\":\"overlay\",\"size\":10,\"solidity\":0.2}},\"type\":\"barpolar\"}],\"pie\":[{\"automargin\":true,\"type\":\"pie\"}]},\"layout\":{\"autotypenumbers\":\"strict\",\"colorway\":[\"#636efa\",\"#EF553B\",\"#00cc96\",\"#ab63fa\",\"#FFA15A\",\"#19d3f3\",\"#FF6692\",\"#B6E880\",\"#FF97FF\",\"#FECB52\"],\"font\":{\"color\":\"#2a3f5f\"},\"hovermode\":\"closest\",\"hoverlabel\":{\"align\":\"left\"},\"paper_bgcolor\":\"white\",\"plot_bgcolor\":\"#E5ECF6\",\"polar\":{\"bgcolor\":\"#E5ECF6\",\"angularaxis\":{\"gridcolor\":\"white\",\"linecolor\":\"white\",\"ticks\":\"\"},\"radialaxis\":{\"gridcolor\":\"white\",\"linecolor\":\"white\",\"ticks\":\"\"}},\"ternary\":{\"bgcolor\":\"#E5ECF6\",\"aaxis\":{\"gridcolor\":\"white\",\"linecolor\":\"white\",\"ticks\":\"\"},\"baxis\":{\"gridcolor\":\"white\",\"linecolor\":\"white\",\"ticks\":\"\"},\"caxis\":{\"gridcolor\":\"white\",\"linecolor\":\"white\",\"ticks\":\"\"}},\"coloraxis\":{\"colorbar\":{\"outlinewidth\":0,\"ticks\":\"\"}},\"colorscale\":{\"sequential\":[[0.0,\"#0d0887\"],[0.1111111111111111,\"#46039f\"],[0.2222222222222222,\"#7201a8\"],[0.3333333333333333,\"#9c179e\"],[0.4444444444444444,\"#bd3786\"],[0.5555555555555556,\"#d8576b\"],[0.6666666666666666,\"#ed7953\"],[0.7777777777777778,\"#fb9f3a\"],[0.8888888888888888,\"#fdca26\"],[1.0,\"#f0f921\"]],\"sequentialminus\":[[0.0,\"#0d0887\"],[0.1111111111111111,\"#46039f\"],[0.2222222222222222,\"#7201a8\"],[0.3333333333333333,\"#9c179e\"],[0.4444444444444444,\"#bd3786\"],[0.5555555555555556,\"#d8576b\"],[0.6666666666666666,\"#ed7953\"],[0.7777777777777778,\"#fb9f3a\"],[0.8888888888888888,\"#fdca26\"],[1.0,\"#f0f921\"]],\"diverging\":[[0,\"#8e0152\"],[0.1,\"#c51b7d\"],[0.2,\"#de77ae\"],[0.3,\"#f1b6da\"],[0.4,\"#fde0ef\"],[0.5,\"#f7f7f7\"],[0.6,\"#e6f5d0\"],[0.7,\"#b8e186\"],[0.8,\"#7fbc41\"],[0.9,\"#4d9221\"],[1,\"#276419\"]]},\"xaxis\":{\"gridcolor\":\"white\",\"linecolor\":\"white\",\"ticks\":\"\",\"title\":{\"standoff\":15},\"zerolinecolor\":\"white\",\"automargin\":true,\"zerolinewidth\":2},\"yaxis\":{\"gridcolor\":\"white\",\"linecolor\":\"white\",\"ticks\":\"\",\"title\":{\"standoff\":15},\"zerolinecolor\":\"white\",\"automargin\":true,\"zerolinewidth\":2},\"scene\":{\"xaxis\":{\"backgroundcolor\":\"#E5ECF6\",\"gridcolor\":\"white\",\"linecolor\":\"white\",\"showbackground\":true,\"ticks\":\"\",\"zerolinecolor\":\"white\",\"gridwidth\":2},\"yaxis\":{\"backgroundcolor\":\"#E5ECF6\",\"gridcolor\":\"white\",\"linecolor\":\"white\",\"showbackground\":true,\"ticks\":\"\",\"zerolinecolor\":\"white\",\"gridwidth\":2},\"zaxis\":{\"backgroundcolor\":\"#E5ECF6\",\"gridcolor\":\"white\",\"linecolor\":\"white\",\"showbackground\":true,\"ticks\":\"\",\"zerolinecolor\":\"white\",\"gridwidth\":2}},\"shapedefaults\":{\"line\":{\"color\":\"#2a3f5f\"}},\"annotationdefaults\":{\"arrowcolor\":\"#2a3f5f\",\"arrowhead\":0,\"arrowwidth\":1},\"geo\":{\"bgcolor\":\"white\",\"landcolor\":\"#E5ECF6\",\"subunitcolor\":\"white\",\"showland\":true,\"showlakes\":true,\"lakecolor\":\"white\"},\"title\":{\"x\":0.05},\"mapbox\":{\"style\":\"light\"}}},\"xaxis\":{\"anchor\":\"y\",\"domain\":[0.0,1.0],\"title\":{\"text\":\"Overall Coverage (%)\"}},\"yaxis\":{\"anchor\":\"x\",\"domain\":[0.0,1.0],\"title\":{\"text\":\"Consistency (%)\"}},\"legend\":{\"title\":{\"text\":\"Rule Coverage Index\"},\"tracegroupgap\":0,\"itemsizing\":\"constant\"},\"title\":{\"text\":\"Scatter Plot of Consistency vs. Coverage\"}},                        {\"responsive\": true}                    ).then(function(){\n",
       "                            \n",
       "var gd = document.getElementById('e2a4db1d-6413-44f4-9847-bca2a0e8d431');\n",
       "var x = new MutationObserver(function (mutations, observer) {{\n",
       "        var display = window.getComputedStyle(gd).display;\n",
       "        if (!display || display === 'none') {{\n",
       "            console.log([gd, 'removed!']);\n",
       "            Plotly.purge(gd);\n",
       "            observer.disconnect();\n",
       "        }}\n",
       "}});\n",
       "\n",
       "// Listen for the removal of the full notebook cells\n",
       "var notebookContainer = gd.closest('#notebook-container');\n",
       "if (notebookContainer) {{\n",
       "    x.observe(notebookContainer, {childList: true});\n",
       "}}\n",
       "\n",
       "// Listen for the clearing of the current output cell\n",
       "var outputEl = gd.closest('.output');\n",
       "if (outputEl) {{\n",
       "    x.observe(outputEl, {childList: true});\n",
       "}}\n",
       "\n",
       "                        })                };                });            </script>        </div>"
      ]
     },
     "metadata": {},
     "output_type": "display_data"
    }
   ],
   "source": [
    "import plotly.express as px\n",
    "import pandas as pd\n",
    "\n",
    "# Assuming 'rule_metrics_df_sorted' is the DataFrame from earlier\n",
    "fig = px.scatter(\n",
    "    rule_metrics_df_sorted,\n",
    "    x='Overall Coverage (%)',\n",
    "    y='Consistency (%)',\n",
    "    color='Category',  # Corrected column name\n",
    "    size='Aggregated Score',\n",
    "    hover_data=['Rule', 'Overall Coverage (%)', 'Consistency (%)', 'Relative Coverage (%)'],\n",
    "    color_discrete_map={'High': 'green', 'Medium': 'yellow', 'Low': 'red'},\n",
    "    title='Scatter Plot of Consistency vs. Coverage'\n",
    ")\n",
    "\n",
    "fig.update_layout(\n",
    "    xaxis_title='Overall Coverage (%)',\n",
    "    yaxis_title='Consistency (%)',\n",
    "    legend_title='Rule Coverage Index'\n",
    ")\n",
    "\n",
    "fig.show()"
   ]
  },
  {
   "cell_type": "code",
   "execution_count": 72,
   "id": "90c6439e-d659-4c3b-8425-cdbcf1b5ba79",
   "metadata": {
    "tags": []
   },
   "outputs": [
    {
     "name": "stdout",
     "output_type": "stream",
     "text": [
      "['Critical rule 0' 'Critical rule 2' 'Critical rule 1' 'Critical rule 13'\n",
      " 'Critical rule 5' 'Critical rule 35' 'Critical rule 27'\n",
      " 'Critical rule 19' 'Critical rule 11' 'Critical rule 17'\n",
      " 'Critical rule 8' 'Critical rule 3' 'Critical rule 4' 'Critical rule 14'\n",
      " 'Critical rule 26' 'Critical rule 18' 'Critical rule 16'\n",
      " 'Critical rule 12' 'Critical rule 33' 'Critical rule 24'\n",
      " 'Critical rule 10' 'Critical rule 7' 'Critical rule 34'\n",
      " 'Critical rule 40' 'Critical rule 20' 'Critical rule 22'\n",
      " 'Critical rule 21' 'Critical rule 6' 'Critical rule 28'\n",
      " 'Critical rule 42' 'Critical rule 15' 'Critical rule 29'\n",
      " 'Critical rule 38' 'Critical rule 9' 'Critical rule 30'\n",
      " 'Critical rule 23' 'Critical rule 41' 'Critical rule 39'\n",
      " 'Critical rule 31' 'Critical rule 32' 'Critical rule 36'\n",
      " 'Critical rule 25' 'Critical rule 37']\n"
     ]
    }
   ],
   "source": [
    "# Check the unique values in the 'Rule' column to confirm the rule numbers\n",
    "print(rule_metrics_df_sorted['Rule'].unique())\n"
   ]
  },
  {
   "cell_type": "code",
   "execution_count": null,
   "id": "54d0fde2-f242-4b5b-b791-9a6de444fe1b",
   "metadata": {},
   "outputs": [],
   "source": []
  },
  {
   "cell_type": "code",
   "execution_count": 78,
   "id": "547642ff-aed4-4cd4-aadf-111de265bff8",
   "metadata": {
    "tags": []
   },
   "outputs": [
    {
     "data": {
      "text/html": [
       "<div>\n",
       "<style scoped>\n",
       "    .dataframe tbody tr th:only-of-type {\n",
       "        vertical-align: middle;\n",
       "    }\n",
       "\n",
       "    .dataframe tbody tr th {\n",
       "        vertical-align: top;\n",
       "    }\n",
       "\n",
       "    .dataframe thead th {\n",
       "        text-align: right;\n",
       "    }\n",
       "</style>\n",
       "<table border=\"1\" class=\"dataframe\">\n",
       "  <thead>\n",
       "    <tr style=\"text-align: right;\">\n",
       "      <th></th>\n",
       "      <th>Rule</th>\n",
       "      <th>Overall Coverage (%)</th>\n",
       "      <th>Consistency (%)</th>\n",
       "      <th>Relative Coverage (%)</th>\n",
       "      <th>Aggregated Score</th>\n",
       "      <th>Category</th>\n",
       "    </tr>\n",
       "  </thead>\n",
       "  <tbody>\n",
       "    <tr>\n",
       "      <th>28</th>\n",
       "      <td>Critical rule 0</td>\n",
       "      <td>0.805953</td>\n",
       "      <td>72.767075</td>\n",
       "      <td>8.849840</td>\n",
       "      <td>1.992299</td>\n",
       "      <td>Good</td>\n",
       "    </tr>\n",
       "    <tr>\n",
       "      <th>6</th>\n",
       "      <td>Critical rule 2</td>\n",
       "      <td>0.782899</td>\n",
       "      <td>67.457933</td>\n",
       "      <td>7.969471</td>\n",
       "      <td>1.800183</td>\n",
       "      <td>Good</td>\n",
       "    </tr>\n",
       "    <tr>\n",
       "      <th>42</th>\n",
       "      <td>Critical rule 1</td>\n",
       "      <td>0.729262</td>\n",
       "      <td>67.354839</td>\n",
       "      <td>7.412141</td>\n",
       "      <td>1.688139</td>\n",
       "      <td>Good</td>\n",
       "    </tr>\n",
       "    <tr>\n",
       "      <th>22</th>\n",
       "      <td>Critical rule 13</td>\n",
       "      <td>0.565061</td>\n",
       "      <td>67.610325</td>\n",
       "      <td>5.764998</td>\n",
       "      <td>1.358656</td>\n",
       "      <td>Good</td>\n",
       "    </tr>\n",
       "    <tr>\n",
       "      <th>12</th>\n",
       "      <td>Critical rule 5</td>\n",
       "      <td>0.522717</td>\n",
       "      <td>67.146715</td>\n",
       "      <td>5.296415</td>\n",
       "      <td>1.263337</td>\n",
       "      <td>Good</td>\n",
       "    </tr>\n",
       "    <tr>\n",
       "      <th>36</th>\n",
       "      <td>Critical rule 35</td>\n",
       "      <td>0.408857</td>\n",
       "      <td>73.014960</td>\n",
       "      <td>4.504792</td>\n",
       "      <td>1.122048</td>\n",
       "      <td>Good</td>\n",
       "    </tr>\n",
       "    <tr>\n",
       "      <th>37</th>\n",
       "      <td>Critical rule 27</td>\n",
       "      <td>0.444615</td>\n",
       "      <td>68.095238</td>\n",
       "      <td>4.568690</td>\n",
       "      <td>1.120247</td>\n",
       "      <td>Good</td>\n",
       "    </tr>\n",
       "    <tr>\n",
       "      <th>3</th>\n",
       "      <td>Critical rule 19</td>\n",
       "      <td>0.404858</td>\n",
       "      <td>66.937827</td>\n",
       "      <td>4.089457</td>\n",
       "      <td>1.020729</td>\n",
       "      <td>Good</td>\n",
       "    </tr>\n",
       "    <tr>\n",
       "      <th>10</th>\n",
       "      <td>Critical rule 11</td>\n",
       "      <td>0.326286</td>\n",
       "      <td>75.054074</td>\n",
       "      <td>3.695421</td>\n",
       "      <td>0.965878</td>\n",
       "      <td>Good</td>\n",
       "    </tr>\n",
       "    <tr>\n",
       "      <th>2</th>\n",
       "      <td>Critical rule 17</td>\n",
       "      <td>0.361573</td>\n",
       "      <td>68.640208</td>\n",
       "      <td>3.745119</td>\n",
       "      <td>0.956752</td>\n",
       "      <td>Good</td>\n",
       "    </tr>\n",
       "    <tr>\n",
       "      <th>18</th>\n",
       "      <td>Critical rule 8</td>\n",
       "      <td>0.327698</td>\n",
       "      <td>68.987796</td>\n",
       "      <td>3.411431</td>\n",
       "      <td>0.890888</td>\n",
       "      <td>Good</td>\n",
       "    </tr>\n",
       "    <tr>\n",
       "      <th>25</th>\n",
       "      <td>Critical rule 3</td>\n",
       "      <td>0.341577</td>\n",
       "      <td>66.460055</td>\n",
       "      <td>3.425630</td>\n",
       "      <td>0.886214</td>\n",
       "      <td>Average</td>\n",
       "    </tr>\n",
       "    <tr>\n",
       "      <th>24</th>\n",
       "      <td>Critical rule 4</td>\n",
       "      <td>0.311466</td>\n",
       "      <td>64.652568</td>\n",
       "      <td>3.038694</td>\n",
       "      <td>0.803254</td>\n",
       "      <td>Average</td>\n",
       "    </tr>\n",
       "    <tr>\n",
       "      <th>39</th>\n",
       "      <td>Critical rule 14</td>\n",
       "      <td>0.261123</td>\n",
       "      <td>72.162162</td>\n",
       "      <td>2.843450</td>\n",
       "      <td>0.786482</td>\n",
       "      <td>Average</td>\n",
       "    </tr>\n",
       "    <tr>\n",
       "      <th>1</th>\n",
       "      <td>Critical rule 26</td>\n",
       "      <td>0.270062</td>\n",
       "      <td>70.034843</td>\n",
       "      <td>2.854100</td>\n",
       "      <td>0.782275</td>\n",
       "      <td>Average</td>\n",
       "    </tr>\n",
       "    <tr>\n",
       "      <th>19</th>\n",
       "      <td>Critical rule 18</td>\n",
       "      <td>0.233599</td>\n",
       "      <td>77.643505</td>\n",
       "      <td>2.736954</td>\n",
       "      <td>0.781489</td>\n",
       "      <td>Average</td>\n",
       "    </tr>\n",
       "    <tr>\n",
       "      <th>20</th>\n",
       "      <td>Critical rule 16</td>\n",
       "      <td>0.274062</td>\n",
       "      <td>66.094421</td>\n",
       "      <td>2.733404</td>\n",
       "      <td>0.746334</td>\n",
       "      <td>Average</td>\n",
       "    </tr>\n",
       "    <tr>\n",
       "      <th>15</th>\n",
       "      <td>Critical rule 12</td>\n",
       "      <td>0.280648</td>\n",
       "      <td>64.375524</td>\n",
       "      <td>2.726305</td>\n",
       "      <td>0.739791</td>\n",
       "      <td>Average</td>\n",
       "    </tr>\n",
       "    <tr>\n",
       "      <th>23</th>\n",
       "      <td>Critical rule 33</td>\n",
       "      <td>0.230071</td>\n",
       "      <td>71.983640</td>\n",
       "      <td>2.499113</td>\n",
       "      <td>0.716924</td>\n",
       "      <td>Average</td>\n",
       "    </tr>\n",
       "    <tr>\n",
       "      <th>8</th>\n",
       "      <td>Critical rule 24</td>\n",
       "      <td>0.207487</td>\n",
       "      <td>76.643991</td>\n",
       "      <td>2.399716</td>\n",
       "      <td>0.710913</td>\n",
       "      <td>Average</td>\n",
       "    </tr>\n",
       "    <tr>\n",
       "      <th>26</th>\n",
       "      <td>Critical rule 10</td>\n",
       "      <td>0.261123</td>\n",
       "      <td>64.864865</td>\n",
       "      <td>2.555911</td>\n",
       "      <td>0.707082</td>\n",
       "      <td>Average</td>\n",
       "    </tr>\n",
       "    <tr>\n",
       "      <th>0</th>\n",
       "      <td>Critical rule 7</td>\n",
       "      <td>0.207016</td>\n",
       "      <td>70.227273</td>\n",
       "      <td>2.193823</td>\n",
       "      <td>0.650482</td>\n",
       "      <td>Average</td>\n",
       "    </tr>\n",
       "    <tr>\n",
       "      <th>27</th>\n",
       "      <td>Critical rule 34</td>\n",
       "      <td>0.193372</td>\n",
       "      <td>72.871046</td>\n",
       "      <td>2.126376</td>\n",
       "      <td>0.644855</td>\n",
       "      <td>Average</td>\n",
       "    </tr>\n",
       "    <tr>\n",
       "      <th>14</th>\n",
       "      <td>Critical rule 40</td>\n",
       "      <td>0.179493</td>\n",
       "      <td>76.277851</td>\n",
       "      <td>2.066028</td>\n",
       "      <td>0.642937</td>\n",
       "      <td>Average</td>\n",
       "    </tr>\n",
       "    <tr>\n",
       "      <th>4</th>\n",
       "      <td>Critical rule 20</td>\n",
       "      <td>0.169377</td>\n",
       "      <td>74.027778</td>\n",
       "      <td>1.892084</td>\n",
       "      <td>0.601347</td>\n",
       "      <td>Average</td>\n",
       "    </tr>\n",
       "    <tr>\n",
       "      <th>33</th>\n",
       "      <td>Critical rule 22</td>\n",
       "      <td>0.191020</td>\n",
       "      <td>68.226601</td>\n",
       "      <td>1.966631</td>\n",
       "      <td>0.598961</td>\n",
       "      <td>Average</td>\n",
       "    </tr>\n",
       "    <tr>\n",
       "      <th>16</th>\n",
       "      <td>Critical rule 21</td>\n",
       "      <td>0.182551</td>\n",
       "      <td>68.170103</td>\n",
       "      <td>1.877884</td>\n",
       "      <td>0.581000</td>\n",
       "      <td>Average</td>\n",
       "    </tr>\n",
       "    <tr>\n",
       "      <th>7</th>\n",
       "      <td>Critical rule 6</td>\n",
       "      <td>0.174788</td>\n",
       "      <td>66.487214</td>\n",
       "      <td>1.753639</td>\n",
       "      <td>0.551063</td>\n",
       "      <td>Average</td>\n",
       "    </tr>\n",
       "    <tr>\n",
       "      <th>21</th>\n",
       "      <td>Critical rule 28</td>\n",
       "      <td>0.142089</td>\n",
       "      <td>71.357616</td>\n",
       "      <td>1.529996</td>\n",
       "      <td>0.520783</td>\n",
       "      <td>Average</td>\n",
       "    </tr>\n",
       "    <tr>\n",
       "      <th>5</th>\n",
       "      <td>Critical rule 42</td>\n",
       "      <td>0.150322</td>\n",
       "      <td>63.067293</td>\n",
       "      <td>1.430600</td>\n",
       "      <td>0.476073</td>\n",
       "      <td>Average</td>\n",
       "    </tr>\n",
       "    <tr>\n",
       "      <th>35</th>\n",
       "      <td>Critical rule 15</td>\n",
       "      <td>0.127739</td>\n",
       "      <td>65.745856</td>\n",
       "      <td>1.267306</td>\n",
       "      <td>0.451337</td>\n",
       "      <td>Average</td>\n",
       "    </tr>\n",
       "    <tr>\n",
       "      <th>29</th>\n",
       "      <td>Critical rule 29</td>\n",
       "      <td>0.062105</td>\n",
       "      <td>71.212121</td>\n",
       "      <td>0.667377</td>\n",
       "      <td>0.347422</td>\n",
       "      <td>Average</td>\n",
       "    </tr>\n",
       "    <tr>\n",
       "      <th>40</th>\n",
       "      <td>Critical rule 38</td>\n",
       "      <td>0.050578</td>\n",
       "      <td>74.418605</td>\n",
       "      <td>0.567980</td>\n",
       "      <td>0.337105</td>\n",
       "      <td>Bad</td>\n",
       "    </tr>\n",
       "    <tr>\n",
       "      <th>17</th>\n",
       "      <td>Critical rule 9</td>\n",
       "      <td>0.032699</td>\n",
       "      <td>79.136691</td>\n",
       "      <td>0.390486</td>\n",
       "      <td>0.315671</td>\n",
       "      <td>Bad</td>\n",
       "    </tr>\n",
       "    <tr>\n",
       "      <th>41</th>\n",
       "      <td>Critical rule 30</td>\n",
       "      <td>0.041639</td>\n",
       "      <td>71.186441</td>\n",
       "      <td>0.447284</td>\n",
       "      <td>0.303224</td>\n",
       "      <td>Bad</td>\n",
       "    </tr>\n",
       "    <tr>\n",
       "      <th>34</th>\n",
       "      <td>Critical rule 23</td>\n",
       "      <td>0.053871</td>\n",
       "      <td>64.628821</td>\n",
       "      <td>0.525382</td>\n",
       "      <td>0.299232</td>\n",
       "      <td>Bad</td>\n",
       "    </tr>\n",
       "    <tr>\n",
       "      <th>38</th>\n",
       "      <td>Critical rule 41</td>\n",
       "      <td>0.017408</td>\n",
       "      <td>83.783784</td>\n",
       "      <td>0.220092</td>\n",
       "      <td>0.295457</td>\n",
       "      <td>Bad</td>\n",
       "    </tr>\n",
       "    <tr>\n",
       "      <th>13</th>\n",
       "      <td>Critical rule 39</td>\n",
       "      <td>0.021172</td>\n",
       "      <td>81.111111</td>\n",
       "      <td>0.259141</td>\n",
       "      <td>0.295267</td>\n",
       "      <td>Bad</td>\n",
       "    </tr>\n",
       "    <tr>\n",
       "      <th>30</th>\n",
       "      <td>Critical rule 31</td>\n",
       "      <td>0.010586</td>\n",
       "      <td>84.444444</td>\n",
       "      <td>0.134895</td>\n",
       "      <td>0.280365</td>\n",
       "      <td>Bad</td>\n",
       "    </tr>\n",
       "    <tr>\n",
       "      <th>32</th>\n",
       "      <td>Critical rule 32</td>\n",
       "      <td>0.014585</td>\n",
       "      <td>80.645161</td>\n",
       "      <td>0.177494</td>\n",
       "      <td>0.277507</td>\n",
       "      <td>Bad</td>\n",
       "    </tr>\n",
       "    <tr>\n",
       "      <th>31</th>\n",
       "      <td>Critical rule 36</td>\n",
       "      <td>0.033170</td>\n",
       "      <td>66.666667</td>\n",
       "      <td>0.333688</td>\n",
       "      <td>0.266904</td>\n",
       "      <td>Bad</td>\n",
       "    </tr>\n",
       "    <tr>\n",
       "      <th>9</th>\n",
       "      <td>Critical rule 25</td>\n",
       "      <td>0.020231</td>\n",
       "      <td>70.930233</td>\n",
       "      <td>0.216542</td>\n",
       "      <td>0.256200</td>\n",
       "      <td>Bad</td>\n",
       "    </tr>\n",
       "    <tr>\n",
       "      <th>11</th>\n",
       "      <td>Critical rule 37</td>\n",
       "      <td>0.002823</td>\n",
       "      <td>75.000000</td>\n",
       "      <td>0.031949</td>\n",
       "      <td>0.231404</td>\n",
       "      <td>Bad</td>\n",
       "    </tr>\n",
       "  </tbody>\n",
       "</table>\n",
       "</div>"
      ],
      "text/plain": [
       "                Rule  Overall Coverage (%)  Consistency (%)  \\\n",
       "28   Critical rule 0              0.805953        72.767075   \n",
       "6    Critical rule 2              0.782899        67.457933   \n",
       "42   Critical rule 1              0.729262        67.354839   \n",
       "22  Critical rule 13              0.565061        67.610325   \n",
       "12   Critical rule 5              0.522717        67.146715   \n",
       "36  Critical rule 35              0.408857        73.014960   \n",
       "37  Critical rule 27              0.444615        68.095238   \n",
       "3   Critical rule 19              0.404858        66.937827   \n",
       "10  Critical rule 11              0.326286        75.054074   \n",
       "2   Critical rule 17              0.361573        68.640208   \n",
       "18   Critical rule 8              0.327698        68.987796   \n",
       "25   Critical rule 3              0.341577        66.460055   \n",
       "24   Critical rule 4              0.311466        64.652568   \n",
       "39  Critical rule 14              0.261123        72.162162   \n",
       "1   Critical rule 26              0.270062        70.034843   \n",
       "19  Critical rule 18              0.233599        77.643505   \n",
       "20  Critical rule 16              0.274062        66.094421   \n",
       "15  Critical rule 12              0.280648        64.375524   \n",
       "23  Critical rule 33              0.230071        71.983640   \n",
       "8   Critical rule 24              0.207487        76.643991   \n",
       "26  Critical rule 10              0.261123        64.864865   \n",
       "0    Critical rule 7              0.207016        70.227273   \n",
       "27  Critical rule 34              0.193372        72.871046   \n",
       "14  Critical rule 40              0.179493        76.277851   \n",
       "4   Critical rule 20              0.169377        74.027778   \n",
       "33  Critical rule 22              0.191020        68.226601   \n",
       "16  Critical rule 21              0.182551        68.170103   \n",
       "7    Critical rule 6              0.174788        66.487214   \n",
       "21  Critical rule 28              0.142089        71.357616   \n",
       "5   Critical rule 42              0.150322        63.067293   \n",
       "35  Critical rule 15              0.127739        65.745856   \n",
       "29  Critical rule 29              0.062105        71.212121   \n",
       "40  Critical rule 38              0.050578        74.418605   \n",
       "17   Critical rule 9              0.032699        79.136691   \n",
       "41  Critical rule 30              0.041639        71.186441   \n",
       "34  Critical rule 23              0.053871        64.628821   \n",
       "38  Critical rule 41              0.017408        83.783784   \n",
       "13  Critical rule 39              0.021172        81.111111   \n",
       "30  Critical rule 31              0.010586        84.444444   \n",
       "32  Critical rule 32              0.014585        80.645161   \n",
       "31  Critical rule 36              0.033170        66.666667   \n",
       "9   Critical rule 25              0.020231        70.930233   \n",
       "11  Critical rule 37              0.002823        75.000000   \n",
       "\n",
       "    Relative Coverage (%)  Aggregated Score Category  \n",
       "28               8.849840          1.992299     Good  \n",
       "6                7.969471          1.800183     Good  \n",
       "42               7.412141          1.688139     Good  \n",
       "22               5.764998          1.358656     Good  \n",
       "12               5.296415          1.263337     Good  \n",
       "36               4.504792          1.122048     Good  \n",
       "37               4.568690          1.120247     Good  \n",
       "3                4.089457          1.020729     Good  \n",
       "10               3.695421          0.965878     Good  \n",
       "2                3.745119          0.956752     Good  \n",
       "18               3.411431          0.890888     Good  \n",
       "25               3.425630          0.886214  Average  \n",
       "24               3.038694          0.803254  Average  \n",
       "39               2.843450          0.786482  Average  \n",
       "1                2.854100          0.782275  Average  \n",
       "19               2.736954          0.781489  Average  \n",
       "20               2.733404          0.746334  Average  \n",
       "15               2.726305          0.739791  Average  \n",
       "23               2.499113          0.716924  Average  \n",
       "8                2.399716          0.710913  Average  \n",
       "26               2.555911          0.707082  Average  \n",
       "0                2.193823          0.650482  Average  \n",
       "27               2.126376          0.644855  Average  \n",
       "14               2.066028          0.642937  Average  \n",
       "4                1.892084          0.601347  Average  \n",
       "33               1.966631          0.598961  Average  \n",
       "16               1.877884          0.581000  Average  \n",
       "7                1.753639          0.551063  Average  \n",
       "21               1.529996          0.520783  Average  \n",
       "5                1.430600          0.476073  Average  \n",
       "35               1.267306          0.451337  Average  \n",
       "29               0.667377          0.347422  Average  \n",
       "40               0.567980          0.337105      Bad  \n",
       "17               0.390486          0.315671      Bad  \n",
       "41               0.447284          0.303224      Bad  \n",
       "34               0.525382          0.299232      Bad  \n",
       "38               0.220092          0.295457      Bad  \n",
       "13               0.259141          0.295267      Bad  \n",
       "30               0.134895          0.280365      Bad  \n",
       "32               0.177494          0.277507      Bad  \n",
       "31               0.333688          0.266904      Bad  \n",
       "9                0.216542          0.256200      Bad  \n",
       "11               0.031949          0.231404      Bad  "
      ]
     },
     "execution_count": 78,
     "metadata": {},
     "output_type": "execute_result"
    }
   ],
   "source": [
    "rule_metrics_df_sorted"
   ]
  },
  {
   "cell_type": "code",
   "execution_count": null,
   "id": "88f96518-f659-416f-bf6a-ee8884c5e9e9",
   "metadata": {},
   "outputs": [],
   "source": []
  },
  {
   "cell_type": "code",
   "execution_count": 83,
   "id": "063fb772-35aa-4f72-a38a-e1649a1d09f0",
   "metadata": {
    "tags": []
   },
   "outputs": [
    {
     "data": {
      "application/vnd.plotly.v1+json": {
       "config": {
        "plotlyServerURL": "https://plot.ly"
       },
       "data": [
        {
         "customdata": [
          [
           "Critical rule 0",
           8.849840255591054
          ],
          [
           "Critical rule 2",
           7.969471068512603
          ],
          [
           "Critical rule 1",
           7.412140575079872
          ],
          [
           "Critical rule 13",
           5.764998225062123
          ],
          [
           "Critical rule 5",
           5.296414625488108
          ],
          [
           "Critical rule 35",
           4.50479233226837
          ],
          [
           "Critical rule 27",
           4.568690095846645
          ],
          [
           "Critical rule 19",
           4.0894568690095845
          ],
          [
           "Critical rule 11",
           3.69542066027689
          ],
          [
           "Critical rule 17",
           3.7451189208377706
          ],
          [
           "Critical rule 8",
           3.411430599929002
          ]
         ],
         "hovertemplate": "Category=High<br>Overall Coverage (%)=%{x}<br>Consistency (%)=%{y}<br>Aggregated Score=%{marker.size}<br>Rule=%{customdata[0]}<br>Relative Coverage (%)=%{customdata[1]}<extra></extra>",
         "legendgroup": "High",
         "marker": {
          "color": "green",
          "size": [
           1.9922990403566887,
           1.8001825045773887,
           1.6881389435469385,
           1.3586559231971949,
           1.2633366517433433,
           1.1220476330298315,
           1.1202468077904149,
           1.0207291458344656,
           0.965877783417834,
           0.9567522739743919,
           0.8908879964774792
          ],
          "sizemode": "area",
          "sizeref": 0.004980747600891722,
          "symbol": "circle"
         },
         "mode": "markers",
         "name": "High",
         "orientation": "v",
         "showlegend": true,
         "type": "scatter",
         "x": [
          0.8059526638076442,
          0.7828985595889782,
          0.729262480386368,
          0.5650607993187277,
          0.5227165262640354,
          0.408857480939196,
          0.44461486707426956,
          0.4048582995951417,
          0.32628614848254595,
          0.3615730426947895,
          0.3276976242510357
         ],
         "xaxis": "x",
         "y": [
          72.76707530647985,
          67.4579326923077,
          67.35483870967742,
          67.61032472939218,
          67.14671467146715,
          73.01495972382048,
          68.0952380952381,
          66.93782684485764,
          75.05407354001441,
          68.6402081977879,
          68.98779612347452
         ],
         "yaxis": "y"
        },
        {
         "customdata": [
          [
           "Critical rule 3",
           3.4256301029463967
          ],
          [
           "Critical rule 4",
           3.0386936457224
          ],
          [
           "Critical rule 14",
           2.8434504792332267
          ],
          [
           "Critical rule 26",
           2.8541001064962725
          ],
          [
           "Critical rule 18",
           2.736954206602769
          ],
          [
           "Critical rule 16",
           2.7334043308484204
          ],
          [
           "Critical rule 12",
           2.726304579339723
          ],
          [
           "Critical rule 33",
           2.499112531061413
          ],
          [
           "Critical rule 24",
           2.3997160099396524
          ],
          [
           "Critical rule 10",
           2.5559105431309903
          ],
          [
           "Critical rule 7",
           2.1938232161874334
          ],
          [
           "Critical rule 34",
           2.12637557685481
          ],
          [
           "Critical rule 40",
           2.066027689030884
          ],
          [
           "Critical rule 20",
           1.8920837770678027
          ],
          [
           "Critical rule 22",
           1.9666311679091233
          ],
          [
           "Critical rule 21",
           1.8778842740504083
          ],
          [
           "Critical rule 6",
           1.7536386226482075
          ],
          [
           "Critical rule 28",
           1.5299964501242456
          ],
          [
           "Critical rule 42",
           1.430599929002485
          ],
          [
           "Critical rule 15",
           1.2673056443024495
          ],
          [
           "Critical rule 29",
           0.6673766418175363
          ]
         ],
         "hovertemplate": "Category=Medium<br>Overall Coverage (%)=%{x}<br>Consistency (%)=%{y}<br>Aggregated Score=%{marker.size}<br>Rule=%{customdata[0]}<br>Relative Coverage (%)=%{customdata[1]}<extra></extra>",
         "legendgroup": "Medium",
         "marker": {
          "color": "yellow",
          "size": [
           0.8862140715584083,
           0.8032537613365395,
           0.7864821974189848,
           0.7822748627345012,
           0.7814893511141452,
           0.7463344356975014,
           0.7397907296958486,
           0.7169237792090005,
           0.7109126094668862,
           0.7070823183066457,
           0.6504815436495307,
           0.6448551149585089,
           0.6429365529183064,
           0.6013469742079878,
           0.5989611351408344,
           0.5809999184187222,
           0.5510633052682227,
           0.5207825805104416,
           0.4760734745814901,
           0.451337390706505,
           0.34742221666893863
          ],
          "sizemode": "area",
          "sizeref": 0.004980747600891722,
          "symbol": "circle"
         },
         "mode": "markers",
         "name": "Medium",
         "orientation": "v",
         "showlegend": true,
         "type": "scatter",
         "x": [
          0.34157713597451816,
          0.3114656529134036,
          0.26112301717060277,
          0.2700623637043711,
          0.23359923968505272,
          0.2740615450484254,
          0.2806484319680442,
          0.23007055026382836,
          0.20748693796799242,
          0.26112301717060277,
          0.20701644604516253,
          0.193372180283095,
          0.17949266855961252,
          0.16937709221876934,
          0.1910197206689454,
          0.18255086605800697,
          0.17478774933131336,
          0.14208856069463427,
          0.1503221693441578,
          0.12773855704832188,
          0.06210493381354875
         ],
         "xaxis": "x",
         "y": [
          66.46005509641874,
          64.6525679758308,
          72.16216216216216,
          70.03484320557492,
          77.64350453172206,
          66.09442060085837,
          64.37552388935457,
          71.98364008179959,
          76.64399092970523,
          64.86486486486487,
          70.22727272727273,
          72.87104622871047,
          76.2778505897772,
          74.02777777777779,
          68.22660098522168,
          68.1701030927835,
          66.48721399730822,
          71.35761589403974,
          63.06729264475743,
          65.74585635359117,
          71.21212121212122
         ],
         "yaxis": "y"
        },
        {
         "customdata": [
          [
           "Critical rule 38",
           0.5679801206957756
          ],
          [
           "Critical rule 9",
           0.3904863329783458
          ],
          [
           "Critical rule 30",
           0.44728434504792336
          ],
          [
           "Critical rule 23",
           0.5253816116435925
          ],
          [
           "Critical rule 41",
           0.2200922967696131
          ],
          [
           "Critical rule 39",
           0.25914093006744765
          ],
          [
           "Critical rule 31",
           0.13489527866524673
          ],
          [
           "Critical rule 32",
           0.1774937877174299
          ],
          [
           "Critical rule 36",
           0.33368832090876815
          ],
          [
           "Critical rule 25",
           0.2165424210152645
          ],
          [
           "Critical rule 37",
           0.03194888178913738
          ]
         ],
         "hovertemplate": "Category=Low<br>Overall Coverage (%)=%{x}<br>Consistency (%)=%{y}<br>Aggregated Score=%{marker.size}<br>Rule=%{customdata[0]}<br>Relative Coverage (%)=%{customdata[1]}<extra></extra>",
         "legendgroup": "Low",
         "marker": {
          "color": "red",
          "size": [
           0.3371047275011646,
           0.31567083448129857,
           0.3032243837193352,
           0.2992321418366347,
           0.29545685171099756,
           0.29526738002945957,
           0.28036531940770104,
           0.27750716766249234,
           0.26690351258455114,
           0.25620033764087996,
           0.23140389111551238
          ],
          "sizemode": "area",
          "sizeref": 0.004980747600891722,
          "symbol": "circle"
         },
         "mode": "markers",
         "name": "Low",
         "orientation": "v",
         "showlegend": true,
         "type": "scatter",
         "x": [
          0.050577881704215844,
          0.03269918863667908,
          0.04163853517044746,
          0.05387132516402525,
          0.01740820114470685,
          0.021172136527346168,
          0.010586068263673084,
          0.014585249607727361,
          0.033169680559508995,
          0.020231152681686338,
          0.002822951536979489
         ],
         "xaxis": "x",
         "y": [
          74.4186046511628,
          79.13669064748201,
          71.1864406779661,
          64.62882096069869,
          83.78378378378379,
          81.11111111111111,
          84.44444444444444,
          80.64516129032258,
          66.66666666666666,
          70.93023255813954,
          75
         ],
         "yaxis": "y"
        }
       ],
       "layout": {
        "annotations": [
         {
          "font": {
           "color": "black",
           "size": 12
          },
          "text": "Rule 1",
          "x": 0.8059526638076442,
          "y": 72.76707530647985
         },
         {
          "font": {
           "color": "black",
           "size": 12
          },
          "text": "Rule 2",
          "x": 0.7828985595889782,
          "y": 67.4579326923077
         },
         {
          "font": {
           "color": "black",
           "size": 12
          },
          "text": "Rule 3",
          "x": 0.729262480386368,
          "y": 67.35483870967742
         },
         {
          "font": {
           "color": "black",
           "size": 12
          },
          "text": "Rule 4",
          "x": 0.5650607993187277,
          "y": 67.61032472939218
         },
         {
          "font": {
           "color": "black",
           "size": 12
          },
          "text": "Rule 5",
          "x": 0.5227165262640354,
          "y": 67.14671467146715
         }
        ],
        "autosize": true,
        "legend": {
         "itemsizing": "constant",
         "title": {
          "text": "Rule Category"
         },
         "tracegroupgap": 0
        },
        "margin": {
         "t": 60
        },
        "template": {
         "data": {
          "bar": [
           {
            "error_x": {
             "color": "#2a3f5f"
            },
            "error_y": {
             "color": "#2a3f5f"
            },
            "marker": {
             "line": {
              "color": "#E5ECF6",
              "width": 0.5
             },
             "pattern": {
              "fillmode": "overlay",
              "size": 10,
              "solidity": 0.2
             }
            },
            "type": "bar"
           }
          ],
          "barpolar": [
           {
            "marker": {
             "line": {
              "color": "#E5ECF6",
              "width": 0.5
             },
             "pattern": {
              "fillmode": "overlay",
              "size": 10,
              "solidity": 0.2
             }
            },
            "type": "barpolar"
           }
          ],
          "carpet": [
           {
            "aaxis": {
             "endlinecolor": "#2a3f5f",
             "gridcolor": "white",
             "linecolor": "white",
             "minorgridcolor": "white",
             "startlinecolor": "#2a3f5f"
            },
            "baxis": {
             "endlinecolor": "#2a3f5f",
             "gridcolor": "white",
             "linecolor": "white",
             "minorgridcolor": "white",
             "startlinecolor": "#2a3f5f"
            },
            "type": "carpet"
           }
          ],
          "choropleth": [
           {
            "colorbar": {
             "outlinewidth": 0,
             "ticks": ""
            },
            "type": "choropleth"
           }
          ],
          "contour": [
           {
            "colorbar": {
             "outlinewidth": 0,
             "ticks": ""
            },
            "colorscale": [
             [
              0,
              "#0d0887"
             ],
             [
              0.1111111111111111,
              "#46039f"
             ],
             [
              0.2222222222222222,
              "#7201a8"
             ],
             [
              0.3333333333333333,
              "#9c179e"
             ],
             [
              0.4444444444444444,
              "#bd3786"
             ],
             [
              0.5555555555555556,
              "#d8576b"
             ],
             [
              0.6666666666666666,
              "#ed7953"
             ],
             [
              0.7777777777777778,
              "#fb9f3a"
             ],
             [
              0.8888888888888888,
              "#fdca26"
             ],
             [
              1,
              "#f0f921"
             ]
            ],
            "type": "contour"
           }
          ],
          "contourcarpet": [
           {
            "colorbar": {
             "outlinewidth": 0,
             "ticks": ""
            },
            "type": "contourcarpet"
           }
          ],
          "heatmap": [
           {
            "colorbar": {
             "outlinewidth": 0,
             "ticks": ""
            },
            "colorscale": [
             [
              0,
              "#0d0887"
             ],
             [
              0.1111111111111111,
              "#46039f"
             ],
             [
              0.2222222222222222,
              "#7201a8"
             ],
             [
              0.3333333333333333,
              "#9c179e"
             ],
             [
              0.4444444444444444,
              "#bd3786"
             ],
             [
              0.5555555555555556,
              "#d8576b"
             ],
             [
              0.6666666666666666,
              "#ed7953"
             ],
             [
              0.7777777777777778,
              "#fb9f3a"
             ],
             [
              0.8888888888888888,
              "#fdca26"
             ],
             [
              1,
              "#f0f921"
             ]
            ],
            "type": "heatmap"
           }
          ],
          "heatmapgl": [
           {
            "colorbar": {
             "outlinewidth": 0,
             "ticks": ""
            },
            "colorscale": [
             [
              0,
              "#0d0887"
             ],
             [
              0.1111111111111111,
              "#46039f"
             ],
             [
              0.2222222222222222,
              "#7201a8"
             ],
             [
              0.3333333333333333,
              "#9c179e"
             ],
             [
              0.4444444444444444,
              "#bd3786"
             ],
             [
              0.5555555555555556,
              "#d8576b"
             ],
             [
              0.6666666666666666,
              "#ed7953"
             ],
             [
              0.7777777777777778,
              "#fb9f3a"
             ],
             [
              0.8888888888888888,
              "#fdca26"
             ],
             [
              1,
              "#f0f921"
             ]
            ],
            "type": "heatmapgl"
           }
          ],
          "histogram": [
           {
            "marker": {
             "pattern": {
              "fillmode": "overlay",
              "size": 10,
              "solidity": 0.2
             }
            },
            "type": "histogram"
           }
          ],
          "histogram2d": [
           {
            "colorbar": {
             "outlinewidth": 0,
             "ticks": ""
            },
            "colorscale": [
             [
              0,
              "#0d0887"
             ],
             [
              0.1111111111111111,
              "#46039f"
             ],
             [
              0.2222222222222222,
              "#7201a8"
             ],
             [
              0.3333333333333333,
              "#9c179e"
             ],
             [
              0.4444444444444444,
              "#bd3786"
             ],
             [
              0.5555555555555556,
              "#d8576b"
             ],
             [
              0.6666666666666666,
              "#ed7953"
             ],
             [
              0.7777777777777778,
              "#fb9f3a"
             ],
             [
              0.8888888888888888,
              "#fdca26"
             ],
             [
              1,
              "#f0f921"
             ]
            ],
            "type": "histogram2d"
           }
          ],
          "histogram2dcontour": [
           {
            "colorbar": {
             "outlinewidth": 0,
             "ticks": ""
            },
            "colorscale": [
             [
              0,
              "#0d0887"
             ],
             [
              0.1111111111111111,
              "#46039f"
             ],
             [
              0.2222222222222222,
              "#7201a8"
             ],
             [
              0.3333333333333333,
              "#9c179e"
             ],
             [
              0.4444444444444444,
              "#bd3786"
             ],
             [
              0.5555555555555556,
              "#d8576b"
             ],
             [
              0.6666666666666666,
              "#ed7953"
             ],
             [
              0.7777777777777778,
              "#fb9f3a"
             ],
             [
              0.8888888888888888,
              "#fdca26"
             ],
             [
              1,
              "#f0f921"
             ]
            ],
            "type": "histogram2dcontour"
           }
          ],
          "mesh3d": [
           {
            "colorbar": {
             "outlinewidth": 0,
             "ticks": ""
            },
            "type": "mesh3d"
           }
          ],
          "parcoords": [
           {
            "line": {
             "colorbar": {
              "outlinewidth": 0,
              "ticks": ""
             }
            },
            "type": "parcoords"
           }
          ],
          "pie": [
           {
            "automargin": true,
            "type": "pie"
           }
          ],
          "scatter": [
           {
            "fillpattern": {
             "fillmode": "overlay",
             "size": 10,
             "solidity": 0.2
            },
            "type": "scatter"
           }
          ],
          "scatter3d": [
           {
            "line": {
             "colorbar": {
              "outlinewidth": 0,
              "ticks": ""
             }
            },
            "marker": {
             "colorbar": {
              "outlinewidth": 0,
              "ticks": ""
             }
            },
            "type": "scatter3d"
           }
          ],
          "scattercarpet": [
           {
            "marker": {
             "colorbar": {
              "outlinewidth": 0,
              "ticks": ""
             }
            },
            "type": "scattercarpet"
           }
          ],
          "scattergeo": [
           {
            "marker": {
             "colorbar": {
              "outlinewidth": 0,
              "ticks": ""
             }
            },
            "type": "scattergeo"
           }
          ],
          "scattergl": [
           {
            "marker": {
             "colorbar": {
              "outlinewidth": 0,
              "ticks": ""
             }
            },
            "type": "scattergl"
           }
          ],
          "scattermapbox": [
           {
            "marker": {
             "colorbar": {
              "outlinewidth": 0,
              "ticks": ""
             }
            },
            "type": "scattermapbox"
           }
          ],
          "scatterpolar": [
           {
            "marker": {
             "colorbar": {
              "outlinewidth": 0,
              "ticks": ""
             }
            },
            "type": "scatterpolar"
           }
          ],
          "scatterpolargl": [
           {
            "marker": {
             "colorbar": {
              "outlinewidth": 0,
              "ticks": ""
             }
            },
            "type": "scatterpolargl"
           }
          ],
          "scatterternary": [
           {
            "marker": {
             "colorbar": {
              "outlinewidth": 0,
              "ticks": ""
             }
            },
            "type": "scatterternary"
           }
          ],
          "surface": [
           {
            "colorbar": {
             "outlinewidth": 0,
             "ticks": ""
            },
            "colorscale": [
             [
              0,
              "#0d0887"
             ],
             [
              0.1111111111111111,
              "#46039f"
             ],
             [
              0.2222222222222222,
              "#7201a8"
             ],
             [
              0.3333333333333333,
              "#9c179e"
             ],
             [
              0.4444444444444444,
              "#bd3786"
             ],
             [
              0.5555555555555556,
              "#d8576b"
             ],
             [
              0.6666666666666666,
              "#ed7953"
             ],
             [
              0.7777777777777778,
              "#fb9f3a"
             ],
             [
              0.8888888888888888,
              "#fdca26"
             ],
             [
              1,
              "#f0f921"
             ]
            ],
            "type": "surface"
           }
          ],
          "table": [
           {
            "cells": {
             "fill": {
              "color": "#EBF0F8"
             },
             "line": {
              "color": "white"
             }
            },
            "header": {
             "fill": {
              "color": "#C8D4E3"
             },
             "line": {
              "color": "white"
             }
            },
            "type": "table"
           }
          ]
         },
         "layout": {
          "annotationdefaults": {
           "arrowcolor": "#2a3f5f",
           "arrowhead": 0,
           "arrowwidth": 1
          },
          "autotypenumbers": "strict",
          "coloraxis": {
           "colorbar": {
            "outlinewidth": 0,
            "ticks": ""
           }
          },
          "colorscale": {
           "diverging": [
            [
             0,
             "#8e0152"
            ],
            [
             0.1,
             "#c51b7d"
            ],
            [
             0.2,
             "#de77ae"
            ],
            [
             0.3,
             "#f1b6da"
            ],
            [
             0.4,
             "#fde0ef"
            ],
            [
             0.5,
             "#f7f7f7"
            ],
            [
             0.6,
             "#e6f5d0"
            ],
            [
             0.7,
             "#b8e186"
            ],
            [
             0.8,
             "#7fbc41"
            ],
            [
             0.9,
             "#4d9221"
            ],
            [
             1,
             "#276419"
            ]
           ],
           "sequential": [
            [
             0,
             "#0d0887"
            ],
            [
             0.1111111111111111,
             "#46039f"
            ],
            [
             0.2222222222222222,
             "#7201a8"
            ],
            [
             0.3333333333333333,
             "#9c179e"
            ],
            [
             0.4444444444444444,
             "#bd3786"
            ],
            [
             0.5555555555555556,
             "#d8576b"
            ],
            [
             0.6666666666666666,
             "#ed7953"
            ],
            [
             0.7777777777777778,
             "#fb9f3a"
            ],
            [
             0.8888888888888888,
             "#fdca26"
            ],
            [
             1,
             "#f0f921"
            ]
           ],
           "sequentialminus": [
            [
             0,
             "#0d0887"
            ],
            [
             0.1111111111111111,
             "#46039f"
            ],
            [
             0.2222222222222222,
             "#7201a8"
            ],
            [
             0.3333333333333333,
             "#9c179e"
            ],
            [
             0.4444444444444444,
             "#bd3786"
            ],
            [
             0.5555555555555556,
             "#d8576b"
            ],
            [
             0.6666666666666666,
             "#ed7953"
            ],
            [
             0.7777777777777778,
             "#fb9f3a"
            ],
            [
             0.8888888888888888,
             "#fdca26"
            ],
            [
             1,
             "#f0f921"
            ]
           ]
          },
          "colorway": [
           "#636efa",
           "#EF553B",
           "#00cc96",
           "#ab63fa",
           "#FFA15A",
           "#19d3f3",
           "#FF6692",
           "#B6E880",
           "#FF97FF",
           "#FECB52"
          ],
          "font": {
           "color": "#2a3f5f"
          },
          "geo": {
           "bgcolor": "white",
           "lakecolor": "white",
           "landcolor": "#E5ECF6",
           "showlakes": true,
           "showland": true,
           "subunitcolor": "white"
          },
          "hoverlabel": {
           "align": "left"
          },
          "hovermode": "closest",
          "mapbox": {
           "style": "light"
          },
          "paper_bgcolor": "white",
          "plot_bgcolor": "#E5ECF6",
          "polar": {
           "angularaxis": {
            "gridcolor": "white",
            "linecolor": "white",
            "ticks": ""
           },
           "bgcolor": "#E5ECF6",
           "radialaxis": {
            "gridcolor": "white",
            "linecolor": "white",
            "ticks": ""
           }
          },
          "scene": {
           "xaxis": {
            "backgroundcolor": "#E5ECF6",
            "gridcolor": "white",
            "gridwidth": 2,
            "linecolor": "white",
            "showbackground": true,
            "ticks": "",
            "zerolinecolor": "white"
           },
           "yaxis": {
            "backgroundcolor": "#E5ECF6",
            "gridcolor": "white",
            "gridwidth": 2,
            "linecolor": "white",
            "showbackground": true,
            "ticks": "",
            "zerolinecolor": "white"
           },
           "zaxis": {
            "backgroundcolor": "#E5ECF6",
            "gridcolor": "white",
            "gridwidth": 2,
            "linecolor": "white",
            "showbackground": true,
            "ticks": "",
            "zerolinecolor": "white"
           }
          },
          "shapedefaults": {
           "line": {
            "color": "#2a3f5f"
           }
          },
          "ternary": {
           "aaxis": {
            "gridcolor": "white",
            "linecolor": "white",
            "ticks": ""
           },
           "baxis": {
            "gridcolor": "white",
            "linecolor": "white",
            "ticks": ""
           },
           "bgcolor": "#E5ECF6",
           "caxis": {
            "gridcolor": "white",
            "linecolor": "white",
            "ticks": ""
           }
          },
          "title": {
           "x": 0.05
          },
          "xaxis": {
           "automargin": true,
           "gridcolor": "white",
           "linecolor": "white",
           "ticks": "",
           "title": {
            "standoff": 15
           },
           "zerolinecolor": "white",
           "zerolinewidth": 2
          },
          "yaxis": {
           "automargin": true,
           "gridcolor": "white",
           "linecolor": "white",
           "ticks": "",
           "title": {
            "standoff": 15
           },
           "zerolinecolor": "white",
           "zerolinewidth": 2
          }
         }
        },
        "xaxis": {
         "anchor": "y",
         "autorange": true,
         "domain": [
          0,
          1
         ],
         "range": [
          -0.047658261858659554,
          0.8657399694163521
         ],
         "title": {
          "text": "Overall Coverage (%)"
         },
         "type": "linear"
        },
        "yaxis": {
         "anchor": "x",
         "autorange": true,
         "domain": [
          0,
          1
         ],
         "range": [
          60.89534857862976,
          86.40791073794105
         ],
         "title": {
          "text": "Consistency (%)"
         },
         "type": "linear"
        }
       }
      },
      "image/png": "[encoded data removed]",
      "text/html": [
       "<div>                            <div id=\"3485f2f8-bc5d-4fcb-984a-d1b42350f1cc\" class=\"plotly-graph-div\" style=\"height:525px; width:100%;\"></div>            <script type=\"text/javascript\">                require([\"plotly\"], function(Plotly) {                    window.PLOTLYENV=window.PLOTLYENV || {};                                    if (document.getElementById(\"3485f2f8-bc5d-4fcb-984a-d1b42350f1cc\")) {                    Plotly.newPlot(                        \"3485f2f8-bc5d-4fcb-984a-d1b42350f1cc\",                        [{\"customdata\":[[\"Critical rule 0\",8.849840255591054],[\"Critical rule 2\",7.969471068512603],[\"Critical rule 1\",7.412140575079872],[\"Critical rule 13\",5.764998225062123],[\"Critical rule 5\",5.296414625488108],[\"Critical rule 35\",4.50479233226837],[\"Critical rule 27\",4.568690095846645],[\"Critical rule 19\",4.0894568690095845],[\"Critical rule 11\",3.69542066027689],[\"Critical rule 17\",3.7451189208377706],[\"Critical rule 8\",3.411430599929002]],\"hovertemplate\":\"Category=High<br>Overall Coverage (%)=%{x}<br>Consistency (%)=%{y}<br>Aggregated Score=%{marker.size}<br>Rule=%{customdata[0]}<br>Relative Coverage (%)=%{customdata[1]}<extra></extra>\",\"legendgroup\":\"High\",\"marker\":{\"color\":\"green\",\"size\":[1.9922990403566887,1.8001825045773887,1.6881389435469385,1.3586559231971949,1.2633366517433433,1.1220476330298315,1.1202468077904149,1.0207291458344656,0.965877783417834,0.9567522739743919,0.8908879964774792],\"sizemode\":\"area\",\"sizeref\":0.004980747600891722,\"symbol\":\"circle\"},\"mode\":\"markers\",\"name\":\"High\",\"orientation\":\"v\",\"showlegend\":true,\"x\":[0.8059526638076442,0.7828985595889782,0.729262480386368,0.5650607993187277,0.5227165262640354,0.408857480939196,0.44461486707426956,0.4048582995951417,0.32628614848254595,0.3615730426947895,0.3276976242510357],\"xaxis\":\"x\",\"y\":[72.76707530647985,67.4579326923077,67.35483870967742,67.61032472939218,67.14671467146715,73.01495972382048,68.0952380952381,66.93782684485764,75.05407354001441,68.6402081977879,68.98779612347452],\"yaxis\":\"y\",\"type\":\"scatter\"},{\"customdata\":[[\"Critical rule 3\",3.4256301029463967],[\"Critical rule 4\",3.0386936457224],[\"Critical rule 14\",2.8434504792332267],[\"Critical rule 26\",2.8541001064962725],[\"Critical rule 18\",2.736954206602769],[\"Critical rule 16\",2.7334043308484204],[\"Critical rule 12\",2.726304579339723],[\"Critical rule 33\",2.499112531061413],[\"Critical rule 24\",2.3997160099396524],[\"Critical rule 10\",2.5559105431309903],[\"Critical rule 7\",2.1938232161874334],[\"Critical rule 34\",2.12637557685481],[\"Critical rule 40\",2.066027689030884],[\"Critical rule 20\",1.8920837770678027],[\"Critical rule 22\",1.9666311679091233],[\"Critical rule 21\",1.8778842740504083],[\"Critical rule 6\",1.7536386226482075],[\"Critical rule 28\",1.5299964501242456],[\"Critical rule 42\",1.430599929002485],[\"Critical rule 15\",1.2673056443024495],[\"Critical rule 29\",0.6673766418175363]],\"hovertemplate\":\"Category=Medium<br>Overall Coverage (%)=%{x}<br>Consistency (%)=%{y}<br>Aggregated Score=%{marker.size}<br>Rule=%{customdata[0]}<br>Relative Coverage (%)=%{customdata[1]}<extra></extra>\",\"legendgroup\":\"Medium\",\"marker\":{\"color\":\"yellow\",\"size\":[0.8862140715584083,0.8032537613365395,0.7864821974189848,0.7822748627345012,0.7814893511141452,0.7463344356975014,0.7397907296958486,0.7169237792090005,0.7109126094668862,0.7070823183066457,0.6504815436495307,0.6448551149585089,0.6429365529183064,0.6013469742079878,0.5989611351408344,0.5809999184187222,0.5510633052682227,0.5207825805104416,0.4760734745814901,0.451337390706505,0.34742221666893863],\"sizemode\":\"area\",\"sizeref\":0.004980747600891722,\"symbol\":\"circle\"},\"mode\":\"markers\",\"name\":\"Medium\",\"orientation\":\"v\",\"showlegend\":true,\"x\":[0.34157713597451816,0.3114656529134036,0.26112301717060277,0.2700623637043711,0.23359923968505272,0.2740615450484254,0.2806484319680442,0.23007055026382836,0.20748693796799242,0.26112301717060277,0.20701644604516253,0.193372180283095,0.17949266855961252,0.16937709221876934,0.1910197206689454,0.18255086605800697,0.17478774933131336,0.14208856069463427,0.1503221693441578,0.12773855704832188,0.06210493381354875],\"xaxis\":\"x\",\"y\":[66.46005509641874,64.6525679758308,72.16216216216216,70.03484320557492,77.64350453172206,66.09442060085837,64.37552388935457,71.98364008179959,76.64399092970523,64.86486486486487,70.22727272727273,72.87104622871047,76.2778505897772,74.02777777777779,68.22660098522168,68.1701030927835,66.48721399730822,71.35761589403974,63.06729264475743,65.74585635359117,71.21212121212122],\"yaxis\":\"y\",\"type\":\"scatter\"},{\"customdata\":[[\"Critical rule 38\",0.5679801206957756],[\"Critical rule 9\",0.3904863329783458],[\"Critical rule 30\",0.44728434504792336],[\"Critical rule 23\",0.5253816116435925],[\"Critical rule 41\",0.2200922967696131],[\"Critical rule 39\",0.25914093006744765],[\"Critical rule 31\",0.13489527866524673],[\"Critical rule 32\",0.1774937877174299],[\"Critical rule 36\",0.33368832090876815],[\"Critical rule 25\",0.2165424210152645],[\"Critical rule 37\",0.03194888178913738]],\"hovertemplate\":\"Category=Low<br>Overall Coverage (%)=%{x}<br>Consistency (%)=%{y}<br>Aggregated Score=%{marker.size}<br>Rule=%{customdata[0]}<br>Relative Coverage (%)=%{customdata[1]}<extra></extra>\",\"legendgroup\":\"Low\",\"marker\":{\"color\":\"red\",\"size\":[0.3371047275011646,0.31567083448129857,0.3032243837193352,0.2992321418366347,0.29545685171099756,0.29526738002945957,0.28036531940770104,0.27750716766249234,0.26690351258455114,0.25620033764087996,0.23140389111551238],\"sizemode\":\"area\",\"sizeref\":0.004980747600891722,\"symbol\":\"circle\"},\"mode\":\"markers\",\"name\":\"Low\",\"orientation\":\"v\",\"showlegend\":true,\"x\":[0.050577881704215844,0.03269918863667908,0.04163853517044746,0.05387132516402525,0.01740820114470685,0.021172136527346168,0.010586068263673084,0.014585249607727361,0.033169680559508995,0.020231152681686338,0.002822951536979489],\"xaxis\":\"x\",\"y\":[74.4186046511628,79.13669064748201,71.1864406779661,64.62882096069869,83.78378378378379,81.11111111111111,84.44444444444444,80.64516129032258,66.66666666666666,70.93023255813954,75.0],\"yaxis\":\"y\",\"type\":\"scatter\"}],                        {\"template\":{\"data\":{\"histogram2dcontour\":[{\"type\":\"histogram2dcontour\",\"colorbar\":{\"outlinewidth\":0,\"ticks\":\"\"},\"colorscale\":[[0.0,\"#0d0887\"],[0.1111111111111111,\"#46039f\"],[0.2222222222222222,\"#7201a8\"],[0.3333333333333333,\"#9c179e\"],[0.4444444444444444,\"#bd3786\"],[0.5555555555555556,\"#d8576b\"],[0.6666666666666666,\"#ed7953\"],[0.7777777777777778,\"#fb9f3a\"],[0.8888888888888888,\"#fdca26\"],[1.0,\"#f0f921\"]]}],\"choropleth\":[{\"type\":\"choropleth\",\"colorbar\":{\"outlinewidth\":0,\"ticks\":\"\"}}],\"histogram2d\":[{\"type\":\"histogram2d\",\"colorbar\":{\"outlinewidth\":0,\"ticks\":\"\"},\"colorscale\":[[0.0,\"#0d0887\"],[0.1111111111111111,\"#46039f\"],[0.2222222222222222,\"#7201a8\"],[0.3333333333333333,\"#9c179e\"],[0.4444444444444444,\"#bd3786\"],[0.5555555555555556,\"#d8576b\"],[0.6666666666666666,\"#ed7953\"],[0.7777777777777778,\"#fb9f3a\"],[0.8888888888888888,\"#fdca26\"],[1.0,\"#f0f921\"]]}],\"heatmap\":[{\"type\":\"heatmap\",\"colorbar\":{\"outlinewidth\":0,\"ticks\":\"\"},\"colorscale\":[[0.0,\"#0d0887\"],[0.1111111111111111,\"#46039f\"],[0.2222222222222222,\"#7201a8\"],[0.3333333333333333,\"#9c179e\"],[0.4444444444444444,\"#bd3786\"],[0.5555555555555556,\"#d8576b\"],[0.6666666666666666,\"#ed7953\"],[0.7777777777777778,\"#fb9f3a\"],[0.8888888888888888,\"#fdca26\"],[1.0,\"#f0f921\"]]}],\"heatmapgl\":[{\"type\":\"heatmapgl\",\"colorbar\":{\"outlinewidth\":0,\"ticks\":\"\"},\"colorscale\":[[0.0,\"#0d0887\"],[0.1111111111111111,\"#46039f\"],[0.2222222222222222,\"#7201a8\"],[0.3333333333333333,\"#9c179e\"],[0.4444444444444444,\"#bd3786\"],[0.5555555555555556,\"#d8576b\"],[0.6666666666666666,\"#ed7953\"],[0.7777777777777778,\"#fb9f3a\"],[0.8888888888888888,\"#fdca26\"],[1.0,\"#f0f921\"]]}],\"contourcarpet\":[{\"type\":\"contourcarpet\",\"colorbar\":{\"outlinewidth\":0,\"ticks\":\"\"}}],\"contour\":[{\"type\":\"contour\",\"colorbar\":{\"outlinewidth\":0,\"ticks\":\"\"},\"colorscale\":[[0.0,\"#0d0887\"],[0.1111111111111111,\"#46039f\"],[0.2222222222222222,\"#7201a8\"],[0.3333333333333333,\"#9c179e\"],[0.4444444444444444,\"#bd3786\"],[0.5555555555555556,\"#d8576b\"],[0.6666666666666666,\"#ed7953\"],[0.7777777777777778,\"#fb9f3a\"],[0.8888888888888888,\"#fdca26\"],[1.0,\"#f0f921\"]]}],\"surface\":[{\"type\":\"surface\",\"colorbar\":{\"outlinewidth\":0,\"ticks\":\"\"},\"colorscale\":[[0.0,\"#0d0887\"],[0.1111111111111111,\"#46039f\"],[0.2222222222222222,\"#7201a8\"],[0.3333333333333333,\"#9c179e\"],[0.4444444444444444,\"#bd3786\"],[0.5555555555555556,\"#d8576b\"],[0.6666666666666666,\"#ed7953\"],[0.7777777777777778,\"#fb9f3a\"],[0.8888888888888888,\"#fdca26\"],[1.0,\"#f0f921\"]]}],\"mesh3d\":[{\"type\":\"mesh3d\",\"colorbar\":{\"outlinewidth\":0,\"ticks\":\"\"}}],\"scatter\":[{\"fillpattern\":{\"fillmode\":\"overlay\",\"size\":10,\"solidity\":0.2},\"type\":\"scatter\"}],\"parcoords\":[{\"type\":\"parcoords\",\"line\":{\"colorbar\":{\"outlinewidth\":0,\"ticks\":\"\"}}}],\"scatterpolargl\":[{\"type\":\"scatterpolargl\",\"marker\":{\"colorbar\":{\"outlinewidth\":0,\"ticks\":\"\"}}}],\"bar\":[{\"error_x\":{\"color\":\"#2a3f5f\"},\"error_y\":{\"color\":\"#2a3f5f\"},\"marker\":{\"line\":{\"color\":\"#E5ECF6\",\"width\":0.5},\"pattern\":{\"fillmode\":\"overlay\",\"size\":10,\"solidity\":0.2}},\"type\":\"bar\"}],\"scattergeo\":[{\"type\":\"scattergeo\",\"marker\":{\"colorbar\":{\"outlinewidth\":0,\"ticks\":\"\"}}}],\"scatterpolar\":[{\"type\":\"scatterpolar\",\"marker\":{\"colorbar\":{\"outlinewidth\":0,\"ticks\":\"\"}}}],\"histogram\":[{\"marker\":{\"pattern\":{\"fillmode\":\"overlay\",\"size\":10,\"solidity\":0.2}},\"type\":\"histogram\"}],\"scattergl\":[{\"type\":\"scattergl\",\"marker\":{\"colorbar\":{\"outlinewidth\":0,\"ticks\":\"\"}}}],\"scatter3d\":[{\"type\":\"scatter3d\",\"line\":{\"colorbar\":{\"outlinewidth\":0,\"ticks\":\"\"}},\"marker\":{\"colorbar\":{\"outlinewidth\":0,\"ticks\":\"\"}}}],\"scattermapbox\":[{\"type\":\"scattermapbox\",\"marker\":{\"colorbar\":{\"outlinewidth\":0,\"ticks\":\"\"}}}],\"scatterternary\":[{\"type\":\"scatterternary\",\"marker\":{\"colorbar\":{\"outlinewidth\":0,\"ticks\":\"\"}}}],\"scattercarpet\":[{\"type\":\"scattercarpet\",\"marker\":{\"colorbar\":{\"outlinewidth\":0,\"ticks\":\"\"}}}],\"carpet\":[{\"aaxis\":{\"endlinecolor\":\"#2a3f5f\",\"gridcolor\":\"white\",\"linecolor\":\"white\",\"minorgridcolor\":\"white\",\"startlinecolor\":\"#2a3f5f\"},\"baxis\":{\"endlinecolor\":\"#2a3f5f\",\"gridcolor\":\"white\",\"linecolor\":\"white\",\"minorgridcolor\":\"white\",\"startlinecolor\":\"#2a3f5f\"},\"type\":\"carpet\"}],\"table\":[{\"cells\":{\"fill\":{\"color\":\"#EBF0F8\"},\"line\":{\"color\":\"white\"}},\"header\":{\"fill\":{\"color\":\"#C8D4E3\"},\"line\":{\"color\":\"white\"}},\"type\":\"table\"}],\"barpolar\":[{\"marker\":{\"line\":{\"color\":\"#E5ECF6\",\"width\":0.5},\"pattern\":{\"fillmode\":\"overlay\",\"size\":10,\"solidity\":0.2}},\"type\":\"barpolar\"}],\"pie\":[{\"automargin\":true,\"type\":\"pie\"}]},\"layout\":{\"autotypenumbers\":\"strict\",\"colorway\":[\"#636efa\",\"#EF553B\",\"#00cc96\",\"#ab63fa\",\"#FFA15A\",\"#19d3f3\",\"#FF6692\",\"#B6E880\",\"#FF97FF\",\"#FECB52\"],\"font\":{\"color\":\"#2a3f5f\"},\"hovermode\":\"closest\",\"hoverlabel\":{\"align\":\"left\"},\"paper_bgcolor\":\"white\",\"plot_bgcolor\":\"#E5ECF6\",\"polar\":{\"bgcolor\":\"#E5ECF6\",\"angularaxis\":{\"gridcolor\":\"white\",\"linecolor\":\"white\",\"ticks\":\"\"},\"radialaxis\":{\"gridcolor\":\"white\",\"linecolor\":\"white\",\"ticks\":\"\"}},\"ternary\":{\"bgcolor\":\"#E5ECF6\",\"aaxis\":{\"gridcolor\":\"white\",\"linecolor\":\"white\",\"ticks\":\"\"},\"baxis\":{\"gridcolor\":\"white\",\"linecolor\":\"white\",\"ticks\":\"\"},\"caxis\":{\"gridcolor\":\"white\",\"linecolor\":\"white\",\"ticks\":\"\"}},\"coloraxis\":{\"colorbar\":{\"outlinewidth\":0,\"ticks\":\"\"}},\"colorscale\":{\"sequential\":[[0.0,\"#0d0887\"],[0.1111111111111111,\"#46039f\"],[0.2222222222222222,\"#7201a8\"],[0.3333333333333333,\"#9c179e\"],[0.4444444444444444,\"#bd3786\"],[0.5555555555555556,\"#d8576b\"],[0.6666666666666666,\"#ed7953\"],[0.7777777777777778,\"#fb9f3a\"],[0.8888888888888888,\"#fdca26\"],[1.0,\"#f0f921\"]],\"sequentialminus\":[[0.0,\"#0d0887\"],[0.1111111111111111,\"#46039f\"],[0.2222222222222222,\"#7201a8\"],[0.3333333333333333,\"#9c179e\"],[0.4444444444444444,\"#bd3786\"],[0.5555555555555556,\"#d8576b\"],[0.6666666666666666,\"#ed7953\"],[0.7777777777777778,\"#fb9f3a\"],[0.8888888888888888,\"#fdca26\"],[1.0,\"#f0f921\"]],\"diverging\":[[0,\"#8e0152\"],[0.1,\"#c51b7d\"],[0.2,\"#de77ae\"],[0.3,\"#f1b6da\"],[0.4,\"#fde0ef\"],[0.5,\"#f7f7f7\"],[0.6,\"#e6f5d0\"],[0.7,\"#b8e186\"],[0.8,\"#7fbc41\"],[0.9,\"#4d9221\"],[1,\"#276419\"]]},\"xaxis\":{\"gridcolor\":\"white\",\"linecolor\":\"white\",\"ticks\":\"\",\"title\":{\"standoff\":15},\"zerolinecolor\":\"white\",\"automargin\":true,\"zerolinewidth\":2},\"yaxis\":{\"gridcolor\":\"white\",\"linecolor\":\"white\",\"ticks\":\"\",\"title\":{\"standoff\":15},\"zerolinecolor\":\"white\",\"automargin\":true,\"zerolinewidth\":2},\"scene\":{\"xaxis\":{\"backgroundcolor\":\"#E5ECF6\",\"gridcolor\":\"white\",\"linecolor\":\"white\",\"showbackground\":true,\"ticks\":\"\",\"zerolinecolor\":\"white\",\"gridwidth\":2},\"yaxis\":{\"backgroundcolor\":\"#E5ECF6\",\"gridcolor\":\"white\",\"linecolor\":\"white\",\"showbackground\":true,\"ticks\":\"\",\"zerolinecolor\":\"white\",\"gridwidth\":2},\"zaxis\":{\"backgroundcolor\":\"#E5ECF6\",\"gridcolor\":\"white\",\"linecolor\":\"white\",\"showbackground\":true,\"ticks\":\"\",\"zerolinecolor\":\"white\",\"gridwidth\":2}},\"shapedefaults\":{\"line\":{\"color\":\"#2a3f5f\"}},\"annotationdefaults\":{\"arrowcolor\":\"#2a3f5f\",\"arrowhead\":0,\"arrowwidth\":1},\"geo\":{\"bgcolor\":\"white\",\"landcolor\":\"#E5ECF6\",\"subunitcolor\":\"white\",\"showland\":true,\"showlakes\":true,\"lakecolor\":\"white\"},\"title\":{\"x\":0.05},\"mapbox\":{\"style\":\"light\"}}},\"xaxis\":{\"anchor\":\"y\",\"domain\":[0.0,1.0],\"title\":{\"text\":\"Overall Coverage (%)\"}},\"yaxis\":{\"anchor\":\"x\",\"domain\":[0.0,1.0],\"title\":{\"text\":\"Consistency (%)\"}},\"legend\":{\"title\":{\"text\":\"Rule Category\"},\"tracegroupgap\":0,\"itemsizing\":\"constant\"},\"margin\":{\"t\":60},\"annotations\":[{\"font\":{\"color\":\"black\",\"size\":12},\"text\":\"Rule 1\",\"x\":0.8059526638076442,\"y\":72.76707530647985},{\"font\":{\"color\":\"black\",\"size\":12},\"text\":\"Rule 2\",\"x\":0.7828985595889782,\"y\":67.4579326923077},{\"font\":{\"color\":\"black\",\"size\":12},\"text\":\"Rule 3\",\"x\":0.729262480386368,\"y\":67.35483870967742},{\"font\":{\"color\":\"black\",\"size\":12},\"text\":\"Rule 4\",\"x\":0.5650607993187277,\"y\":67.61032472939218},{\"font\":{\"color\":\"black\",\"size\":12},\"text\":\"Rule 5\",\"x\":0.5227165262640354,\"y\":67.14671467146715}]},                        {\"responsive\": true}                    ).then(function(){\n",
       "                            \n",
       "var gd = document.getElementById('3485f2f8-bc5d-4fcb-984a-d1b42350f1cc');\n",
       "var x = new MutationObserver(function (mutations, observer) {{\n",
       "        var display = window.getComputedStyle(gd).display;\n",
       "        if (!display || display === 'none') {{\n",
       "            console.log([gd, 'removed!']);\n",
       "            Plotly.purge(gd);\n",
       "            observer.disconnect();\n",
       "        }}\n",
       "}});\n",
       "\n",
       "// Listen for the removal of the full notebook cells\n",
       "var notebookContainer = gd.closest('#notebook-container');\n",
       "if (notebookContainer) {{\n",
       "    x.observe(notebookContainer, {childList: true});\n",
       "}}\n",
       "\n",
       "// Listen for the clearing of the current output cell\n",
       "var outputEl = gd.closest('.output');\n",
       "if (outputEl) {{\n",
       "    x.observe(outputEl, {childList: true});\n",
       "}}\n",
       "\n",
       "                        })                };                });            </script>        </div>"
      ]
     },
     "metadata": {},
     "output_type": "display_data"
    }
   ],
   "source": [
    "import plotly.express as px\n",
    "import pandas as pd\n",
    "\n",
    "# Assuming 'rule_metrics_df_sorted' is the DataFrame from earlier\n",
    "fig = px.scatter(\n",
    "    rule_metrics_df_sorted,\n",
    "    x='Overall Coverage (%)',\n",
    "    y='Consistency (%)',\n",
    "    color='Category',  # Corrected column name\n",
    "    size='Aggregated Score',\n",
    "    hover_data=['Rule', 'Overall Coverage (%)', 'Consistency (%)', 'Relative Coverage (%)'],\n",
    "    color_discrete_map={'High': 'green', 'Medium': 'yellow', 'Low': 'red'},\n",
    "    #title='Scatter Plot of Consistency vs. Coverage'\n",
    ")\n",
    "\n",
    "fig.update_layout(\n",
    "    xaxis_title='Overall Coverage (%)',\n",
    "    yaxis_title='Consistency (%)',\n",
    "    legend_title='Rule Category'\n",
    ")\n",
    "\n",
    "# Update annotations based on the exact rule names in the DataFrame\n",
    "annotations = {\n",
    "    'Critical rule 0': 'Rule 1',\n",
    "    'Critical rule 2': 'Rule 2',\n",
    "    'Critical rule 1': 'Rule 3',\n",
    "    'Critical rule 13': 'Rule 4',\n",
    "    'Critical rule 5': 'Rule 5'\n",
    "}\n",
    "\n",
    "for rule_name, annotation in annotations.items():\n",
    "    # Get the row corresponding to the rule\n",
    "    rule_row = rule_metrics_df_sorted[rule_metrics_df_sorted['Rule'] == rule_name].iloc[0]\n",
    "    \n",
    "    # Add annotation at the specific point\n",
    "    fig.add_annotation(\n",
    "        x=rule_row['Overall Coverage (%)'],\n",
    "        y=rule_row['Consistency (%)'],\n",
    "        text=annotation,\n",
    "        #showarrow=True,\n",
    "        #arrowhead=2,\n",
    "        #ax=0,\n",
    "        #ay=-20,\n",
    "        font=dict(size=12, color=\"black\")\n",
    "    )\n",
    "\n",
    "fig.show()\n",
    "\n"
   ]
  },
  {
   "cell_type": "code",
   "execution_count": null,
   "id": "5ae6f9fb-1f1e-468d-a91f-2dda12892dca",
   "metadata": {},
   "outputs": [],
   "source": []
  },
  {
   "cell_type": "code",
   "execution_count": 118,
   "id": "7ba40611-7154-4d68-a6cd-1e29f8a1edc4",
   "metadata": {
    "tags": []
   },
   "outputs": [
    {
     "data": {
      "application/vnd.plotly.v1+json": {
       "config": {
        "plotlyServerURL": "https://plot.ly"
       },
       "data": [
        {
         "customdata": [
          [
           "Critical rule 0",
           8.849840255591054
          ],
          [
           "Critical rule 2",
           7.969471068512603
          ],
          [
           "Critical rule 1",
           7.412140575079872
          ],
          [
           "Critical rule 13",
           5.764998225062123
          ],
          [
           "Critical rule 5",
           5.296414625488108
          ],
          [
           "Critical rule 35",
           4.50479233226837
          ],
          [
           "Critical rule 27",
           4.568690095846645
          ],
          [
           "Critical rule 19",
           4.0894568690095845
          ],
          [
           "Critical rule 11",
           3.69542066027689
          ],
          [
           "Critical rule 17",
           3.7451189208377706
          ],
          [
           "Critical rule 8",
           3.411430599929002
          ]
         ],
         "hovertemplate": "Category=High<br>Overall Coverage (%)=%{x}<br>Consistency (%)=%{y}<br>Aggregated Score=%{marker.size}<br>Rule=%{customdata[0]}<br>Relative Coverage (%)=%{customdata[1]}<extra></extra>",
         "legendgroup": "High",
         "marker": {
          "color": "green",
          "size": [
           1.9922990403566887,
           1.8001825045773887,
           1.6881389435469385,
           1.3586559231971949,
           1.2633366517433433,
           1.1220476330298315,
           1.1202468077904149,
           1.0207291458344656,
           0.965877783417834,
           0.9567522739743919,
           0.8908879964774792
          ],
          "sizemode": "area",
          "sizeref": 0.004980747600891722,
          "symbol": "circle"
         },
         "mode": "markers",
         "name": "High",
         "orientation": "v",
         "showlegend": true,
         "type": "scatter",
         "x": [
          0.8059526638076442,
          0.7828985595889782,
          0.729262480386368,
          0.5650607993187277,
          0.5227165262640354,
          0.408857480939196,
          0.44461486707426956,
          0.4048582995951417,
          0.32628614848254595,
          0.3615730426947895,
          0.3276976242510357
         ],
         "xaxis": "x",
         "y": [
          72.76707530647985,
          67.4579326923077,
          67.35483870967742,
          67.61032472939218,
          67.14671467146715,
          73.01495972382048,
          68.0952380952381,
          66.93782684485764,
          75.05407354001441,
          68.6402081977879,
          68.98779612347452
         ],
         "yaxis": "y"
        },
        {
         "customdata": [
          [
           "Critical rule 3",
           3.4256301029463967
          ],
          [
           "Critical rule 4",
           3.0386936457224
          ],
          [
           "Critical rule 14",
           2.8434504792332267
          ],
          [
           "Critical rule 26",
           2.8541001064962725
          ],
          [
           "Critical rule 18",
           2.736954206602769
          ],
          [
           "Critical rule 16",
           2.7334043308484204
          ],
          [
           "Critical rule 12",
           2.726304579339723
          ],
          [
           "Critical rule 33",
           2.499112531061413
          ],
          [
           "Critical rule 24",
           2.3997160099396524
          ],
          [
           "Critical rule 10",
           2.5559105431309903
          ],
          [
           "Critical rule 7",
           2.1938232161874334
          ],
          [
           "Critical rule 34",
           2.12637557685481
          ],
          [
           "Critical rule 40",
           2.066027689030884
          ],
          [
           "Critical rule 20",
           1.8920837770678027
          ],
          [
           "Critical rule 22",
           1.9666311679091233
          ],
          [
           "Critical rule 21",
           1.8778842740504083
          ],
          [
           "Critical rule 6",
           1.7536386226482075
          ],
          [
           "Critical rule 28",
           1.5299964501242456
          ],
          [
           "Critical rule 42",
           1.430599929002485
          ],
          [
           "Critical rule 15",
           1.2673056443024495
          ],
          [
           "Critical rule 29",
           0.6673766418175363
          ]
         ],
         "hovertemplate": "Category=Medium<br>Overall Coverage (%)=%{x}<br>Consistency (%)=%{y}<br>Aggregated Score=%{marker.size}<br>Rule=%{customdata[0]}<br>Relative Coverage (%)=%{customdata[1]}<extra></extra>",
         "legendgroup": "Medium",
         "marker": {
          "color": "yellow",
          "size": [
           0.8862140715584083,
           0.8032537613365395,
           0.7864821974189848,
           0.7822748627345012,
           0.7814893511141452,
           0.7463344356975014,
           0.7397907296958486,
           0.7169237792090005,
           0.7109126094668862,
           0.7070823183066457,
           0.6504815436495307,
           0.6448551149585089,
           0.6429365529183064,
           0.6013469742079878,
           0.5989611351408344,
           0.5809999184187222,
           0.5510633052682227,
           0.5207825805104416,
           0.4760734745814901,
           0.451337390706505,
           0.34742221666893863
          ],
          "sizemode": "area",
          "sizeref": 0.004980747600891722,
          "symbol": "circle"
         },
         "mode": "markers",
         "name": "Medium",
         "orientation": "v",
         "showlegend": true,
         "type": "scatter",
         "x": [
          0.34157713597451816,
          0.3114656529134036,
          0.26112301717060277,
          0.2700623637043711,
          0.23359923968505272,
          0.2740615450484254,
          0.2806484319680442,
          0.23007055026382836,
          0.20748693796799242,
          0.26112301717060277,
          0.20701644604516253,
          0.193372180283095,
          0.17949266855961252,
          0.16937709221876934,
          0.1910197206689454,
          0.18255086605800697,
          0.17478774933131336,
          0.14208856069463427,
          0.1503221693441578,
          0.12773855704832188,
          0.06210493381354875
         ],
         "xaxis": "x",
         "y": [
          66.46005509641874,
          64.6525679758308,
          72.16216216216216,
          70.03484320557492,
          77.64350453172206,
          66.09442060085837,
          64.37552388935457,
          71.98364008179959,
          76.64399092970523,
          64.86486486486487,
          70.22727272727273,
          72.87104622871047,
          76.2778505897772,
          74.02777777777779,
          68.22660098522168,
          68.1701030927835,
          66.48721399730822,
          71.35761589403974,
          63.06729264475743,
          65.74585635359117,
          71.21212121212122
         ],
         "yaxis": "y"
        },
        {
         "customdata": [
          [
           "Critical rule 38",
           0.5679801206957756
          ],
          [
           "Critical rule 9",
           0.3904863329783458
          ],
          [
           "Critical rule 30",
           0.44728434504792336
          ],
          [
           "Critical rule 23",
           0.5253816116435925
          ],
          [
           "Critical rule 41",
           0.2200922967696131
          ],
          [
           "Critical rule 39",
           0.25914093006744765
          ],
          [
           "Critical rule 31",
           0.13489527866524673
          ],
          [
           "Critical rule 32",
           0.1774937877174299
          ],
          [
           "Critical rule 36",
           0.33368832090876815
          ],
          [
           "Critical rule 25",
           0.2165424210152645
          ],
          [
           "Critical rule 37",
           0.03194888178913738
          ]
         ],
         "hovertemplate": "Category=Low<br>Overall Coverage (%)=%{x}<br>Consistency (%)=%{y}<br>Aggregated Score=%{marker.size}<br>Rule=%{customdata[0]}<br>Relative Coverage (%)=%{customdata[1]}<extra></extra>",
         "legendgroup": "Low",
         "marker": {
          "color": "red",
          "size": [
           0.3371047275011646,
           0.31567083448129857,
           0.3032243837193352,
           0.2992321418366347,
           0.29545685171099756,
           0.29526738002945957,
           0.28036531940770104,
           0.27750716766249234,
           0.26690351258455114,
           0.25620033764087996,
           0.23140389111551238
          ],
          "sizemode": "area",
          "sizeref": 0.004980747600891722,
          "symbol": "circle"
         },
         "mode": "markers",
         "name": "Low",
         "orientation": "v",
         "showlegend": true,
         "type": "scatter",
         "x": [
          0.050577881704215844,
          0.03269918863667908,
          0.04163853517044746,
          0.05387132516402525,
          0.01740820114470685,
          0.021172136527346168,
          0.010586068263673084,
          0.014585249607727361,
          0.033169680559508995,
          0.020231152681686338,
          0.002822951536979489
         ],
         "xaxis": "x",
         "y": [
          74.4186046511628,
          79.13669064748201,
          71.1864406779661,
          64.62882096069869,
          83.78378378378379,
          81.11111111111111,
          84.44444444444444,
          80.64516129032258,
          66.66666666666666,
          70.93023255813954,
          75
         ],
         "yaxis": "y"
        }
       ],
       "layout": {
        "annotations": [
         {
          "ax": 30,
          "ay": -25,
          "font": {
           "color": "black",
           "size": 24
          },
          "text": "Rule 1",
          "x": 0.8059526638076442,
          "y": 72.76707530647985
         },
         {
          "ax": 20,
          "ay": 25,
          "font": {
           "color": "black",
           "size": 24
          },
          "text": "Rule 2",
          "x": 0.7828985595889782,
          "y": 67.4579326923077
         },
         {
          "ax": -30,
          "ay": -20,
          "font": {
           "color": "black",
           "size": 24
          },
          "text": "Rule 3",
          "x": 0.729262480386368,
          "y": 67.35483870967742
         },
         {
          "ax": 30,
          "ay": -30,
          "font": {
           "color": "black",
           "size": 24
          },
          "text": "Rule 4",
          "x": 0.5650607993187277,
          "y": 67.61032472939218
         },
         {
          "ax": -30,
          "ay": -30,
          "font": {
           "color": "black",
           "size": 24
          },
          "text": "Rule 5",
          "x": 0.5227165262640354,
          "y": 67.14671467146715
         }
        ],
        "autosize": true,
        "legend": {
         "font": {
          "color": "black",
          "size": 19
         },
         "itemsizing": "constant",
         "title": {
          "text": "Rule Category"
         },
         "tracegroupgap": 0
        },
        "margin": {
         "t": 60
        },
        "template": {
         "data": {
          "bar": [
           {
            "error_x": {
             "color": "#2a3f5f"
            },
            "error_y": {
             "color": "#2a3f5f"
            },
            "marker": {
             "line": {
              "color": "#E5ECF6",
              "width": 0.5
             },
             "pattern": {
              "fillmode": "overlay",
              "size": 10,
              "solidity": 0.2
             }
            },
            "type": "bar"
           }
          ],
          "barpolar": [
           {
            "marker": {
             "line": {
              "color": "#E5ECF6",
              "width": 0.5
             },
             "pattern": {
              "fillmode": "overlay",
              "size": 10,
              "solidity": 0.2
             }
            },
            "type": "barpolar"
           }
          ],
          "carpet": [
           {
            "aaxis": {
             "endlinecolor": "#2a3f5f",
             "gridcolor": "white",
             "linecolor": "white",
             "minorgridcolor": "white",
             "startlinecolor": "#2a3f5f"
            },
            "baxis": {
             "endlinecolor": "#2a3f5f",
             "gridcolor": "white",
             "linecolor": "white",
             "minorgridcolor": "white",
             "startlinecolor": "#2a3f5f"
            },
            "type": "carpet"
           }
          ],
          "choropleth": [
           {
            "colorbar": {
             "outlinewidth": 0,
             "ticks": ""
            },
            "type": "choropleth"
           }
          ],
          "contour": [
           {
            "colorbar": {
             "outlinewidth": 0,
             "ticks": ""
            },
            "colorscale": [
             [
              0,
              "#0d0887"
             ],
             [
              0.1111111111111111,
              "#46039f"
             ],
             [
              0.2222222222222222,
              "#7201a8"
             ],
             [
              0.3333333333333333,
              "#9c179e"
             ],
             [
              0.4444444444444444,
              "#bd3786"
             ],
             [
              0.5555555555555556,
              "#d8576b"
             ],
             [
              0.6666666666666666,
              "#ed7953"
             ],
             [
              0.7777777777777778,
              "#fb9f3a"
             ],
             [
              0.8888888888888888,
              "#fdca26"
             ],
             [
              1,
              "#f0f921"
             ]
            ],
            "type": "contour"
           }
          ],
          "contourcarpet": [
           {
            "colorbar": {
             "outlinewidth": 0,
             "ticks": ""
            },
            "type": "contourcarpet"
           }
          ],
          "heatmap": [
           {
            "colorbar": {
             "outlinewidth": 0,
             "ticks": ""
            },
            "colorscale": [
             [
              0,
              "#0d0887"
             ],
             [
              0.1111111111111111,
              "#46039f"
             ],
             [
              0.2222222222222222,
              "#7201a8"
             ],
             [
              0.3333333333333333,
              "#9c179e"
             ],
             [
              0.4444444444444444,
              "#bd3786"
             ],
             [
              0.5555555555555556,
              "#d8576b"
             ],
             [
              0.6666666666666666,
              "#ed7953"
             ],
             [
              0.7777777777777778,
              "#fb9f3a"
             ],
             [
              0.8888888888888888,
              "#fdca26"
             ],
             [
              1,
              "#f0f921"
             ]
            ],
            "type": "heatmap"
           }
          ],
          "heatmapgl": [
           {
            "colorbar": {
             "outlinewidth": 0,
             "ticks": ""
            },
            "colorscale": [
             [
              0,
              "#0d0887"
             ],
             [
              0.1111111111111111,
              "#46039f"
             ],
             [
              0.2222222222222222,
              "#7201a8"
             ],
             [
              0.3333333333333333,
              "#9c179e"
             ],
             [
              0.4444444444444444,
              "#bd3786"
             ],
             [
              0.5555555555555556,
              "#d8576b"
             ],
             [
              0.6666666666666666,
              "#ed7953"
             ],
             [
              0.7777777777777778,
              "#fb9f3a"
             ],
             [
              0.8888888888888888,
              "#fdca26"
             ],
             [
              1,
              "#f0f921"
             ]
            ],
            "type": "heatmapgl"
           }
          ],
          "histogram": [
           {
            "marker": {
             "pattern": {
              "fillmode": "overlay",
              "size": 10,
              "solidity": 0.2
             }
            },
            "type": "histogram"
           }
          ],
          "histogram2d": [
           {
            "colorbar": {
             "outlinewidth": 0,
             "ticks": ""
            },
            "colorscale": [
             [
              0,
              "#0d0887"
             ],
             [
              0.1111111111111111,
              "#46039f"
             ],
             [
              0.2222222222222222,
              "#7201a8"
             ],
             [
              0.3333333333333333,
              "#9c179e"
             ],
             [
              0.4444444444444444,
              "#bd3786"
             ],
             [
              0.5555555555555556,
              "#d8576b"
             ],
             [
              0.6666666666666666,
              "#ed7953"
             ],
             [
              0.7777777777777778,
              "#fb9f3a"
             ],
             [
              0.8888888888888888,
              "#fdca26"
             ],
             [
              1,
              "#f0f921"
             ]
            ],
            "type": "histogram2d"
           }
          ],
          "histogram2dcontour": [
           {
            "colorbar": {
             "outlinewidth": 0,
             "ticks": ""
            },
            "colorscale": [
             [
              0,
              "#0d0887"
             ],
             [
              0.1111111111111111,
              "#46039f"
             ],
             [
              0.2222222222222222,
              "#7201a8"
             ],
             [
              0.3333333333333333,
              "#9c179e"
             ],
             [
              0.4444444444444444,
              "#bd3786"
             ],
             [
              0.5555555555555556,
              "#d8576b"
             ],
             [
              0.6666666666666666,
              "#ed7953"
             ],
             [
              0.7777777777777778,
              "#fb9f3a"
             ],
             [
              0.8888888888888888,
              "#fdca26"
             ],
             [
              1,
              "#f0f921"
             ]
            ],
            "type": "histogram2dcontour"
           }
          ],
          "mesh3d": [
           {
            "colorbar": {
             "outlinewidth": 0,
             "ticks": ""
            },
            "type": "mesh3d"
           }
          ],
          "parcoords": [
           {
            "line": {
             "colorbar": {
              "outlinewidth": 0,
              "ticks": ""
             }
            },
            "type": "parcoords"
           }
          ],
          "pie": [
           {
            "automargin": true,
            "type": "pie"
           }
          ],
          "scatter": [
           {
            "fillpattern": {
             "fillmode": "overlay",
             "size": 10,
             "solidity": 0.2
            },
            "type": "scatter"
           }
          ],
          "scatter3d": [
           {
            "line": {
             "colorbar": {
              "outlinewidth": 0,
              "ticks": ""
             }
            },
            "marker": {
             "colorbar": {
              "outlinewidth": 0,
              "ticks": ""
             }
            },
            "type": "scatter3d"
           }
          ],
          "scattercarpet": [
           {
            "marker": {
             "colorbar": {
              "outlinewidth": 0,
              "ticks": ""
             }
            },
            "type": "scattercarpet"
           }
          ],
          "scattergeo": [
           {
            "marker": {
             "colorbar": {
              "outlinewidth": 0,
              "ticks": ""
             }
            },
            "type": "scattergeo"
           }
          ],
          "scattergl": [
           {
            "marker": {
             "colorbar": {
              "outlinewidth": 0,
              "ticks": ""
             }
            },
            "type": "scattergl"
           }
          ],
          "scattermapbox": [
           {
            "marker": {
             "colorbar": {
              "outlinewidth": 0,
              "ticks": ""
             }
            },
            "type": "scattermapbox"
           }
          ],
          "scatterpolar": [
           {
            "marker": {
             "colorbar": {
              "outlinewidth": 0,
              "ticks": ""
             }
            },
            "type": "scatterpolar"
           }
          ],
          "scatterpolargl": [
           {
            "marker": {
             "colorbar": {
              "outlinewidth": 0,
              "ticks": ""
             }
            },
            "type": "scatterpolargl"
           }
          ],
          "scatterternary": [
           {
            "marker": {
             "colorbar": {
              "outlinewidth": 0,
              "ticks": ""
             }
            },
            "type": "scatterternary"
           }
          ],
          "surface": [
           {
            "colorbar": {
             "outlinewidth": 0,
             "ticks": ""
            },
            "colorscale": [
             [
              0,
              "#0d0887"
             ],
             [
              0.1111111111111111,
              "#46039f"
             ],
             [
              0.2222222222222222,
              "#7201a8"
             ],
             [
              0.3333333333333333,
              "#9c179e"
             ],
             [
              0.4444444444444444,
              "#bd3786"
             ],
             [
              0.5555555555555556,
              "#d8576b"
             ],
             [
              0.6666666666666666,
              "#ed7953"
             ],
             [
              0.7777777777777778,
              "#fb9f3a"
             ],
             [
              0.8888888888888888,
              "#fdca26"
             ],
             [
              1,
              "#f0f921"
             ]
            ],
            "type": "surface"
           }
          ],
          "table": [
           {
            "cells": {
             "fill": {
              "color": "#EBF0F8"
             },
             "line": {
              "color": "white"
             }
            },
            "header": {
             "fill": {
              "color": "#C8D4E3"
             },
             "line": {
              "color": "white"
             }
            },
            "type": "table"
           }
          ]
         },
         "layout": {
          "annotationdefaults": {
           "arrowcolor": "#2a3f5f",
           "arrowhead": 0,
           "arrowwidth": 1
          },
          "autotypenumbers": "strict",
          "coloraxis": {
           "colorbar": {
            "outlinewidth": 0,
            "ticks": ""
           }
          },
          "colorscale": {
           "diverging": [
            [
             0,
             "#8e0152"
            ],
            [
             0.1,
             "#c51b7d"
            ],
            [
             0.2,
             "#de77ae"
            ],
            [
             0.3,
             "#f1b6da"
            ],
            [
             0.4,
             "#fde0ef"
            ],
            [
             0.5,
             "#f7f7f7"
            ],
            [
             0.6,
             "#e6f5d0"
            ],
            [
             0.7,
             "#b8e186"
            ],
            [
             0.8,
             "#7fbc41"
            ],
            [
             0.9,
             "#4d9221"
            ],
            [
             1,
             "#276419"
            ]
           ],
           "sequential": [
            [
             0,
             "#0d0887"
            ],
            [
             0.1111111111111111,
             "#46039f"
            ],
            [
             0.2222222222222222,
             "#7201a8"
            ],
            [
             0.3333333333333333,
             "#9c179e"
            ],
            [
             0.4444444444444444,
             "#bd3786"
            ],
            [
             0.5555555555555556,
             "#d8576b"
            ],
            [
             0.6666666666666666,
             "#ed7953"
            ],
            [
             0.7777777777777778,
             "#fb9f3a"
            ],
            [
             0.8888888888888888,
             "#fdca26"
            ],
            [
             1,
             "#f0f921"
            ]
           ],
           "sequentialminus": [
            [
             0,
             "#0d0887"
            ],
            [
             0.1111111111111111,
             "#46039f"
            ],
            [
             0.2222222222222222,
             "#7201a8"
            ],
            [
             0.3333333333333333,
             "#9c179e"
            ],
            [
             0.4444444444444444,
             "#bd3786"
            ],
            [
             0.5555555555555556,
             "#d8576b"
            ],
            [
             0.6666666666666666,
             "#ed7953"
            ],
            [
             0.7777777777777778,
             "#fb9f3a"
            ],
            [
             0.8888888888888888,
             "#fdca26"
            ],
            [
             1,
             "#f0f921"
            ]
           ]
          },
          "colorway": [
           "#636efa",
           "#EF553B",
           "#00cc96",
           "#ab63fa",
           "#FFA15A",
           "#19d3f3",
           "#FF6692",
           "#B6E880",
           "#FF97FF",
           "#FECB52"
          ],
          "font": {
           "color": "#2a3f5f"
          },
          "geo": {
           "bgcolor": "white",
           "lakecolor": "white",
           "landcolor": "#E5ECF6",
           "showlakes": true,
           "showland": true,
           "subunitcolor": "white"
          },
          "hoverlabel": {
           "align": "left"
          },
          "hovermode": "closest",
          "mapbox": {
           "style": "light"
          },
          "paper_bgcolor": "white",
          "plot_bgcolor": "#E5ECF6",
          "polar": {
           "angularaxis": {
            "gridcolor": "white",
            "linecolor": "white",
            "ticks": ""
           },
           "bgcolor": "#E5ECF6",
           "radialaxis": {
            "gridcolor": "white",
            "linecolor": "white",
            "ticks": ""
           }
          },
          "scene": {
           "xaxis": {
            "backgroundcolor": "#E5ECF6",
            "gridcolor": "white",
            "gridwidth": 2,
            "linecolor": "white",
            "showbackground": true,
            "ticks": "",
            "zerolinecolor": "white"
           },
           "yaxis": {
            "backgroundcolor": "#E5ECF6",
            "gridcolor": "white",
            "gridwidth": 2,
            "linecolor": "white",
            "showbackground": true,
            "ticks": "",
            "zerolinecolor": "white"
           },
           "zaxis": {
            "backgroundcolor": "#E5ECF6",
            "gridcolor": "white",
            "gridwidth": 2,
            "linecolor": "white",
            "showbackground": true,
            "ticks": "",
            "zerolinecolor": "white"
           }
          },
          "shapedefaults": {
           "line": {
            "color": "#2a3f5f"
           }
          },
          "ternary": {
           "aaxis": {
            "gridcolor": "white",
            "linecolor": "white",
            "ticks": ""
           },
           "baxis": {
            "gridcolor": "white",
            "linecolor": "white",
            "ticks": ""
           },
           "bgcolor": "#E5ECF6",
           "caxis": {
            "gridcolor": "white",
            "linecolor": "white",
            "ticks": ""
           }
          },
          "title": {
           "x": 0.05
          },
          "xaxis": {
           "automargin": true,
           "gridcolor": "white",
           "linecolor": "white",
           "ticks": "",
           "title": {
            "standoff": 15
           },
           "zerolinecolor": "white",
           "zerolinewidth": 2
          },
          "yaxis": {
           "automargin": true,
           "gridcolor": "white",
           "linecolor": "white",
           "ticks": "",
           "title": {
            "standoff": 15
           },
           "zerolinecolor": "white",
           "zerolinewidth": 2
          }
         }
        },
        "xaxis": {
         "anchor": "y",
         "autorange": true,
         "domain": [
          0,
          1
         ],
         "range": [
          -0.04818657273290831,
          0.8696093143618344
         ],
         "title": {
          "font": {
           "color": "black",
           "size": 22
          },
          "text": "Overall Coverage (%)"
         },
         "type": "linear"
        },
        "yaxis": {
         "anchor": "x",
         "autorange": true,
         "domain": [
          0,
          1
         ],
         "range": [
          60.89534857862976,
          86.40791073794105
         ],
         "title": {
          "font": {
           "color": "black",
           "size": 22
          },
          "text": "Consistency (%)"
         },
         "type": "linear"
        }
       }
      },
      "image/png": "[encoded data removed]",
      "text/html": [
       "<div>                            <div id=\"52e235b1-2fb9-497c-85ed-cc6ea37ab0a4\" class=\"plotly-graph-div\" style=\"height:525px; width:100%;\"></div>            <script type=\"text/javascript\">                require([\"plotly\"], function(Plotly) {                    window.PLOTLYENV=window.PLOTLYENV || {};                                    if (document.getElementById(\"52e235b1-2fb9-497c-85ed-cc6ea37ab0a4\")) {                    Plotly.newPlot(                        \"52e235b1-2fb9-497c-85ed-cc6ea37ab0a4\",                        [{\"customdata\":[[\"Critical rule 0\",8.849840255591054],[\"Critical rule 2\",7.969471068512603],[\"Critical rule 1\",7.412140575079872],[\"Critical rule 13\",5.764998225062123],[\"Critical rule 5\",5.296414625488108],[\"Critical rule 35\",4.50479233226837],[\"Critical rule 27\",4.568690095846645],[\"Critical rule 19\",4.0894568690095845],[\"Critical rule 11\",3.69542066027689],[\"Critical rule 17\",3.7451189208377706],[\"Critical rule 8\",3.411430599929002]],\"hovertemplate\":\"Category=High<br>Overall Coverage (%)=%{x}<br>Consistency (%)=%{y}<br>Aggregated Score=%{marker.size}<br>Rule=%{customdata[0]}<br>Relative Coverage (%)=%{customdata[1]}<extra></extra>\",\"legendgroup\":\"High\",\"marker\":{\"color\":\"green\",\"size\":[1.9922990403566887,1.8001825045773887,1.6881389435469385,1.3586559231971949,1.2633366517433433,1.1220476330298315,1.1202468077904149,1.0207291458344656,0.965877783417834,0.9567522739743919,0.8908879964774792],\"sizemode\":\"area\",\"sizeref\":0.004980747600891722,\"symbol\":\"circle\"},\"mode\":\"markers\",\"name\":\"High\",\"orientation\":\"v\",\"showlegend\":true,\"x\":[0.8059526638076442,0.7828985595889782,0.729262480386368,0.5650607993187277,0.5227165262640354,0.408857480939196,0.44461486707426956,0.4048582995951417,0.32628614848254595,0.3615730426947895,0.3276976242510357],\"xaxis\":\"x\",\"y\":[72.76707530647985,67.4579326923077,67.35483870967742,67.61032472939218,67.14671467146715,73.01495972382048,68.0952380952381,66.93782684485764,75.05407354001441,68.6402081977879,68.98779612347452],\"yaxis\":\"y\",\"type\":\"scatter\"},{\"customdata\":[[\"Critical rule 3\",3.4256301029463967],[\"Critical rule 4\",3.0386936457224],[\"Critical rule 14\",2.8434504792332267],[\"Critical rule 26\",2.8541001064962725],[\"Critical rule 18\",2.736954206602769],[\"Critical rule 16\",2.7334043308484204],[\"Critical rule 12\",2.726304579339723],[\"Critical rule 33\",2.499112531061413],[\"Critical rule 24\",2.3997160099396524],[\"Critical rule 10\",2.5559105431309903],[\"Critical rule 7\",2.1938232161874334],[\"Critical rule 34\",2.12637557685481],[\"Critical rule 40\",2.066027689030884],[\"Critical rule 20\",1.8920837770678027],[\"Critical rule 22\",1.9666311679091233],[\"Critical rule 21\",1.8778842740504083],[\"Critical rule 6\",1.7536386226482075],[\"Critical rule 28\",1.5299964501242456],[\"Critical rule 42\",1.430599929002485],[\"Critical rule 15\",1.2673056443024495],[\"Critical rule 29\",0.6673766418175363]],\"hovertemplate\":\"Category=Medium<br>Overall Coverage (%)=%{x}<br>Consistency (%)=%{y}<br>Aggregated Score=%{marker.size}<br>Rule=%{customdata[0]}<br>Relative Coverage (%)=%{customdata[1]}<extra></extra>\",\"legendgroup\":\"Medium\",\"marker\":{\"color\":\"yellow\",\"size\":[0.8862140715584083,0.8032537613365395,0.7864821974189848,0.7822748627345012,0.7814893511141452,0.7463344356975014,0.7397907296958486,0.7169237792090005,0.7109126094668862,0.7070823183066457,0.6504815436495307,0.6448551149585089,0.6429365529183064,0.6013469742079878,0.5989611351408344,0.5809999184187222,0.5510633052682227,0.5207825805104416,0.4760734745814901,0.451337390706505,0.34742221666893863],\"sizemode\":\"area\",\"sizeref\":0.004980747600891722,\"symbol\":\"circle\"},\"mode\":\"markers\",\"name\":\"Medium\",\"orientation\":\"v\",\"showlegend\":true,\"x\":[0.34157713597451816,0.3114656529134036,0.26112301717060277,0.2700623637043711,0.23359923968505272,0.2740615450484254,0.2806484319680442,0.23007055026382836,0.20748693796799242,0.26112301717060277,0.20701644604516253,0.193372180283095,0.17949266855961252,0.16937709221876934,0.1910197206689454,0.18255086605800697,0.17478774933131336,0.14208856069463427,0.1503221693441578,0.12773855704832188,0.06210493381354875],\"xaxis\":\"x\",\"y\":[66.46005509641874,64.6525679758308,72.16216216216216,70.03484320557492,77.64350453172206,66.09442060085837,64.37552388935457,71.98364008179959,76.64399092970523,64.86486486486487,70.22727272727273,72.87104622871047,76.2778505897772,74.02777777777779,68.22660098522168,68.1701030927835,66.48721399730822,71.35761589403974,63.06729264475743,65.74585635359117,71.21212121212122],\"yaxis\":\"y\",\"type\":\"scatter\"},{\"customdata\":[[\"Critical rule 38\",0.5679801206957756],[\"Critical rule 9\",0.3904863329783458],[\"Critical rule 30\",0.44728434504792336],[\"Critical rule 23\",0.5253816116435925],[\"Critical rule 41\",0.2200922967696131],[\"Critical rule 39\",0.25914093006744765],[\"Critical rule 31\",0.13489527866524673],[\"Critical rule 32\",0.1774937877174299],[\"Critical rule 36\",0.33368832090876815],[\"Critical rule 25\",0.2165424210152645],[\"Critical rule 37\",0.03194888178913738]],\"hovertemplate\":\"Category=Low<br>Overall Coverage (%)=%{x}<br>Consistency (%)=%{y}<br>Aggregated Score=%{marker.size}<br>Rule=%{customdata[0]}<br>Relative Coverage (%)=%{customdata[1]}<extra></extra>\",\"legendgroup\":\"Low\",\"marker\":{\"color\":\"red\",\"size\":[0.3371047275011646,0.31567083448129857,0.3032243837193352,0.2992321418366347,0.29545685171099756,0.29526738002945957,0.28036531940770104,0.27750716766249234,0.26690351258455114,0.25620033764087996,0.23140389111551238],\"sizemode\":\"area\",\"sizeref\":0.004980747600891722,\"symbol\":\"circle\"},\"mode\":\"markers\",\"name\":\"Low\",\"orientation\":\"v\",\"showlegend\":true,\"x\":[0.050577881704215844,0.03269918863667908,0.04163853517044746,0.05387132516402525,0.01740820114470685,0.021172136527346168,0.010586068263673084,0.014585249607727361,0.033169680559508995,0.020231152681686338,0.002822951536979489],\"xaxis\":\"x\",\"y\":[74.4186046511628,79.13669064748201,71.1864406779661,64.62882096069869,83.78378378378379,81.11111111111111,84.44444444444444,80.64516129032258,66.66666666666666,70.93023255813954,75.0],\"yaxis\":\"y\",\"type\":\"scatter\"}],                        {\"template\":{\"data\":{\"histogram2dcontour\":[{\"type\":\"histogram2dcontour\",\"colorbar\":{\"outlinewidth\":0,\"ticks\":\"\"},\"colorscale\":[[0.0,\"#0d0887\"],[0.1111111111111111,\"#46039f\"],[0.2222222222222222,\"#7201a8\"],[0.3333333333333333,\"#9c179e\"],[0.4444444444444444,\"#bd3786\"],[0.5555555555555556,\"#d8576b\"],[0.6666666666666666,\"#ed7953\"],[0.7777777777777778,\"#fb9f3a\"],[0.8888888888888888,\"#fdca26\"],[1.0,\"#f0f921\"]]}],\"choropleth\":[{\"type\":\"choropleth\",\"colorbar\":{\"outlinewidth\":0,\"ticks\":\"\"}}],\"histogram2d\":[{\"type\":\"histogram2d\",\"colorbar\":{\"outlinewidth\":0,\"ticks\":\"\"},\"colorscale\":[[0.0,\"#0d0887\"],[0.1111111111111111,\"#46039f\"],[0.2222222222222222,\"#7201a8\"],[0.3333333333333333,\"#9c179e\"],[0.4444444444444444,\"#bd3786\"],[0.5555555555555556,\"#d8576b\"],[0.6666666666666666,\"#ed7953\"],[0.7777777777777778,\"#fb9f3a\"],[0.8888888888888888,\"#fdca26\"],[1.0,\"#f0f921\"]]}],\"heatmap\":[{\"type\":\"heatmap\",\"colorbar\":{\"outlinewidth\":0,\"ticks\":\"\"},\"colorscale\":[[0.0,\"#0d0887\"],[0.1111111111111111,\"#46039f\"],[0.2222222222222222,\"#7201a8\"],[0.3333333333333333,\"#9c179e\"],[0.4444444444444444,\"#bd3786\"],[0.5555555555555556,\"#d8576b\"],[0.6666666666666666,\"#ed7953\"],[0.7777777777777778,\"#fb9f3a\"],[0.8888888888888888,\"#fdca26\"],[1.0,\"#f0f921\"]]}],\"heatmapgl\":[{\"type\":\"heatmapgl\",\"colorbar\":{\"outlinewidth\":0,\"ticks\":\"\"},\"colorscale\":[[0.0,\"#0d0887\"],[0.1111111111111111,\"#46039f\"],[0.2222222222222222,\"#7201a8\"],[0.3333333333333333,\"#9c179e\"],[0.4444444444444444,\"#bd3786\"],[0.5555555555555556,\"#d8576b\"],[0.6666666666666666,\"#ed7953\"],[0.7777777777777778,\"#fb9f3a\"],[0.8888888888888888,\"#fdca26\"],[1.0,\"#f0f921\"]]}],\"contourcarpet\":[{\"type\":\"contourcarpet\",\"colorbar\":{\"outlinewidth\":0,\"ticks\":\"\"}}],\"contour\":[{\"type\":\"contour\",\"colorbar\":{\"outlinewidth\":0,\"ticks\":\"\"},\"colorscale\":[[0.0,\"#0d0887\"],[0.1111111111111111,\"#46039f\"],[0.2222222222222222,\"#7201a8\"],[0.3333333333333333,\"#9c179e\"],[0.4444444444444444,\"#bd3786\"],[0.5555555555555556,\"#d8576b\"],[0.6666666666666666,\"#ed7953\"],[0.7777777777777778,\"#fb9f3a\"],[0.8888888888888888,\"#fdca26\"],[1.0,\"#f0f921\"]]}],\"surface\":[{\"type\":\"surface\",\"colorbar\":{\"outlinewidth\":0,\"ticks\":\"\"},\"colorscale\":[[0.0,\"#0d0887\"],[0.1111111111111111,\"#46039f\"],[0.2222222222222222,\"#7201a8\"],[0.3333333333333333,\"#9c179e\"],[0.4444444444444444,\"#bd3786\"],[0.5555555555555556,\"#d8576b\"],[0.6666666666666666,\"#ed7953\"],[0.7777777777777778,\"#fb9f3a\"],[0.8888888888888888,\"#fdca26\"],[1.0,\"#f0f921\"]]}],\"mesh3d\":[{\"type\":\"mesh3d\",\"colorbar\":{\"outlinewidth\":0,\"ticks\":\"\"}}],\"scatter\":[{\"fillpattern\":{\"fillmode\":\"overlay\",\"size\":10,\"solidity\":0.2},\"type\":\"scatter\"}],\"parcoords\":[{\"type\":\"parcoords\",\"line\":{\"colorbar\":{\"outlinewidth\":0,\"ticks\":\"\"}}}],\"scatterpolargl\":[{\"type\":\"scatterpolargl\",\"marker\":{\"colorbar\":{\"outlinewidth\":0,\"ticks\":\"\"}}}],\"bar\":[{\"error_x\":{\"color\":\"#2a3f5f\"},\"error_y\":{\"color\":\"#2a3f5f\"},\"marker\":{\"line\":{\"color\":\"#E5ECF6\",\"width\":0.5},\"pattern\":{\"fillmode\":\"overlay\",\"size\":10,\"solidity\":0.2}},\"type\":\"bar\"}],\"scattergeo\":[{\"type\":\"scattergeo\",\"marker\":{\"colorbar\":{\"outlinewidth\":0,\"ticks\":\"\"}}}],\"scatterpolar\":[{\"type\":\"scatterpolar\",\"marker\":{\"colorbar\":{\"outlinewidth\":0,\"ticks\":\"\"}}}],\"histogram\":[{\"marker\":{\"pattern\":{\"fillmode\":\"overlay\",\"size\":10,\"solidity\":0.2}},\"type\":\"histogram\"}],\"scattergl\":[{\"type\":\"scattergl\",\"marker\":{\"colorbar\":{\"outlinewidth\":0,\"ticks\":\"\"}}}],\"scatter3d\":[{\"type\":\"scatter3d\",\"line\":{\"colorbar\":{\"outlinewidth\":0,\"ticks\":\"\"}},\"marker\":{\"colorbar\":{\"outlinewidth\":0,\"ticks\":\"\"}}}],\"scattermapbox\":[{\"type\":\"scattermapbox\",\"marker\":{\"colorbar\":{\"outlinewidth\":0,\"ticks\":\"\"}}}],\"scatterternary\":[{\"type\":\"scatterternary\",\"marker\":{\"colorbar\":{\"outlinewidth\":0,\"ticks\":\"\"}}}],\"scattercarpet\":[{\"type\":\"scattercarpet\",\"marker\":{\"colorbar\":{\"outlinewidth\":0,\"ticks\":\"\"}}}],\"carpet\":[{\"aaxis\":{\"endlinecolor\":\"#2a3f5f\",\"gridcolor\":\"white\",\"linecolor\":\"white\",\"minorgridcolor\":\"white\",\"startlinecolor\":\"#2a3f5f\"},\"baxis\":{\"endlinecolor\":\"#2a3f5f\",\"gridcolor\":\"white\",\"linecolor\":\"white\",\"minorgridcolor\":\"white\",\"startlinecolor\":\"#2a3f5f\"},\"type\":\"carpet\"}],\"table\":[{\"cells\":{\"fill\":{\"color\":\"#EBF0F8\"},\"line\":{\"color\":\"white\"}},\"header\":{\"fill\":{\"color\":\"#C8D4E3\"},\"line\":{\"color\":\"white\"}},\"type\":\"table\"}],\"barpolar\":[{\"marker\":{\"line\":{\"color\":\"#E5ECF6\",\"width\":0.5},\"pattern\":{\"fillmode\":\"overlay\",\"size\":10,\"solidity\":0.2}},\"type\":\"barpolar\"}],\"pie\":[{\"automargin\":true,\"type\":\"pie\"}]},\"layout\":{\"autotypenumbers\":\"strict\",\"colorway\":[\"#636efa\",\"#EF553B\",\"#00cc96\",\"#ab63fa\",\"#FFA15A\",\"#19d3f3\",\"#FF6692\",\"#B6E880\",\"#FF97FF\",\"#FECB52\"],\"font\":{\"color\":\"#2a3f5f\"},\"hovermode\":\"closest\",\"hoverlabel\":{\"align\":\"left\"},\"paper_bgcolor\":\"white\",\"plot_bgcolor\":\"#E5ECF6\",\"polar\":{\"bgcolor\":\"#E5ECF6\",\"angularaxis\":{\"gridcolor\":\"white\",\"linecolor\":\"white\",\"ticks\":\"\"},\"radialaxis\":{\"gridcolor\":\"white\",\"linecolor\":\"white\",\"ticks\":\"\"}},\"ternary\":{\"bgcolor\":\"#E5ECF6\",\"aaxis\":{\"gridcolor\":\"white\",\"linecolor\":\"white\",\"ticks\":\"\"},\"baxis\":{\"gridcolor\":\"white\",\"linecolor\":\"white\",\"ticks\":\"\"},\"caxis\":{\"gridcolor\":\"white\",\"linecolor\":\"white\",\"ticks\":\"\"}},\"coloraxis\":{\"colorbar\":{\"outlinewidth\":0,\"ticks\":\"\"}},\"colorscale\":{\"sequential\":[[0.0,\"#0d0887\"],[0.1111111111111111,\"#46039f\"],[0.2222222222222222,\"#7201a8\"],[0.3333333333333333,\"#9c179e\"],[0.4444444444444444,\"#bd3786\"],[0.5555555555555556,\"#d8576b\"],[0.6666666666666666,\"#ed7953\"],[0.7777777777777778,\"#fb9f3a\"],[0.8888888888888888,\"#fdca26\"],[1.0,\"#f0f921\"]],\"sequentialminus\":[[0.0,\"#0d0887\"],[0.1111111111111111,\"#46039f\"],[0.2222222222222222,\"#7201a8\"],[0.3333333333333333,\"#9c179e\"],[0.4444444444444444,\"#bd3786\"],[0.5555555555555556,\"#d8576b\"],[0.6666666666666666,\"#ed7953\"],[0.7777777777777778,\"#fb9f3a\"],[0.8888888888888888,\"#fdca26\"],[1.0,\"#f0f921\"]],\"diverging\":[[0,\"#8e0152\"],[0.1,\"#c51b7d\"],[0.2,\"#de77ae\"],[0.3,\"#f1b6da\"],[0.4,\"#fde0ef\"],[0.5,\"#f7f7f7\"],[0.6,\"#e6f5d0\"],[0.7,\"#b8e186\"],[0.8,\"#7fbc41\"],[0.9,\"#4d9221\"],[1,\"#276419\"]]},\"xaxis\":{\"gridcolor\":\"white\",\"linecolor\":\"white\",\"ticks\":\"\",\"title\":{\"standoff\":15},\"zerolinecolor\":\"white\",\"automargin\":true,\"zerolinewidth\":2},\"yaxis\":{\"gridcolor\":\"white\",\"linecolor\":\"white\",\"ticks\":\"\",\"title\":{\"standoff\":15},\"zerolinecolor\":\"white\",\"automargin\":true,\"zerolinewidth\":2},\"scene\":{\"xaxis\":{\"backgroundcolor\":\"#E5ECF6\",\"gridcolor\":\"white\",\"linecolor\":\"white\",\"showbackground\":true,\"ticks\":\"\",\"zerolinecolor\":\"white\",\"gridwidth\":2},\"yaxis\":{\"backgroundcolor\":\"#E5ECF6\",\"gridcolor\":\"white\",\"linecolor\":\"white\",\"showbackground\":true,\"ticks\":\"\",\"zerolinecolor\":\"white\",\"gridwidth\":2},\"zaxis\":{\"backgroundcolor\":\"#E5ECF6\",\"gridcolor\":\"white\",\"linecolor\":\"white\",\"showbackground\":true,\"ticks\":\"\",\"zerolinecolor\":\"white\",\"gridwidth\":2}},\"shapedefaults\":{\"line\":{\"color\":\"#2a3f5f\"}},\"annotationdefaults\":{\"arrowcolor\":\"#2a3f5f\",\"arrowhead\":0,\"arrowwidth\":1},\"geo\":{\"bgcolor\":\"white\",\"landcolor\":\"#E5ECF6\",\"subunitcolor\":\"white\",\"showland\":true,\"showlakes\":true,\"lakecolor\":\"white\"},\"title\":{\"x\":0.05},\"mapbox\":{\"style\":\"light\"}}},\"xaxis\":{\"anchor\":\"y\",\"domain\":[0.0,1.0],\"title\":{\"text\":\"Overall Coverage (%)\",\"font\":{\"size\":22,\"color\":\"black\"}}},\"yaxis\":{\"anchor\":\"x\",\"domain\":[0.0,1.0],\"title\":{\"text\":\"Consistency (%)\",\"font\":{\"size\":22,\"color\":\"black\"}}},\"legend\":{\"title\":{\"text\":\"Rule Category\"},\"tracegroupgap\":0,\"itemsizing\":\"constant\",\"font\":{\"size\":19,\"color\":\"black\"}},\"margin\":{\"t\":60},\"annotations\":[{\"ax\":30,\"ay\":-25,\"font\":{\"color\":\"black\",\"size\":24},\"text\":\"Rule 1\",\"x\":0.8059526638076442,\"y\":72.76707530647985},{\"ax\":20,\"ay\":25,\"font\":{\"color\":\"black\",\"size\":24},\"text\":\"Rule 2\",\"x\":0.7828985595889782,\"y\":67.4579326923077},{\"ax\":-30,\"ay\":-20,\"font\":{\"color\":\"black\",\"size\":24},\"text\":\"Rule 3\",\"x\":0.729262480386368,\"y\":67.35483870967742},{\"ax\":30,\"ay\":-30,\"font\":{\"color\":\"black\",\"size\":24},\"text\":\"Rule 4\",\"x\":0.5650607993187277,\"y\":67.61032472939218},{\"ax\":-30,\"ay\":-30,\"font\":{\"color\":\"black\",\"size\":24},\"text\":\"Rule 5\",\"x\":0.5227165262640354,\"y\":67.14671467146715}]},                        {\"responsive\": true}                    ).then(function(){\n",
       "                            \n",
       "var gd = document.getElementById('52e235b1-2fb9-497c-85ed-cc6ea37ab0a4');\n",
       "var x = new MutationObserver(function (mutations, observer) {{\n",
       "        var display = window.getComputedStyle(gd).display;\n",
       "        if (!display || display === 'none') {{\n",
       "            console.log([gd, 'removed!']);\n",
       "            Plotly.purge(gd);\n",
       "            observer.disconnect();\n",
       "        }}\n",
       "}});\n",
       "\n",
       "// Listen for the removal of the full notebook cells\n",
       "var notebookContainer = gd.closest('#notebook-container');\n",
       "if (notebookContainer) {{\n",
       "    x.observe(notebookContainer, {childList: true});\n",
       "}}\n",
       "\n",
       "// Listen for the clearing of the current output cell\n",
       "var outputEl = gd.closest('.output');\n",
       "if (outputEl) {{\n",
       "    x.observe(outputEl, {childList: true});\n",
       "}}\n",
       "\n",
       "                        })                };                });            </script>        </div>"
      ]
     },
     "metadata": {},
     "output_type": "display_data"
    }
   ],
   "source": [
    "import plotly.express as px\n",
    "import pandas as pd\n",
    "\n",
    "# Assuming 'rule_metrics_df_sorted' is the DataFrame from earlier\n",
    "fig = px.scatter(\n",
    "    rule_metrics_df_sorted,\n",
    "    x='Overall Coverage (%)',\n",
    "    y='Consistency (%)',\n",
    "    color='Category',  # Corrected column name\n",
    "    size='Aggregated Score',\n",
    "    hover_data=['Rule', 'Overall Coverage (%)', 'Consistency (%)', 'Relative Coverage (%)'],\n",
    "    color_discrete_map={'High': 'green', 'Medium': 'yellow', 'Low': 'red'}\n",
    ")\n",
    "\n",
    "# Update axis labels to be darker and bigger\n",
    "fig.update_layout(\n",
    "    xaxis_title='Overall Coverage (%)',\n",
    "    yaxis_title='Consistency (%)',\n",
    "    xaxis=dict(title_font=dict(size=22, color='black')),  # Bigger and darker x-axis label\n",
    "    yaxis=dict(title_font=dict(size=22, color='black')),  # Bigger and darker y-axis label\n",
    "    legend_title='Rule Category',\n",
    "    legend=dict(font=dict(size=19, color='black'))  # Bigger and darker legend text\n",
    ")\n",
    "\n",
    "# Define annotation offsets for overlapping points\n",
    "annotation_offsets = {\n",
    "    'Critical rule 0': (30, -25),  # Rule 1: Default position\n",
    "    'Critical rule 2': (20, 25),  # Rule 2: Default position\n",
    "    'Critical rule 1': (-30, -20),  # Rule 3: Default position\n",
    "    'Critical rule 13': (30, -30),  # Rule 4: Move up-left\n",
    "    'Critical rule 5': (-30, -30)  # Rule 5: Move down-right\n",
    "}\n",
    "\n",
    "# Update annotations\n",
    "annotations = {\n",
    "    'Critical rule 0': 'Rule 1',\n",
    "    'Critical rule 2': 'Rule 2',\n",
    "    'Critical rule 1': 'Rule 3',\n",
    "    'Critical rule 13': 'Rule 4',\n",
    "    'Critical rule 5': 'Rule 5'\n",
    "}\n",
    "\n",
    "for rule_name, annotation in annotations.items():\n",
    "    # Get the row corresponding to the rule\n",
    "    rule_row = rule_metrics_df_sorted[rule_metrics_df_sorted['Rule'] == rule_name].iloc[0]\n",
    "    \n",
    "    # Retrieve custom offsets\n",
    "    ax_offset, ay_offset = annotation_offsets[rule_name]\n",
    "    \n",
    "    # Add annotation at the specific point\n",
    "    fig.add_annotation(\n",
    "        x=rule_row['Overall Coverage (%)'],\n",
    "        y=rule_row['Consistency (%)'],\n",
    "        text=annotation,\n",
    "        #showarrow=True,\n",
    "        #arrowhead=4,\n",
    "        ax=ax_offset,  # Apply horizontal offset\n",
    "        ay=ay_offset,  # Apply vertical offset\n",
    "        font=dict(size=24, color=\"black\")  # Bigger and darker annotations\n",
    "    )\n",
    "\n",
    "fig.show()\n"
   ]
  },
  {
   "cell_type": "code",
   "execution_count": 44,
   "id": "8da5b3a8-d7af-461a-8d2a-6f7ff3375318",
   "metadata": {
    "tags": []
   },
   "outputs": [],
   "source": [
    "#Separate the rules into three different DataFrames for Good, Average, and Bad rules\n",
    "good_rules_df = rule_metrics_df_sorted[rule_metrics_df_sorted['Category'] == 'Good']\n",
    "average_rules_df = rule_metrics_df_sorted[rule_metrics_df_sorted['Category'] == 'Average']\n",
    "bad_rules_df = rule_metrics_df_sorted[rule_metrics_df_sorted['Category'] == 'Bad']\n",
    "\n"
   ]
  },
  {
   "cell_type": "code",
   "execution_count": 45,
   "id": "99613f67-a256-4aa5-9c4a-420421f8ed5d",
   "metadata": {
    "tags": []
   },
   "outputs": [
    {
     "name": "stdout",
     "output_type": "stream",
     "text": [
      "11\n"
     ]
    }
   ],
   "source": [
    "print(len(good_rules_df))"
   ]
  },
  {
   "cell_type": "code",
   "execution_count": 46,
   "id": "985b6b7d-4fb9-4795-a8c0-11a65b009e68",
   "metadata": {
    "tags": []
   },
   "outputs": [
    {
     "data": {
      "text/html": [
       "<div>\n",
       "<style scoped>\n",
       "    .dataframe tbody tr th:only-of-type {\n",
       "        vertical-align: middle;\n",
       "    }\n",
       "\n",
       "    .dataframe tbody tr th {\n",
       "        vertical-align: top;\n",
       "    }\n",
       "\n",
       "    .dataframe thead th {\n",
       "        text-align: right;\n",
       "    }\n",
       "</style>\n",
       "<table border=\"1\" class=\"dataframe\">\n",
       "  <thead>\n",
       "    <tr style=\"text-align: right;\">\n",
       "      <th></th>\n",
       "      <th>Rule</th>\n",
       "      <th>Overall Coverage (%)</th>\n",
       "      <th>Consistency (%)</th>\n",
       "      <th>Relative Coverage (%)</th>\n",
       "      <th>Aggregated Score</th>\n",
       "      <th>Category</th>\n",
       "    </tr>\n",
       "  </thead>\n",
       "  <tbody>\n",
       "    <tr>\n",
       "      <th>28</th>\n",
       "      <td>Critical rule 0</td>\n",
       "      <td>0.805953</td>\n",
       "      <td>72.767075</td>\n",
       "      <td>8.849840</td>\n",
       "      <td>1.992299</td>\n",
       "      <td>Good</td>\n",
       "    </tr>\n",
       "    <tr>\n",
       "      <th>6</th>\n",
       "      <td>Critical rule 2</td>\n",
       "      <td>0.782899</td>\n",
       "      <td>67.457933</td>\n",
       "      <td>7.969471</td>\n",
       "      <td>1.800183</td>\n",
       "      <td>Good</td>\n",
       "    </tr>\n",
       "    <tr>\n",
       "      <th>42</th>\n",
       "      <td>Critical rule 1</td>\n",
       "      <td>0.729262</td>\n",
       "      <td>67.354839</td>\n",
       "      <td>7.412141</td>\n",
       "      <td>1.688139</td>\n",
       "      <td>Good</td>\n",
       "    </tr>\n",
       "    <tr>\n",
       "      <th>22</th>\n",
       "      <td>Critical rule 13</td>\n",
       "      <td>0.565061</td>\n",
       "      <td>67.610325</td>\n",
       "      <td>5.764998</td>\n",
       "      <td>1.358656</td>\n",
       "      <td>Good</td>\n",
       "    </tr>\n",
       "    <tr>\n",
       "      <th>12</th>\n",
       "      <td>Critical rule 5</td>\n",
       "      <td>0.522717</td>\n",
       "      <td>67.146715</td>\n",
       "      <td>5.296415</td>\n",
       "      <td>1.263337</td>\n",
       "      <td>Good</td>\n",
       "    </tr>\n",
       "    <tr>\n",
       "      <th>36</th>\n",
       "      <td>Critical rule 35</td>\n",
       "      <td>0.408857</td>\n",
       "      <td>73.014960</td>\n",
       "      <td>4.504792</td>\n",
       "      <td>1.122048</td>\n",
       "      <td>Good</td>\n",
       "    </tr>\n",
       "    <tr>\n",
       "      <th>37</th>\n",
       "      <td>Critical rule 27</td>\n",
       "      <td>0.444615</td>\n",
       "      <td>68.095238</td>\n",
       "      <td>4.568690</td>\n",
       "      <td>1.120247</td>\n",
       "      <td>Good</td>\n",
       "    </tr>\n",
       "    <tr>\n",
       "      <th>3</th>\n",
       "      <td>Critical rule 19</td>\n",
       "      <td>0.404858</td>\n",
       "      <td>66.937827</td>\n",
       "      <td>4.089457</td>\n",
       "      <td>1.020729</td>\n",
       "      <td>Good</td>\n",
       "    </tr>\n",
       "    <tr>\n",
       "      <th>10</th>\n",
       "      <td>Critical rule 11</td>\n",
       "      <td>0.326286</td>\n",
       "      <td>75.054074</td>\n",
       "      <td>3.695421</td>\n",
       "      <td>0.965878</td>\n",
       "      <td>Good</td>\n",
       "    </tr>\n",
       "    <tr>\n",
       "      <th>2</th>\n",
       "      <td>Critical rule 17</td>\n",
       "      <td>0.361573</td>\n",
       "      <td>68.640208</td>\n",
       "      <td>3.745119</td>\n",
       "      <td>0.956752</td>\n",
       "      <td>Good</td>\n",
       "    </tr>\n",
       "    <tr>\n",
       "      <th>18</th>\n",
       "      <td>Critical rule 8</td>\n",
       "      <td>0.327698</td>\n",
       "      <td>68.987796</td>\n",
       "      <td>3.411431</td>\n",
       "      <td>0.890888</td>\n",
       "      <td>Good</td>\n",
       "    </tr>\n",
       "  </tbody>\n",
       "</table>\n",
       "</div>"
      ],
      "text/plain": [
       "                Rule  Overall Coverage (%)  Consistency (%)  \\\n",
       "28   Critical rule 0              0.805953        72.767075   \n",
       "6    Critical rule 2              0.782899        67.457933   \n",
       "42   Critical rule 1              0.729262        67.354839   \n",
       "22  Critical rule 13              0.565061        67.610325   \n",
       "12   Critical rule 5              0.522717        67.146715   \n",
       "36  Critical rule 35              0.408857        73.014960   \n",
       "37  Critical rule 27              0.444615        68.095238   \n",
       "3   Critical rule 19              0.404858        66.937827   \n",
       "10  Critical rule 11              0.326286        75.054074   \n",
       "2   Critical rule 17              0.361573        68.640208   \n",
       "18   Critical rule 8              0.327698        68.987796   \n",
       "\n",
       "    Relative Coverage (%)  Aggregated Score Category  \n",
       "28               8.849840          1.992299     Good  \n",
       "6                7.969471          1.800183     Good  \n",
       "42               7.412141          1.688139     Good  \n",
       "22               5.764998          1.358656     Good  \n",
       "12               5.296415          1.263337     Good  \n",
       "36               4.504792          1.122048     Good  \n",
       "37               4.568690          1.120247     Good  \n",
       "3                4.089457          1.020729     Good  \n",
       "10               3.695421          0.965878     Good  \n",
       "2                3.745119          0.956752     Good  \n",
       "18               3.411431          0.890888     Good  "
      ]
     },
     "execution_count": 46,
     "metadata": {},
     "output_type": "execute_result"
    }
   ],
   "source": [
    "good_rules_df"
   ]
  },
  {
   "cell_type": "code",
   "execution_count": null,
   "id": "2ccc7d02-0b9b-4383-b190-75c55f1db544",
   "metadata": {},
   "outputs": [],
   "source": []
  },
  {
   "cell_type": "code",
   "execution_count": null,
   "id": "fac76148-d4d3-4c1b-9ff9-c6afcfe30aed",
   "metadata": {},
   "outputs": [],
   "source": []
  },
  {
   "cell_type": "code",
   "execution_count": null,
   "id": "98739009-1f34-4aca-93f7-799a65ce119a",
   "metadata": {},
   "outputs": [],
   "source": []
  },
  {
   "cell_type": "markdown",
   "id": "f98ba9eb-9436-4c36-bb5c-33aa148bd7f0",
   "metadata": {
    "tags": []
   },
   "source": [
    "## Sampling Methods Experiment"
   ]
  },
  {
   "cell_type": "code",
   "execution_count": null,
   "id": "cd350d7c-7dac-4896-852c-9f8f17ce81e9",
   "metadata": {},
   "outputs": [
    {
     "name": "stderr",
     "output_type": "stream",
     "text": [
      "/home/cstylianides/anaconda3/lib/python3.11/site-packages/keras/src/layers/core/dense.py:87: UserWarning: Do not pass an `input_shape`/`input_dim` argument to a layer. When using Sequential models, prefer using an `Input(shape)` object as the first layer in the model instead.\n",
      "  super().__init__(activity_regularizer=activity_regularizer, **kwargs)\n",
      "WARNING: All log messages before absl::InitializeLog() is called are written to STDERR\n",
      "I0000 00:00:1744371560.948226  676228 cuda_executor.cc:1015] successful NUMA node read from SysFS had negative value (-1), but there must be at least one NUMA node, so returning NUMA node zero. See more at https://github.com/torvalds/linux/blob/v6.0/Documentation/ABI/testing/sysfs-bus-pci#L344-L355\n",
      "I0000 00:00:1744371560.987999  676228 cuda_executor.cc:1015] successful NUMA node read from SysFS had negative value (-1), but there must be at least one NUMA node, so returning NUMA node zero. See more at https://github.com/torvalds/linux/blob/v6.0/Documentation/ABI/testing/sysfs-bus-pci#L344-L355\n",
      "I0000 00:00:1744371560.991310  676228 cuda_executor.cc:1015] successful NUMA node read from SysFS had negative value (-1), but there must be at least one NUMA node, so returning NUMA node zero. See more at https://github.com/torvalds/linux/blob/v6.0/Documentation/ABI/testing/sysfs-bus-pci#L344-L355\n",
      "I0000 00:00:1744371560.995556  676228 cuda_executor.cc:1015] successful NUMA node read from SysFS had negative value (-1), but there must be at least one NUMA node, so returning NUMA node zero. See more at https://github.com/torvalds/linux/blob/v6.0/Documentation/ABI/testing/sysfs-bus-pci#L344-L355\n",
      "I0000 00:00:1744371561.000183  676228 cuda_executor.cc:1015] successful NUMA node read from SysFS had negative value (-1), but there must be at least one NUMA node, so returning NUMA node zero. See more at https://github.com/torvalds/linux/blob/v6.0/Documentation/ABI/testing/sysfs-bus-pci#L344-L355\n",
      "I0000 00:00:1744371561.003145  676228 cuda_executor.cc:1015] successful NUMA node read from SysFS had negative value (-1), but there must be at least one NUMA node, so returning NUMA node zero. See more at https://github.com/torvalds/linux/blob/v6.0/Documentation/ABI/testing/sysfs-bus-pci#L344-L355\n",
      "I0000 00:00:1744371561.190463  676228 cuda_executor.cc:1015] successful NUMA node read from SysFS had negative value (-1), but there must be at least one NUMA node, so returning NUMA node zero. See more at https://github.com/torvalds/linux/blob/v6.0/Documentation/ABI/testing/sysfs-bus-pci#L344-L355\n",
      "I0000 00:00:1744371561.191868  676228 cuda_executor.cc:1015] successful NUMA node read from SysFS had negative value (-1), but there must be at least one NUMA node, so returning NUMA node zero. See more at https://github.com/torvalds/linux/blob/v6.0/Documentation/ABI/testing/sysfs-bus-pci#L344-L355\n",
      "I0000 00:00:1744371561.193160  676228 cuda_executor.cc:1015] successful NUMA node read from SysFS had negative value (-1), but there must be at least one NUMA node, so returning NUMA node zero. See more at https://github.com/torvalds/linux/blob/v6.0/Documentation/ABI/testing/sysfs-bus-pci#L344-L355\n",
      "2025-04-11 14:39:21.194324: I tensorflow/core/common_runtime/gpu/gpu_device.cc:2021] Created device /job:localhost/replica:0/task:0/device:GPU:0 with 8390 MB memory:  -> device: 0, name: NVIDIA GeForce RTX 3080 Ti, pci bus id: 0000:01:00.0, compute capability: 8.6\n"
     ]
    }
   ],
   "source": [
    "import numpy as np\n",
    "import pandas as pd\n",
    "import matplotlib.pyplot as plt\n",
    "import seaborn as sns\n",
    "\n",
    "from sklearn.model_selection import train_test_split, StratifiedKFold\n",
    "from sklearn.metrics import (\n",
    "    accuracy_score, roc_auc_score, f1_score, confusion_matrix,\n",
    "    precision_recall_curve, roc_curve\n",
    ")\n",
    "from sklearn.ensemble import RandomForestClassifier, GradientBoostingClassifier\n",
    "from sklearn.linear_model import LogisticRegression\n",
    "from keras.models import Sequential\n",
    "from keras.layers import Dense\n",
    "from keras.optimizers import Adam\n",
    "from keras.losses import BinaryCrossentropy\n",
    "\n",
    "from imblearn.over_sampling import SMOTE, ADASYN\n",
    "from imblearn.under_sampling import TomekLinks\n",
    "from imblearn.combine import SMOTETomek, SMOTEENN\n",
    "\n",
    "# 📌 Selected Features\n",
    "variable = [\n",
    "    'triage_acuity_iter_numeric',\n",
    "    'arrival_transport_encoded',\n",
    "    'score_NEWS_numeric',\n",
    "    'triage_sbp_iter_numeric',\n",
    "    'med_event',\n",
    "    'score_CART_numeric',\n",
    "    'score_CCI_numeric',\n",
    "    'n_icu_365d_numeric',\n",
    "    'triage_heartrate_iter_numeric',\n",
    "    'triage_resprate_iter_numeric',\n",
    "    'age_numeric',\n",
    "    'triage_dbp_iter_numeric',\n",
    "    'triage_pain_iter_numeric',\n",
    "    'score_NEWS2_numeric',\n",
    "    'n_ed_365d_numeric'\n",
    "\n",
    "]\n",
    "# 📌 Define the Target Variable\n",
    "target = \"outcome_critical\"\n",
    "\n",
    "# 📌 Prepare Dataset\n",
    "X = df_master[variable]\n",
    "y = df_master[target]\n",
    "\n",
    "# 📌 Split dataset into Training & Testing sets\n",
    "X_train, X_test, y_train, y_test = train_test_split(X, y, test_size=0.2, random_state=42, stratify=y)\n",
    "\n",
    "# 📌 Define Resampling Techniques\n",
    "sampling_techniques = {\n",
    "    'SMOTE': SMOTE(random_state=42),\n",
    "    'ADASYN': ADASYN(random_state=42),\n",
    "    'TomekLinks': TomekLinks(),\n",
    "    'SMOTETomek': SMOTETomek(random_state=42),\n",
    "    'SMOTEENN': SMOTEENN(random_state=42)\n",
    "}\n",
    "\n",
    "# 📌 Function to Create MLP Model\n",
    "def create_mlp():\n",
    "    model = Sequential([\n",
    "        Dense(64, activation='relu', input_dim=X_train.shape[1]),\n",
    "        Dense(32, activation='relu'),\n",
    "        Dense(1, activation='sigmoid')\n",
    "    ])\n",
    "    model.compile(optimizer=Adam(learning_rate=0.001), loss=BinaryCrossentropy(), metrics=['AUC'])\n",
    "    return model\n",
    "\n",
    "# 📌 Initialize Classifiers\n",
    "classifiers = {\n",
    "    'GradientBoosting': GradientBoostingClassifier(n_estimators=100, random_state=42),\n",
    "    'RandomForest': RandomForestClassifier(n_estimators=100, random_state=42),\n",
    "    'LogisticRegression': LogisticRegression(random_state=42),\n",
    "}\n",
    "\n",
    "# 📌 Stratified 5-Fold Cross-Validation\n",
    "n_splits = 5\n",
    "skf = StratifiedKFold(n_splits=n_splits, shuffle=True, random_state=42)\n",
    "\n",
    "# 📌 Store Results\n",
    "results = {}\n",
    "\n",
    "# 📌 Loop over Sampling Techniques\n",
    "for technique_name, sampler in sampling_techniques.items():\n",
    "    for classifier_name, classifier in {**classifiers, 'MLP': None}.items():  # Handle MLP separately\n",
    "        accuracy_list, auc_list, specificity_list, sensitivity_list, f1_list = [], [], [], [], []\n",
    "\n",
    "        for train_index, val_index in skf.split(X_train, y_train):\n",
    "            # 📌 Split the data into Training & Validation sets\n",
    "            X_train_fold, X_val_fold = X_train.iloc[train_index], X_train.iloc[val_index]\n",
    "            y_train_fold, y_val_fold = y_train.iloc[train_index], y_train.iloc[val_index]\n",
    "\n",
    "            # 📌 Apply Resampling to Training Data\n",
    "            X_train_resampled, y_train_resampled = sampler.fit_resample(X_train_fold, y_train_fold)\n",
    "\n",
    "            # 📌 Train Model\n",
    "            if classifier_name == 'MLP':\n",
    "                classifier = create_mlp()  # Reinitialize MLP for each fold\n",
    "                classifier.fit(X_train_resampled, y_train_resampled, batch_size=200, epochs=20, verbose=0)\n",
    "            else:\n",
    "                classifier.fit(X_train_resampled, y_train_resampled)\n",
    "\n",
    "            # 📌 Predictions\n",
    "            if classifier_name == 'MLP':\n",
    "                y_val_pred = (classifier.predict(X_val_fold) > 0.5).astype(int)\n",
    "                y_val_pred_prob = classifier.predict(X_val_fold)\n",
    "            else:\n",
    "                y_val_pred = classifier.predict(X_val_fold)\n",
    "                y_val_pred_prob = classifier.predict_proba(X_val_fold)[:, 1]\n",
    "\n",
    "            # 📌 Compute Metrics\n",
    "            accuracy = accuracy_score(y_val_fold, y_val_pred)\n",
    "            auc_score = roc_auc_score(y_val_fold, y_val_pred_prob)\n",
    "            tn, fp, fn, tp = confusion_matrix(y_val_fold, y_val_pred).ravel()\n",
    "            specificity = tn / (tn + fp) if (tn + fp) > 0 else 0\n",
    "            sensitivity = tp / (tp + fn) if (tp + fn) > 0 else 0\n",
    "            f1 = f1_score(y_val_fold, y_val_pred)\n",
    "\n",
    "            # 📌 Store Metrics\n",
    "            accuracy_list.append(accuracy)\n",
    "            auc_list.append(auc_score)\n",
    "            specificity_list.append(specificity)\n",
    "            sensitivity_list.append(sensitivity)\n",
    "            f1_list.append(f1)\n",
    "\n",
    "        # 📌 Average Results\n",
    "        results[f\"{technique_name}_{classifier_name}\"] = {\n",
    "            'Accuracy': (np.mean(accuracy_list), np.std(accuracy_list)),\n",
    "            'AUC': (np.mean(auc_list), np.std(auc_list)),\n",
    "            'Specificity': (np.mean(specificity_list), np.std(specificity_list)),\n",
    "            'Sensitivity': (np.mean(sensitivity_list), np.std(sensitivity_list)),\n",
    "            'F1 Score': (np.mean(f1_list), np.std(f1_list))\n",
    "        }\n",
    "\n",
    "# 📌 Convert Results to DataFrame\n",
    "results_df = pd.DataFrame(results).T\n",
    "print(results_df)\n",
    "\n",
    "# 📌 Plot Confusion Matrices for Test Set\n",
    "fig, axes = plt.subplots(len(sampling_techniques), len(classifiers) + 1, figsize=(20, 20))\n",
    "fig.tight_layout(pad=5.0)\n",
    "\n",
    "for i, (technique_name, sampler) in enumerate(sampling_techniques.items()):\n",
    "    for j, (classifier_name, classifier) in enumerate({**classifiers, 'MLP': None}.items()):\n",
    "        # 📌 Apply Sampling to Training Data\n",
    "        X_train_resampled, y_train_resampled = sampler.fit_resample(X_train, y_train)\n",
    "\n",
    "        # 📌 Train Model\n",
    "        if classifier_name == 'MLP':\n",
    "            classifier = create_mlp()\n",
    "            classifier.fit(X_train_resampled, y_train_resampled, batch_size=200, epochs=20, verbose=0)\n",
    "        else:\n",
    "            classifier.fit(X_train_resampled, y_train_resampled)\n",
    "\n",
    "        # 📌 Predict on Test Set\n",
    "        y_test_pred = (classifier.predict(X_test) > 0.5).astype(int) if classifier_name == 'MLP' else classifier.predict(X_test)\n",
    "\n",
    "        # 📌 Confusion Matrix\n",
    "        cm = confusion_matrix(y_test, y_test_pred)\n",
    "        sns.heatmap(cm, annot=True, fmt=\"d\", cmap=\"Blues\", ax=axes[i, j])\n",
    "        axes[i, j].set_title(f\"{technique_name} + {classifier_name}\")\n",
    "\n",
    "# 📌 Save & Show Plot\n",
    "plt.subplots_adjust(top=0.95)\n",
    "plt.savefig('confusion_matrices_percentage_all_new_15.png')\n",
    "plt.show()"
   ]
  },
  {
   "cell_type": "code",
   "execution_count": null,
   "id": "daf452ab-5dce-4aa2-925d-bb3c3661d644",
   "metadata": {},
   "outputs": [],
   "source": []
  },
  {
   "cell_type": "code",
   "execution_count": null,
   "id": "7b0ddfe3-2656-4f0a-ade7-dd12f4c56c67",
   "metadata": {},
   "outputs": [],
   "source": []
  },
  {
   "cell_type": "code",
   "execution_count": null,
   "id": "ac644b3b-d2bf-48a6-85fd-19c40f65179f",
   "metadata": {},
   "outputs": [],
   "source": []
  },
  {
   "cell_type": "code",
   "execution_count": null,
   "id": "79156756-4068-4472-aca0-630d9770c781",
   "metadata": {},
   "outputs": [],
   "source": []
  },
  {
   "cell_type": "code",
   "execution_count": null,
   "id": "384d849f-e028-4dcc-bb89-0a3a54d1538b",
   "metadata": {},
   "outputs": [],
   "source": []
  },
  {
   "cell_type": "code",
   "execution_count": null,
   "id": "e24ecb00-be6e-4a20-b331-1c509a6d0767",
   "metadata": {},
   "outputs": [],
   "source": []
  }
 ],
 "metadata": {
  "kernelspec": {
   "display_name": "Python 3 (ipykernel)",
   "language": "python",
   "name": "python3"
  },
  "language_info": {
   "codemirror_mode": {
    "name": "ipython",
    "version": 3
   },
   "file_extension": ".py",
   "mimetype": "text/x-python",
   "name": "python",
   "nbconvert_exporter": "python",
   "pygments_lexer": "ipython3",
   "version": "3.11.4"
  }
 },
 "nbformat": 4,
 "nbformat_minor": 5
}
